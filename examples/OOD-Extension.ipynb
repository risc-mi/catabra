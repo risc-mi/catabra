{
 "cells": [
  {
   "cell_type": "markdown",
   "id": "a61bdf84",
   "metadata": {},
   "source": [
    "# Add New Out-of-Distribution Detector"
   ]
  },
  {
   "cell_type": "markdown",
   "id": "49fd2f58",
   "metadata": {},
   "source": [
    "---"
   ]
  },
  {
   "cell_type": "markdown",
   "id": "9ff4ed13",
   "metadata": {},
   "source": [
    "This notebook is part of the [CaTabRa GitHub repository](https://github.com/risc-mi/catabra)."
   ]
  },
  {
   "cell_type": "markdown",
   "id": "8d106c9e",
   "metadata": {},
   "source": [
    "This notebook demonstrates how a new Out-of-Distribution (OOD) detector can be added to CaTabRa, i.e.,\n",
    "* [how it can be implemented](#Implement-Random-OOD-Detector), and\n",
    "* [how it can be utilized in CaTabRa's data analysis workflow](#Utilize-Random-OOD-Detector)."
   ]
  },
  {
   "cell_type": "markdown",
   "id": "904c24db",
   "metadata": {},
   "source": [
    "## Implement Random OOD-Detector"
   ]
  },
  {
   "cell_type": "markdown",
   "id": "70e9b678",
   "metadata": {},
   "source": [
    "We implement a new dummy OOD-detector that assigns random OOD probabilities to each sample.\n",
    "\n",
    "If you intend to actually add a proper new OOD detector, have a look at the implementation of one of the default detectors, like [`catabra.ood.pyod`](https://github.com/risc-mi/catabra/tree/main/catabra/ood/pyod.py)."
   ]
  },
  {
   "cell_type": "code",
   "execution_count": 1,
   "id": "576ce51e",
   "metadata": {},
   "outputs": [],
   "source": [
    "import numpy as np\n",
    "import pandas as pd\n",
    "\n",
    "from catabra.ood.base import OODDetector"
   ]
  },
  {
   "cell_type": "markdown",
   "id": "c6692745",
   "metadata": {},
   "source": [
    "OOD-detectors need to implement the abstract base class [`catabra.ood.base.OODDetector`](https://github.com/risc-mi/catabra/tree/main/catabra/ood/base.py). The main methods of interest are `_fit_transformed()` and `_predict_proba_transformed()` for fitting the detector on training data and applying it to unseen samples, respectively."
   ]
  },
  {
   "cell_type": "code",
   "execution_count": 2,
   "id": "d7e73a34",
   "metadata": {},
   "outputs": [],
   "source": [
    "class RandomOODDetector(OODDetector):\n",
    "    \n",
    "    def _fit_transformer(self, X: pd.DataFrame):\n",
    "        pass\n",
    "\n",
    "    def _transform(self, X: pd.DataFrame):\n",
    "        return X\n",
    "\n",
    "    def _fit_transformed(self, X: pd.DataFrame, y: pd.Series):\n",
    "        pass\n",
    "\n",
    "    def _predict_transformed(self, X):\n",
    "        return self._predict_proba_transformed(X) >= 0.5\n",
    "\n",
    "    def _predict_proba_transformed(self, X):\n",
    "        return np.random.uniform(0, 1, size=len(X))"
   ]
  },
  {
   "cell_type": "markdown",
   "id": "e43c1543",
   "metadata": {},
   "source": [
    "## Utilize Random OOD-Detector"
   ]
  },
  {
   "cell_type": "code",
   "execution_count": 3,
   "id": "232a4f1e",
   "metadata": {},
   "outputs": [],
   "source": [
    "# load dataset\n",
    "from sklearn.datasets import load_breast_cancer\n",
    "X, y = load_breast_cancer(as_frame=True, return_X_y=True)"
   ]
  },
  {
   "cell_type": "code",
   "execution_count": 4,
   "id": "aeb612d7",
   "metadata": {},
   "outputs": [],
   "source": [
    "# add target labels to DataFrame\n",
    "X['diagnosis'] = y"
   ]
  },
  {
   "cell_type": "code",
   "execution_count": 5,
   "id": "77612650",
   "metadata": {},
   "outputs": [],
   "source": [
    "# split into train- and test set by adding column with corresponding values\n",
    "# the name of the column is arbitrary; CaTabRa tries to \"guess\" which samples belong to which set based on the column name and -values\n",
    "X['train'] = X.index <= 0.8 * len(X)"
   ]
  },
  {
   "cell_type": "markdown",
   "id": "ea6b82d2",
   "metadata": {},
   "source": [
    "When analyzing the data, we inform CaTabRa that we want to use the new dummy OOD-detector by adjusting the config dict:"
   ]
  },
  {
   "cell_type": "code",
   "execution_count": 6,
   "id": "71fb98ea",
   "metadata": {},
   "outputs": [
    {
     "name": "stdout",
     "output_type": "stream",
     "text": [
      "Output folder \"/mnt/c/Users/amaletzk/Documents/CaTabRa/catabra/examples/random_ood_example\" already exists. Delete? [y/n] y\n",
      "[CaTabRa] ### Analysis started at 2023-02-13 08:52:47.970930\n",
      "[CaTabRa] Saving descriptive statistics completed\n",
      "[CaTabRa] ### Analysis finished at 2023-02-13 08:52:50.348169\n",
      "[CaTabRa] ### Elapsed time: 0 days 00:00:02.377239\n",
      "[CaTabRa] ### Output saved in /mnt/c/Users/amaletzk/Documents/CaTabRa/catabra/examples/random_ood_example\n",
      "[CaTabRa] ### Evaluation started at 2023-02-13 08:52:50.400599\n",
      "[CaTabRa] Predicting out-of-distribution samples.\n",
      "[CaTabRa] Saving descriptive statistics completed\n",
      "[CaTabRa] Saving descriptive statistics completed\n",
      "[CaTabRa] ### Evaluation finished at 2023-02-13 08:52:51.023008\n",
      "[CaTabRa] ### Elapsed time: 0 days 00:00:00.622409\n",
      "[CaTabRa] ### Output saved in /mnt/c/Users/amaletzk/Documents/CaTabRa/catabra/examples/random_ood_example/eval\n"
     ]
    }
   ],
   "source": [
    "from catabra.analysis import analyze\n",
    "\n",
    "analyze(\n",
    "    X,\n",
    "    classify='diagnosis',     # name of column containing classification target\n",
    "    split='train',            # name of column containing information about the train-test split (optional)\n",
    "    out='random_ood_example',\n",
    "    config={\n",
    "        'automl': None,                     # deactivate model building\n",
    "        'ood_source': 'external',           # set to \"external\" for custom detectors\n",
    "        'ood_class': '__main__.RandomOODDetector'    # name (and module) of the OODDetector subclass\n",
    "    }\n",
    ")"
   ]
  },
  {
   "cell_type": "markdown",
   "id": "248399f9",
   "metadata": {},
   "source": [
    "Although we deactivated model building by setting `\"automl\"` to `None`, there is still an `eval/` directory with descriptive statistics of training- and test set, and OOD probabilities:"
   ]
  },
  {
   "cell_type": "code",
   "execution_count": 6,
   "id": "ad58a607",
   "metadata": {},
   "outputs": [],
   "source": [
    "from catabra.util import io"
   ]
  },
  {
   "cell_type": "code",
   "execution_count": 7,
   "id": "78776653",
   "metadata": {},
   "outputs": [
    {
     "data": {
      "text/html": [
       "<div>\n",
       "<style scoped>\n",
       "    .dataframe tbody tr th:only-of-type {\n",
       "        vertical-align: middle;\n",
       "    }\n",
       "\n",
       "    .dataframe tbody tr th {\n",
       "        vertical-align: top;\n",
       "    }\n",
       "\n",
       "    .dataframe thead th {\n",
       "        text-align: right;\n",
       "    }\n",
       "</style>\n",
       "<table border=\"1\" class=\"dataframe\">\n",
       "  <thead>\n",
       "    <tr style=\"text-align: right;\">\n",
       "      <th></th>\n",
       "      <th>proba</th>\n",
       "      <th>decision</th>\n",
       "    </tr>\n",
       "    <tr>\n",
       "      <th>Unnamed: 0</th>\n",
       "      <th></th>\n",
       "      <th></th>\n",
       "    </tr>\n",
       "  </thead>\n",
       "  <tbody>\n",
       "    <tr>\n",
       "      <th>456</th>\n",
       "      <td>0.149550</td>\n",
       "      <td>True</td>\n",
       "    </tr>\n",
       "    <tr>\n",
       "      <th>457</th>\n",
       "      <td>0.300978</td>\n",
       "      <td>True</td>\n",
       "    </tr>\n",
       "    <tr>\n",
       "      <th>458</th>\n",
       "      <td>0.676700</td>\n",
       "      <td>True</td>\n",
       "    </tr>\n",
       "    <tr>\n",
       "      <th>459</th>\n",
       "      <td>0.118917</td>\n",
       "      <td>False</td>\n",
       "    </tr>\n",
       "    <tr>\n",
       "      <th>460</th>\n",
       "      <td>0.641352</td>\n",
       "      <td>True</td>\n",
       "    </tr>\n",
       "  </tbody>\n",
       "</table>\n",
       "</div>"
      ],
      "text/plain": [
       "               proba  decision\n",
       "Unnamed: 0                    \n",
       "456         0.149550      True\n",
       "457         0.300978      True\n",
       "458         0.676700      True\n",
       "459         0.118917     False\n",
       "460         0.641352      True"
      ]
     },
     "execution_count": 7,
     "metadata": {},
     "output_type": "execute_result"
    }
   ],
   "source": [
    "io.read_df('random_ood_example/eval/not_train/ood.xlsx').set_index('Unnamed: 0').head()"
   ]
  },
  {
   "cell_type": "markdown",
   "id": "4721395e",
   "metadata": {},
   "source": [
    "The OOD detector can be applied to unseen samples using the `apply()` function, as usual:"
   ]
  },
  {
   "cell_type": "code",
   "execution_count": 8,
   "id": "cb6dd2a5",
   "metadata": {},
   "outputs": [
    {
     "name": "stdout",
     "output_type": "stream",
     "text": [
      "Application folder \"/mnt/c/Users/amaletzk/Documents/CaTabRa/catabra/examples/random_ood_example/apply\" already exists. Delete? [y/n] y\n",
      "[CaTabRa] ### Application started at 2023-02-13 09:07:09.017188\n",
      "[CaTabRa] Predicting out-of-distribution samples.\n",
      "[CaTabRa] ### Application finished at 2023-02-13 09:07:10.864471\n",
      "[CaTabRa] ### Elapsed time: 0 days 00:00:01.847283\n",
      "[CaTabRa] ### Output saved in /mnt/c/Users/amaletzk/Documents/CaTabRa/catabra/examples/random_ood_example/apply\n"
     ]
    }
   ],
   "source": [
    "from catabra.application import apply\n",
    "\n",
    "apply(\n",
    "    X,\n",
    "    folder='random_ood_example',\n",
    "    from_invocation='random_ood_example/invocation.json',\n",
    "    out='random_ood_example/apply'\n",
    ")"
   ]
  }
 ],
 "metadata": {
  "kernelspec": {
   "display_name": "Python 3 (ipykernel)",
   "language": "python",
   "name": "python3"
  },
  "language_info": {
   "codemirror_mode": {
    "name": "ipython",
    "version": 3
   },
   "file_extension": ".py",
   "mimetype": "text/x-python",
   "name": "python",
   "nbconvert_exporter": "python",
   "pygments_lexer": "ipython3",
   "version": "3.9.7"
  }
 },
 "nbformat": 4,
 "nbformat_minor": 5
}

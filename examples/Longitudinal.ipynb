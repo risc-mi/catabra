{
 "cells": [
  {
   "cell_type": "markdown",
   "id": "df61c71c",
   "metadata": {},
   "source": [
    "# Processing Longitudinal Data"
   ]
  },
  {
   "cell_type": "markdown",
   "id": "81c2f15e",
   "metadata": {},
   "source": [
    "---"
   ]
  },
  {
   "cell_type": "markdown",
   "id": "8f87f0a8",
   "metadata": {},
   "source": [
    "This notebook is part of the [CaTabRa GitHub repository](https://github.com/risc-mi/catabra)."
   ]
  },
  {
   "cell_type": "markdown",
   "id": "d4535a59",
   "metadata": {},
   "source": [
    "This example demonstrates how *[longitudinal data](https://en.wikipedia.org/wiki/Panel_data)* (also called *panel data*) can be effectively used with CaTabRa. In particular, it shows how such data can be brought into a form that can be input into CaTabRa's [data analysis workflow](https://catabra.readthedocs.io/en/latest/jupyter/workflow.html).\n",
    "\n",
    "Longitudinal data are similar to time series data, but have another dimension: measurements are taken for more than one individual. They frequently appear in medicine and econometrics."
   ]
  },
  {
   "cell_type": "markdown",
   "id": "11c5c1c8",
   "metadata": {},
   "source": [
    "Table of contents:\n",
    "\n",
    "1. [Create Synthetic Dataset](#Create-Synthetic-Dataset)\n",
    "2. [Example Use-Case](#Example-Use-Case)\n",
    "3. [Resample](#Resample)\n",
    "4. [Closing Remarks](#Closing-Remarks)"
   ]
  },
  {
   "cell_type": "markdown",
   "id": "ad8eeb47",
   "metadata": {},
   "source": [
    "## Prerequisites"
   ]
  },
  {
   "cell_type": "code",
   "execution_count": 1,
   "id": "5a16a23c",
   "metadata": {},
   "outputs": [],
   "source": [
    "import numpy as np\n",
    "import pandas as pd"
   ]
  },
  {
   "cell_type": "markdown",
   "id": "743b8983",
   "metadata": {},
   "source": [
    "## Create Synthetic Dataset"
   ]
  },
  {
   "cell_type": "markdown",
   "id": "0f110f1a",
   "metadata": {},
   "source": [
    "For demonstration purposes we create a synthetic dataset of laboratory tests at a hospital over a period of 10 years. Each test is characterized by the subject (patient) it belongs to, a timestamp, the name of the measured parameter, and the measured value. Laboratory tests are usually performed manually, so we cannot rely on a specific measurement frequency."
   ]
  },
  {
   "cell_type": "code",
   "execution_count": 2,
   "id": "d5c3f525",
   "metadata": {},
   "outputs": [],
   "source": [
    "rng = np.random.RandomState(seed=1234)"
   ]
  },
  {
   "cell_type": "code",
   "execution_count": 3,
   "id": "9bb910f4",
   "metadata": {},
   "outputs": [],
   "source": [
    "# create subjects; subjects are characterized by unique identifier and hospital admission time\n",
    "subjects = pd.DataFrame(index=pd.RangeIndex(10000, name='subject_id'))\n",
    "subjects['admission_date'] = \\\n",
    "    pd.to_timedelta(rng.randint(10 * 365, size=len(subjects)), unit='d') + pd.Timestamp('2010-01-01')"
   ]
  },
  {
   "cell_type": "code",
   "execution_count": 4,
   "id": "3c503883",
   "metadata": {},
   "outputs": [
    {
     "data": {
      "text/html": [
       "<div>\n",
       "<style scoped>\n",
       "    .dataframe tbody tr th:only-of-type {\n",
       "        vertical-align: middle;\n",
       "    }\n",
       "\n",
       "    .dataframe tbody tr th {\n",
       "        vertical-align: top;\n",
       "    }\n",
       "\n",
       "    .dataframe thead th {\n",
       "        text-align: right;\n",
       "    }\n",
       "</style>\n",
       "<table border=\"1\" class=\"dataframe\">\n",
       "  <thead>\n",
       "    <tr style=\"text-align: right;\">\n",
       "      <th></th>\n",
       "      <th>admission_date</th>\n",
       "    </tr>\n",
       "    <tr>\n",
       "      <th>subject_id</th>\n",
       "      <th></th>\n",
       "    </tr>\n",
       "  </thead>\n",
       "  <tbody>\n",
       "    <tr>\n",
       "      <th>0</th>\n",
       "      <td>2017-11-03</td>\n",
       "    </tr>\n",
       "    <tr>\n",
       "      <th>1</th>\n",
       "      <td>2011-12-25</td>\n",
       "    </tr>\n",
       "    <tr>\n",
       "      <th>2</th>\n",
       "      <td>2013-08-11</td>\n",
       "    </tr>\n",
       "    <tr>\n",
       "      <th>3</th>\n",
       "      <td>2018-07-23</td>\n",
       "    </tr>\n",
       "    <tr>\n",
       "      <th>4</th>\n",
       "      <td>2018-12-21</td>\n",
       "    </tr>\n",
       "  </tbody>\n",
       "</table>\n",
       "</div>"
      ],
      "text/plain": [
       "           admission_date\n",
       "subject_id               \n",
       "0              2017-11-03\n",
       "1              2011-12-25\n",
       "2              2013-08-11\n",
       "3              2018-07-23\n",
       "4              2018-12-21"
      ]
     },
     "execution_count": 4,
     "metadata": {},
     "output_type": "execute_result"
    }
   ],
   "source": [
    "subjects.head()"
   ]
  },
  {
   "cell_type": "code",
   "execution_count": 5,
   "id": "71f3b247",
   "metadata": {},
   "outputs": [],
   "source": [
    "# create laboratory test results\n",
    "labs = pd.DataFrame(index=pd.RangeIndex(10 ** 7, name='lab_id'))\n",
    "labs['subject_id'] = rng.choice(subjects.index, size=len(labs))\n",
    "labs['timestamp'] = \\\n",
    "    subjects.reindex(labs['subject_id'])['admission_date'].values + \\\n",
    "    pd.to_timedelta(rng.randint(10 * 24 * 60, size=len(labs)), unit='m')\n",
    "labs['parameter'] = \\\n",
    "    rng.choice(\n",
    "        ['creatinine', 'hemoglobin', 'red blood cells', 'white blood cells', 'platelets', 'oxygen saturation'],\n",
    "        size=len(labs)\n",
    "    )"
   ]
  },
  {
   "cell_type": "code",
   "execution_count": 6,
   "id": "326796d7",
   "metadata": {},
   "outputs": [],
   "source": [
    "# assign measured values\n",
    "labs['value'] = np.nan\n",
    "labs.loc[labs['parameter'] == 'creatinine', 'value'] = \\\n",
    "    rng.uniform(0.1, 5, size=(labs['parameter'] == 'creatinine').sum())\n",
    "labs.loc[labs['parameter'] == 'hemoglobin', 'value'] = \\\n",
    "    rng.uniform(3, 20, size=(labs['parameter'] == 'hemoglobin').sum())\n",
    "labs.loc[labs['parameter'] == 'red blood cells', 'value'] = \\\n",
    "    rng.uniform(0, 10.2, size=(labs['parameter'] == 'red blood cells').sum())\n",
    "labs.loc[labs['parameter'] == 'white blood cells', 'value'] = \\\n",
    "    rng.uniform(0, 1000, size=(labs['parameter'] == 'white blood cells').sum())\n",
    "labs.loc[labs['parameter'] == 'platelets', 'value'] = \\\n",
    "    rng.uniform(0, 2000, size=(labs['parameter'] == 'platelets').sum())\n",
    "labs.loc[labs['parameter'] == 'oxygen saturation', 'value'] = \\\n",
    "    rng.uniform(0, 100, size=(labs['parameter'] == 'oxygen saturation').sum())"
   ]
  },
  {
   "cell_type": "code",
   "execution_count": 7,
   "id": "424f5899",
   "metadata": {},
   "outputs": [
    {
     "data": {
      "text/html": [
       "<div>\n",
       "<style scoped>\n",
       "    .dataframe tbody tr th:only-of-type {\n",
       "        vertical-align: middle;\n",
       "    }\n",
       "\n",
       "    .dataframe tbody tr th {\n",
       "        vertical-align: top;\n",
       "    }\n",
       "\n",
       "    .dataframe thead th {\n",
       "        text-align: right;\n",
       "    }\n",
       "</style>\n",
       "<table border=\"1\" class=\"dataframe\">\n",
       "  <thead>\n",
       "    <tr style=\"text-align: right;\">\n",
       "      <th></th>\n",
       "      <th>subject_id</th>\n",
       "      <th>timestamp</th>\n",
       "      <th>parameter</th>\n",
       "      <th>value</th>\n",
       "    </tr>\n",
       "    <tr>\n",
       "      <th>lab_id</th>\n",
       "      <th></th>\n",
       "      <th></th>\n",
       "      <th></th>\n",
       "      <th></th>\n",
       "    </tr>\n",
       "  </thead>\n",
       "  <tbody>\n",
       "    <tr>\n",
       "      <th>0</th>\n",
       "      <td>4645</td>\n",
       "      <td>2010-11-14 02:57:00</td>\n",
       "      <td>creatinine</td>\n",
       "      <td>2.546876</td>\n",
       "    </tr>\n",
       "    <tr>\n",
       "      <th>1</th>\n",
       "      <td>1360</td>\n",
       "      <td>2017-05-23 13:44:00</td>\n",
       "      <td>platelets</td>\n",
       "      <td>138.391543</td>\n",
       "    </tr>\n",
       "    <tr>\n",
       "      <th>2</th>\n",
       "      <td>3236</td>\n",
       "      <td>2010-01-18 16:31:00</td>\n",
       "      <td>creatinine</td>\n",
       "      <td>3.261040</td>\n",
       "    </tr>\n",
       "    <tr>\n",
       "      <th>3</th>\n",
       "      <td>8222</td>\n",
       "      <td>2015-06-27 13:32:00</td>\n",
       "      <td>red blood cells</td>\n",
       "      <td>5.872180</td>\n",
       "    </tr>\n",
       "    <tr>\n",
       "      <th>4</th>\n",
       "      <td>3909</td>\n",
       "      <td>2010-08-23 22:31:00</td>\n",
       "      <td>hemoglobin</td>\n",
       "      <td>17.747439</td>\n",
       "    </tr>\n",
       "  </tbody>\n",
       "</table>\n",
       "</div>"
      ],
      "text/plain": [
       "        subject_id           timestamp        parameter       value\n",
       "lab_id                                                             \n",
       "0             4645 2010-11-14 02:57:00       creatinine    2.546876\n",
       "1             1360 2017-05-23 13:44:00        platelets  138.391543\n",
       "2             3236 2010-01-18 16:31:00       creatinine    3.261040\n",
       "3             8222 2015-06-27 13:32:00  red blood cells    5.872180\n",
       "4             3909 2010-08-23 22:31:00       hemoglobin   17.747439"
      ]
     },
     "execution_count": 7,
     "metadata": {},
     "output_type": "execute_result"
    }
   ],
   "source": [
    "labs.head()"
   ]
  },
  {
   "cell_type": "code",
   "execution_count": 8,
   "id": "df4bcf86",
   "metadata": {},
   "outputs": [
    {
     "data": {
      "text/plain": [
       "10000000"
      ]
     },
     "execution_count": 8,
     "metadata": {},
     "output_type": "execute_result"
    }
   ],
   "source": [
    "len(labs)"
   ]
  },
  {
   "cell_type": "code",
   "execution_count": 9,
   "id": "ffe71c91",
   "metadata": {},
   "outputs": [
    {
     "data": {
      "text/plain": [
       "10000"
      ]
     },
     "execution_count": 9,
     "metadata": {},
     "output_type": "execute_result"
    }
   ],
   "source": [
    "labs['subject_id'].nunique()"
   ]
  },
  {
   "cell_type": "markdown",
   "id": "bc5f8357",
   "metadata": {},
   "source": [
    "## Example Use-Case"
   ]
  },
  {
   "cell_type": "markdown",
   "id": "8f31ee6c",
   "metadata": {},
   "source": [
    "Consider a use-case where certain *events* are recorded during each patient's hospital stay, e.g., clinical interventions such as blood transfusions, transfer to another care unit, etc. Each event has an *outcome* associated to it, and our goal is to predict the outcome based on data available until the time of the event, which, in particular, include the laboratory tests we've just created.\n",
    "\n",
    "The events may happen at random times during the hospital stay, and there can be an arbitrary number for every patient. Hence, we create a synthetic table of events with associated outcomes. The type of the outcomes is arbitrary, but for the sake of simplicity we assume binary outcomes (e.g., whether an intervention was successful or not)."
   ]
  },
  {
   "cell_type": "code",
   "execution_count": 10,
   "id": "d8276fb2",
   "metadata": {},
   "outputs": [],
   "source": [
    "events = pd.DataFrame(index=pd.RangeIndex(100000, name='event_id'))\n",
    "events['subject_id'] = rng.choice(subjects.index, size=len(events))\n",
    "events['timestamp'] = \\\n",
    "    subjects.reindex(events['subject_id'])['admission_date'].values + \\\n",
    "    pd.to_timedelta(rng.randint(2 * 24 * 60, 8 * 24 * 60, size=len(events)), unit='m')\n",
    "events['outcome'] = rng.choice([False, True], size=len(events), p=[0.7, 0.3])"
   ]
  },
  {
   "cell_type": "code",
   "execution_count": 11,
   "id": "a6599e73",
   "metadata": {},
   "outputs": [
    {
     "data": {
      "text/html": [
       "<div>\n",
       "<style scoped>\n",
       "    .dataframe tbody tr th:only-of-type {\n",
       "        vertical-align: middle;\n",
       "    }\n",
       "\n",
       "    .dataframe tbody tr th {\n",
       "        vertical-align: top;\n",
       "    }\n",
       "\n",
       "    .dataframe thead th {\n",
       "        text-align: right;\n",
       "    }\n",
       "</style>\n",
       "<table border=\"1\" class=\"dataframe\">\n",
       "  <thead>\n",
       "    <tr style=\"text-align: right;\">\n",
       "      <th></th>\n",
       "      <th>subject_id</th>\n",
       "      <th>timestamp</th>\n",
       "      <th>outcome</th>\n",
       "    </tr>\n",
       "    <tr>\n",
       "      <th>event_id</th>\n",
       "      <th></th>\n",
       "      <th></th>\n",
       "      <th></th>\n",
       "    </tr>\n",
       "  </thead>\n",
       "  <tbody>\n",
       "    <tr>\n",
       "      <th>0</th>\n",
       "      <td>9961</td>\n",
       "      <td>2014-10-17 10:21:00</td>\n",
       "      <td>False</td>\n",
       "    </tr>\n",
       "    <tr>\n",
       "      <th>1</th>\n",
       "      <td>2921</td>\n",
       "      <td>2018-06-01 13:06:00</td>\n",
       "      <td>False</td>\n",
       "    </tr>\n",
       "    <tr>\n",
       "      <th>2</th>\n",
       "      <td>8244</td>\n",
       "      <td>2019-06-17 18:24:00</td>\n",
       "      <td>True</td>\n",
       "    </tr>\n",
       "    <tr>\n",
       "      <th>3</th>\n",
       "      <td>4061</td>\n",
       "      <td>2014-03-28 00:42:00</td>\n",
       "      <td>True</td>\n",
       "    </tr>\n",
       "    <tr>\n",
       "      <th>4</th>\n",
       "      <td>8048</td>\n",
       "      <td>2012-05-22 03:34:00</td>\n",
       "      <td>False</td>\n",
       "    </tr>\n",
       "  </tbody>\n",
       "</table>\n",
       "</div>"
      ],
      "text/plain": [
       "          subject_id           timestamp  outcome\n",
       "event_id                                         \n",
       "0               9961 2014-10-17 10:21:00    False\n",
       "1               2921 2018-06-01 13:06:00    False\n",
       "2               8244 2019-06-17 18:24:00     True\n",
       "3               4061 2014-03-28 00:42:00     True\n",
       "4               8048 2012-05-22 03:34:00    False"
      ]
     },
     "execution_count": 11,
     "metadata": {},
     "output_type": "execute_result"
    }
   ],
   "source": [
    "events.head()"
   ]
  },
  {
   "cell_type": "markdown",
   "id": "e7bc4c13",
   "metadata": {},
   "source": [
    "CaTabRa does not accept longitudinal data as input to its main data analysis workflow (function [`catabra.analysis.analyze()`](https://github.com/risc-mi/catabra/tree/main/catabra/analysis/main.py)). Instead, it expects data in the $samples\\times attributes$ format, where every row corresponds to one single sample and every column corresponds to either a feature or a target. So, before we can start building prediction models we have to transform our data into the required form. This typically proceeds by eliminating the temporal dimension of our longitudinal data by *aggregating* multiple measurements at different times into one (or any other fixed number) *feature values*. Aggregations can be as simple as taking the mean of all values, or the first/last value, or computing complex time-series features with libraries like [tsfresh](https://github.com/blue-yonder/tsfresh). This process is called *resampling*."
   ]
  },
  {
   "cell_type": "markdown",
   "id": "79696215",
   "metadata": {},
   "source": [
    "Before we can resample our data we have to specify a table of *time windows* over which we want to aggregate data. Each window is characterized by a subject-ID, a start time and a stop time. Both times are optional, as long as at least one is specified. In our case, every event in `events` corresponds to a window. Windows stop at the time of the event (because that's where we stop looking for data as input for our model). We set their start time to 2 days before the event, because we believe laboratory tests are only valid for 2 days and we don't want to use \"outdated\" information."
   ]
  },
  {
   "cell_type": "code",
   "execution_count": 12,
   "id": "58086637",
   "metadata": {},
   "outputs": [],
   "source": [
    "windows = pd.DataFrame(\n",
    "    index=events.index,\n",
    "    data=dict(\n",
    "        subject_id=events['subject_id'],\n",
    "        start=events['timestamp'] - pd.Timedelta('2 days'),\n",
    "        stop=events['timestamp'],\n",
    "        label=events['outcome']\n",
    "    )\n",
    ")\n",
    "windows.columns = pd.MultiIndex.from_tuples([['subject_id', ''], ['timestamp', 'start'], ['timestamp', 'stop'], ['label', '']])"
   ]
  },
  {
   "cell_type": "code",
   "execution_count": 13,
   "id": "8d6ec15f",
   "metadata": {},
   "outputs": [
    {
     "data": {
      "text/html": [
       "<div>\n",
       "<style scoped>\n",
       "    .dataframe tbody tr th:only-of-type {\n",
       "        vertical-align: middle;\n",
       "    }\n",
       "\n",
       "    .dataframe tbody tr th {\n",
       "        vertical-align: top;\n",
       "    }\n",
       "\n",
       "    .dataframe thead tr th {\n",
       "        text-align: left;\n",
       "    }\n",
       "\n",
       "    .dataframe thead tr:last-of-type th {\n",
       "        text-align: right;\n",
       "    }\n",
       "</style>\n",
       "<table border=\"1\" class=\"dataframe\">\n",
       "  <thead>\n",
       "    <tr>\n",
       "      <th></th>\n",
       "      <th>subject_id</th>\n",
       "      <th colspan=\"2\" halign=\"left\">timestamp</th>\n",
       "      <th>label</th>\n",
       "    </tr>\n",
       "    <tr>\n",
       "      <th></th>\n",
       "      <th></th>\n",
       "      <th>start</th>\n",
       "      <th>stop</th>\n",
       "      <th></th>\n",
       "    </tr>\n",
       "    <tr>\n",
       "      <th>event_id</th>\n",
       "      <th></th>\n",
       "      <th></th>\n",
       "      <th></th>\n",
       "      <th></th>\n",
       "    </tr>\n",
       "  </thead>\n",
       "  <tbody>\n",
       "    <tr>\n",
       "      <th>0</th>\n",
       "      <td>9961</td>\n",
       "      <td>2014-10-15 10:21:00</td>\n",
       "      <td>2014-10-17 10:21:00</td>\n",
       "      <td>False</td>\n",
       "    </tr>\n",
       "    <tr>\n",
       "      <th>1</th>\n",
       "      <td>2921</td>\n",
       "      <td>2018-05-30 13:06:00</td>\n",
       "      <td>2018-06-01 13:06:00</td>\n",
       "      <td>False</td>\n",
       "    </tr>\n",
       "    <tr>\n",
       "      <th>2</th>\n",
       "      <td>8244</td>\n",
       "      <td>2019-06-15 18:24:00</td>\n",
       "      <td>2019-06-17 18:24:00</td>\n",
       "      <td>True</td>\n",
       "    </tr>\n",
       "    <tr>\n",
       "      <th>3</th>\n",
       "      <td>4061</td>\n",
       "      <td>2014-03-26 00:42:00</td>\n",
       "      <td>2014-03-28 00:42:00</td>\n",
       "      <td>True</td>\n",
       "    </tr>\n",
       "    <tr>\n",
       "      <th>4</th>\n",
       "      <td>8048</td>\n",
       "      <td>2012-05-20 03:34:00</td>\n",
       "      <td>2012-05-22 03:34:00</td>\n",
       "      <td>False</td>\n",
       "    </tr>\n",
       "  </tbody>\n",
       "</table>\n",
       "</div>"
      ],
      "text/plain": [
       "         subject_id           timestamp                      label\n",
       "                                  start                stop       \n",
       "event_id                                                          \n",
       "0              9961 2014-10-15 10:21:00 2014-10-17 10:21:00  False\n",
       "1              2921 2018-05-30 13:06:00 2018-06-01 13:06:00  False\n",
       "2              8244 2019-06-15 18:24:00 2019-06-17 18:24:00   True\n",
       "3              4061 2014-03-26 00:42:00 2014-03-28 00:42:00   True\n",
       "4              8048 2012-05-20 03:34:00 2012-05-22 03:34:00  False"
      ]
     },
     "execution_count": 13,
     "metadata": {},
     "output_type": "execute_result"
    }
   ],
   "source": [
    "windows.head()"
   ]
  },
  {
   "cell_type": "markdown",
   "id": "c935961a",
   "metadata": {},
   "source": [
    "Note that `windows` has two column index levels, and that the naming of the columns follows a certain pattern:\n",
    "\n",
    "* the column containing subject-IDs has the same name as in `labs` (i.e., `\"subject_id\"`) on the first level, and `\"\"` on the second level,\n",
    "* the columns containing start- and stop times have the same name as the timestamp-column in `labs` (i.e., `\"timestamp\"`) on the first level, and `\"start\"` and `\"stop\"`, respectively, on the second level.\n",
    "\n",
    "Furthermore, an arbitrary number of additional columns may be present, which in our case is the target (`\"label\"`)."
   ]
  },
  {
   "cell_type": "markdown",
   "id": "a05100a2",
   "metadata": {},
   "source": [
    "**NOTE**<br>\n",
    "By construction, some of the time windows (of the same subject) may overlap. This is no problem, CaTabRa can handle such cases without ado."
   ]
  },
  {
   "cell_type": "markdown",
   "id": "ae7dd3b4",
   "metadata": {},
   "source": [
    "## Resample"
   ]
  },
  {
   "cell_type": "markdown",
   "id": "68339e21",
   "metadata": {},
   "source": [
    "Let's compute some simple built-in aggregations of the measured laboratory parameters for each time window. The aggreagtions may differ for each laboratory parameter.\n",
    "\n",
    "The main function is [`catabra.util.longitudinal.resample_eav()`](https://github.com/risc-mi/catabra/tree/main/catabra/util/longitudinal.py) (\"eav\" standing for \"entity-attribute-value\"):"
   ]
  },
  {
   "cell_type": "code",
   "execution_count": 15,
   "id": "54b04767",
   "metadata": {},
   "outputs": [],
   "source": [
    "from catabra.util.longitudinal import resample_eav"
   ]
  },
  {
   "cell_type": "code",
   "execution_count": 16,
   "id": "cafc95d2",
   "metadata": {},
   "outputs": [],
   "source": [
    "tic = pd.Timestamp.now()\n",
    "resampled = resample_eav(\n",
    "    labs,                                            # longitudinal data to resample\n",
    "    windows,                                         # time windows\n",
    "    agg={                                            # aggregations\n",
    "        'creatinine': 'mean',                                # mean of creatinine values\n",
    "        'hemoglobin': ['min', 'max'],                        # minimum and maximum of hemoglobin values\n",
    "        'red blood cells': ['mean', 'std'],                  # mean and std. dev. of red blood cells\n",
    "        'white blood cells': ['r0', 'r-1', 't0', 't-1'],     # first and last value of white blood cells, plus corresponding measurement times\n",
    "        'platelets': 'count',                                # total number of platelets measurements\n",
    "        'oxygen saturation': ['p10', 'p90']                  # 10th and 90th percentile of oxygen saturation values\n",
    "    },\n",
    "    entity_col='subject_id',                         # name of column with entity-IDs\n",
    "    time_col='timestamp',                            # name of column with times\n",
    "    attribute_col='parameter',                       # name of column with attribute names\n",
    "    value_col='value'                                # name of column with values to aggregate\n",
    ")\n",
    "toc = pd.Timestamp.now()"
   ]
  },
  {
   "cell_type": "markdown",
   "id": "47c27f30",
   "metadata": {},
   "source": [
    "It took less than a minute to resample our **10 million rows** of laboratory data of **10,000 distinct subjects** and **100,000 time windows** by computing both simple and non-standard aggregations:"
   ]
  },
  {
   "cell_type": "code",
   "execution_count": 48,
   "id": "12223ef4",
   "metadata": {
    "scrolled": true
   },
   "outputs": [
    {
     "data": {
      "text/plain": [
       "Timedelta('0 days 00:00:46.314381')"
      ]
     },
     "execution_count": 48,
     "metadata": {},
     "output_type": "execute_result"
    }
   ],
   "source": [
    "toc - tic"
   ]
  },
  {
   "cell_type": "markdown",
   "id": "eb894a8b",
   "metadata": {},
   "source": [
    "The output DataFrame is exactly like `windows`, but with additional columns containing the requested aggregations:"
   ]
  },
  {
   "cell_type": "code",
   "execution_count": 49,
   "id": "a100640f",
   "metadata": {},
   "outputs": [
    {
     "data": {
      "text/html": [
       "<div>\n",
       "<style scoped>\n",
       "    .dataframe tbody tr th:only-of-type {\n",
       "        vertical-align: middle;\n",
       "    }\n",
       "\n",
       "    .dataframe tbody tr th {\n",
       "        vertical-align: top;\n",
       "    }\n",
       "\n",
       "    .dataframe thead tr th {\n",
       "        text-align: left;\n",
       "    }\n",
       "\n",
       "    .dataframe thead tr:last-of-type th {\n",
       "        text-align: right;\n",
       "    }\n",
       "</style>\n",
       "<table border=\"1\" class=\"dataframe\">\n",
       "  <thead>\n",
       "    <tr>\n",
       "      <th></th>\n",
       "      <th>subject_id</th>\n",
       "      <th colspan=\"2\" halign=\"left\">timestamp</th>\n",
       "      <th>label</th>\n",
       "      <th>creatinine</th>\n",
       "      <th colspan=\"2\" halign=\"left\">hemoglobin</th>\n",
       "      <th colspan=\"2\" halign=\"left\">red blood cells</th>\n",
       "      <th colspan=\"4\" halign=\"left\">white blood cells</th>\n",
       "      <th>platelets</th>\n",
       "      <th colspan=\"2\" halign=\"left\">oxygen saturation</th>\n",
       "    </tr>\n",
       "    <tr>\n",
       "      <th></th>\n",
       "      <th></th>\n",
       "      <th>start</th>\n",
       "      <th>stop</th>\n",
       "      <th></th>\n",
       "      <th>mean</th>\n",
       "      <th>min</th>\n",
       "      <th>max</th>\n",
       "      <th>mean</th>\n",
       "      <th>std</th>\n",
       "      <th>r0</th>\n",
       "      <th>r-1</th>\n",
       "      <th>t0</th>\n",
       "      <th>t-1</th>\n",
       "      <th>count</th>\n",
       "      <th>p10</th>\n",
       "      <th>p90</th>\n",
       "    </tr>\n",
       "    <tr>\n",
       "      <th>event_id</th>\n",
       "      <th></th>\n",
       "      <th></th>\n",
       "      <th></th>\n",
       "      <th></th>\n",
       "      <th></th>\n",
       "      <th></th>\n",
       "      <th></th>\n",
       "      <th></th>\n",
       "      <th></th>\n",
       "      <th></th>\n",
       "      <th></th>\n",
       "      <th></th>\n",
       "      <th></th>\n",
       "      <th></th>\n",
       "      <th></th>\n",
       "      <th></th>\n",
       "    </tr>\n",
       "  </thead>\n",
       "  <tbody>\n",
       "    <tr>\n",
       "      <th>0</th>\n",
       "      <td>9961</td>\n",
       "      <td>2014-10-15 10:21:00</td>\n",
       "      <td>2014-10-17 10:21:00</td>\n",
       "      <td>False</td>\n",
       "      <td>1.994618</td>\n",
       "      <td>3.139749</td>\n",
       "      <td>19.764566</td>\n",
       "      <td>5.396520</td>\n",
       "      <td>2.742879</td>\n",
       "      <td>126.278639</td>\n",
       "      <td>931.995807</td>\n",
       "      <td>2014-10-15 10:54:00</td>\n",
       "      <td>2014-10-17 09:55:00</td>\n",
       "      <td>32.0</td>\n",
       "      <td>16.937398</td>\n",
       "      <td>78.116129</td>\n",
       "    </tr>\n",
       "    <tr>\n",
       "      <th>1</th>\n",
       "      <td>2921</td>\n",
       "      <td>2018-05-30 13:06:00</td>\n",
       "      <td>2018-06-01 13:06:00</td>\n",
       "      <td>False</td>\n",
       "      <td>2.481352</td>\n",
       "      <td>3.611202</td>\n",
       "      <td>19.850998</td>\n",
       "      <td>5.230297</td>\n",
       "      <td>3.286836</td>\n",
       "      <td>485.478178</td>\n",
       "      <td>341.270608</td>\n",
       "      <td>2018-05-30 16:25:00</td>\n",
       "      <td>2018-06-01 11:28:00</td>\n",
       "      <td>28.0</td>\n",
       "      <td>10.712035</td>\n",
       "      <td>77.491403</td>\n",
       "    </tr>\n",
       "    <tr>\n",
       "      <th>2</th>\n",
       "      <td>8244</td>\n",
       "      <td>2019-06-15 18:24:00</td>\n",
       "      <td>2019-06-17 18:24:00</td>\n",
       "      <td>True</td>\n",
       "      <td>2.529095</td>\n",
       "      <td>3.636045</td>\n",
       "      <td>19.040233</td>\n",
       "      <td>5.887074</td>\n",
       "      <td>2.811139</td>\n",
       "      <td>817.979464</td>\n",
       "      <td>200.394162</td>\n",
       "      <td>2019-06-15 18:51:00</td>\n",
       "      <td>2019-06-17 16:21:00</td>\n",
       "      <td>38.0</td>\n",
       "      <td>20.086898</td>\n",
       "      <td>78.725686</td>\n",
       "    </tr>\n",
       "    <tr>\n",
       "      <th>3</th>\n",
       "      <td>4061</td>\n",
       "      <td>2014-03-26 00:42:00</td>\n",
       "      <td>2014-03-28 00:42:00</td>\n",
       "      <td>True</td>\n",
       "      <td>2.056492</td>\n",
       "      <td>3.112208</td>\n",
       "      <td>19.824033</td>\n",
       "      <td>5.146293</td>\n",
       "      <td>2.964574</td>\n",
       "      <td>22.554426</td>\n",
       "      <td>999.518133</td>\n",
       "      <td>2014-03-26 02:01:00</td>\n",
       "      <td>2014-03-27 22:52:00</td>\n",
       "      <td>28.0</td>\n",
       "      <td>10.041334</td>\n",
       "      <td>86.814089</td>\n",
       "    </tr>\n",
       "    <tr>\n",
       "      <th>4</th>\n",
       "      <td>8048</td>\n",
       "      <td>2012-05-20 03:34:00</td>\n",
       "      <td>2012-05-22 03:34:00</td>\n",
       "      <td>False</td>\n",
       "      <td>2.352913</td>\n",
       "      <td>4.084322</td>\n",
       "      <td>19.743881</td>\n",
       "      <td>5.728578</td>\n",
       "      <td>3.097373</td>\n",
       "      <td>634.744263</td>\n",
       "      <td>404.023845</td>\n",
       "      <td>2012-05-20 03:48:00</td>\n",
       "      <td>2012-05-22 03:22:00</td>\n",
       "      <td>30.0</td>\n",
       "      <td>11.319649</td>\n",
       "      <td>89.229113</td>\n",
       "    </tr>\n",
       "  </tbody>\n",
       "</table>\n",
       "</div>"
      ],
      "text/plain": [
       "         subject_id           timestamp                      label creatinine  \\\n",
       "                                  start                stop              mean   \n",
       "event_id                                                                        \n",
       "0              9961 2014-10-15 10:21:00 2014-10-17 10:21:00  False   1.994618   \n",
       "1              2921 2018-05-30 13:06:00 2018-06-01 13:06:00  False   2.481352   \n",
       "2              8244 2019-06-15 18:24:00 2019-06-17 18:24:00   True   2.529095   \n",
       "3              4061 2014-03-26 00:42:00 2014-03-28 00:42:00   True   2.056492   \n",
       "4              8048 2012-05-20 03:34:00 2012-05-22 03:34:00  False   2.352913   \n",
       "\n",
       "         hemoglobin            red blood cells           white blood cells  \\\n",
       "                min        max            mean       std                r0   \n",
       "event_id                                                                     \n",
       "0          3.139749  19.764566        5.396520  2.742879        126.278639   \n",
       "1          3.611202  19.850998        5.230297  3.286836        485.478178   \n",
       "2          3.636045  19.040233        5.887074  2.811139        817.979464   \n",
       "3          3.112208  19.824033        5.146293  2.964574         22.554426   \n",
       "4          4.084322  19.743881        5.728578  3.097373        634.744263   \n",
       "\n",
       "                                                             platelets  \\\n",
       "                 r-1                  t0                 t-1     count   \n",
       "event_id                                                                 \n",
       "0         931.995807 2014-10-15 10:54:00 2014-10-17 09:55:00      32.0   \n",
       "1         341.270608 2018-05-30 16:25:00 2018-06-01 11:28:00      28.0   \n",
       "2         200.394162 2019-06-15 18:51:00 2019-06-17 16:21:00      38.0   \n",
       "3         999.518133 2014-03-26 02:01:00 2014-03-27 22:52:00      28.0   \n",
       "4         404.023845 2012-05-20 03:48:00 2012-05-22 03:22:00      30.0   \n",
       "\n",
       "         oxygen saturation             \n",
       "                       p10        p90  \n",
       "event_id                               \n",
       "0                16.937398  78.116129  \n",
       "1                10.712035  77.491403  \n",
       "2                20.086898  78.725686  \n",
       "3                10.041334  86.814089  \n",
       "4                11.319649  89.229113  "
      ]
     },
     "execution_count": 49,
     "metadata": {},
     "output_type": "execute_result"
    }
   ],
   "source": [
    "resampled.head()"
   ]
  },
  {
   "cell_type": "code",
   "execution_count": 50,
   "id": "dfa97537",
   "metadata": {},
   "outputs": [
    {
     "data": {
      "text/plain": [
       "True"
      ]
     },
     "execution_count": 50,
     "metadata": {},
     "output_type": "execute_result"
    }
   ],
   "source": [
    "(resampled.index == events.index).all()"
   ]
  },
  {
   "cell_type": "code",
   "execution_count": 51,
   "id": "c8f34574",
   "metadata": {},
   "outputs": [
    {
     "data": {
      "text/plain": [
       "True"
      ]
     },
     "execution_count": 51,
     "metadata": {},
     "output_type": "execute_result"
    }
   ],
   "source": [
    "(resampled[('subject_id', '')] == events['subject_id']).all()"
   ]
  },
  {
   "cell_type": "markdown",
   "id": "729ed4a2",
   "metadata": {},
   "source": [
    "`resampled` can now be used as input to CaTabRa's automatic data analysis workflow."
   ]
  },
  {
   "cell_type": "markdown",
   "id": "e0eec74e",
   "metadata": {},
   "source": [
    "## Closing Remarks"
   ]
  },
  {
   "cell_type": "markdown",
   "id": "c2b3852f",
   "metadata": {},
   "source": [
    "### Time Windows"
   ]
  },
  {
   "cell_type": "markdown",
   "id": "71c805b2",
   "metadata": {},
   "source": [
    "One of the strengths of CaTabRa's `resample_eav()` function is that it can handle arbitrary time windows: they may overlap, they may have unequal lengths (even for the same entity), and they may be infinite (with only start- or stop time, but not both)."
   ]
  },
  {
   "cell_type": "markdown",
   "id": "db111cc5",
   "metadata": {},
   "source": [
    "Time windows can be constructed manually, as above, or conveniently using function `make_windows()` in module `catabra.util.longitudinal`. See the documentation of function `make_windows()` for more information."
   ]
  },
  {
   "cell_type": "markdown",
   "id": "ccd9bf0c",
   "metadata": {},
   "source": [
    "### tsfresh Integration"
   ]
  },
  {
   "cell_type": "markdown",
   "id": "957b7f49",
   "metadata": {},
   "source": [
    "[tsfresh](https://github.com/blue-yonder/tsfresh) is a library for computing sophisticated time-series features from tabular data in a very similar format as the one expected by function `resample_eav()` (\"long\" or \"stacked\" DataFrame). The main difference is that tsfresh does not accept time windows but computes features either for *all* observations per entity-attribute pair, or in a rolling/forecasting fashion. CaTabRa handles time windows natively and *efficiently*.\n",
    "\n",
    "tsfresh can be integrated into `resample_eav()` by passing a callable to the list of desired aggregations; see the docstring of `resample_eav()` for details. Note that the input format expected by tsfresh and output format returned by it match almost exactly the input/output format of the callable."
   ]
  },
  {
   "cell_type": "markdown",
   "id": "e55e7c58",
   "metadata": {},
   "source": [
    "### Dask Support"
   ]
  },
  {
   "cell_type": "markdown",
   "id": "3ff32662",
   "metadata": {},
   "source": [
    "`resample_eav()` accepts [Dask DataFrames](https://docs.dask.org/en/stable/) as input. This applies both to the table containing the observations (`labs` in our example) and the table with the time windows. Therefore, even large amounts of data can be efficiently processed."
   ]
  },
  {
   "cell_type": "markdown",
   "id": "4be7094d",
   "metadata": {},
   "source": [
    "### Time Period Observations"
   ]
  },
  {
   "cell_type": "markdown",
   "id": "e5a234b3",
   "metadata": {},
   "source": [
    "The example presented in this notebook illustrates how isolated observations/measurements can be aggregated to resample longitudinal data in entity-attribute-value format. A similar albeit subtly different data modality are data where observations/measurements do not happen at specific points in time, but over a time period. One simple example, again from the clinical domain, are infusions of medications: they are characterized by start- and end times, and the administered medication amount.\n",
    "\n",
    "Function [`catabra.util.longitudinal.resample_interval()`](https://github.com/risc-mi/catabra/tree/main/catabra/util/longitudinal.py) can be used to resample data of that kind. Its API bears close resemblance to that of `resample_eav()`, with the main difference that the only supported aggregation is summing all observed values in each time window, taking the size of the intersection of the time window with the observation interval into account. See the documentation of `resample_interval()` for more information."
   ]
  }
 ],
 "metadata": {
  "kernelspec": {
   "display_name": "Python 3 (ipykernel)",
   "language": "python",
   "name": "python3"
  },
  "language_info": {
   "codemirror_mode": {
    "name": "ipython",
    "version": 3
   },
   "file_extension": ".py",
   "mimetype": "text/x-python",
   "name": "python",
   "nbconvert_exporter": "python",
   "pygments_lexer": "ipython3",
   "version": "3.9.7"
  }
 },
 "nbformat": 4,
 "nbformat_minor": 5
}

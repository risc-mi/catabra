{
 "cells": [
  {
   "cell_type": "markdown",
   "id": "7a749cba",
   "metadata": {},
   "source": [
    "# CaTabRa Workflow"
   ]
  },
  {
   "cell_type": "markdown",
   "id": "6fabba0d",
   "metadata": {},
   "source": [
    "---"
   ]
  },
  {
   "cell_type": "markdown",
   "id": "00087f16",
   "metadata": {},
   "source": [
    "This notebook is part of the [CaTabRa GitHub repository](https://github.com/risc-mi/catabra)."
   ]
  },
  {
   "cell_type": "markdown",
   "id": "b3641354",
   "metadata": {},
   "source": [
    "This tutorial demonstrates CaTabRa's main workflow, in particular how it can be used to\n",
    "\n",
    "* [analyze data with a binary target](#Step-1:-Analyze-Data-and-Train-Classifier),\n",
    "* [calibrate the classifier on dedicated calibration data](#Step-2:-Calibrate-Classifier),\n",
    "* [evaluate the classifier on held-out test data](#Step-3:-Evaluate-Classifier),\n",
    "* [explain the classifier by computing SHAP- and permutation importance scores](#Step-4:-Explain-Classifier),\n",
    "* [apply the classifier to new data](#Step-5:-Apply-Classifier-to-New-Data), and\n",
    "* [load the classifier into Python](#Load-Classifier-into-Python)."
   ]
  },
  {
   "cell_type": "markdown",
   "id": "6c3700ab",
   "metadata": {},
   "source": [
    "## Prerequisites"
   ]
  },
  {
   "cell_type": "code",
   "execution_count": 15,
   "id": "e5919d02",
   "metadata": {
    "execution": {
     "iopub.execute_input": "2023-04-13T13:00:40.653999Z",
     "iopub.status.busy": "2023-04-13T13:00:40.653476Z",
     "iopub.status.idle": "2023-04-13T13:00:40.945974Z",
     "shell.execute_reply": "2023-04-13T13:00:40.945187Z"
    }
   },
   "outputs": [],
   "source": [
    "# generic package imports\n",
    "from catabra.util import io"
   ]
  },
  {
   "cell_type": "code",
   "execution_count": 16,
   "id": "7de84497",
   "metadata": {
    "execution": {
     "iopub.execute_input": "2023-04-13T13:00:40.948718Z",
     "iopub.status.busy": "2023-04-13T13:00:40.948464Z",
     "iopub.status.idle": "2023-04-13T13:00:40.951730Z",
     "shell.execute_reply": "2023-04-13T13:00:40.951121Z"
    }
   },
   "outputs": [],
   "source": [
    "# output directory (where all generated artifacts, like statistics, models, etc. are saved)\n",
    "output_dir = 'workflow'"
   ]
  },
  {
   "cell_type": "markdown",
   "id": "cbc686b7",
   "metadata": {},
   "source": [
    "## Step 0: Prepare Data"
   ]
  },
  {
   "cell_type": "markdown",
   "id": "9a6a65b9",
   "metadata": {},
   "source": [
    "We are going to work with the [breast cancer](https://archive.ics.uci.edu/ml/datasets/Breast+Cancer+Wisconsin+(Diagnostic)) dataset, a well-known binary classification dataset.\n",
    "\n",
    "CaTabRa assumes a table in the usual $samples \\times attributes$ format as input, where the attributes encompass features, target labels, and possibly additional information like a predefined train-test split."
   ]
  },
  {
   "cell_type": "code",
   "execution_count": 17,
   "id": "307d1b69",
   "metadata": {
    "execution": {
     "iopub.execute_input": "2023-04-13T13:00:40.954144Z",
     "iopub.status.busy": "2023-04-13T13:00:40.953941Z",
     "iopub.status.idle": "2023-04-13T13:00:41.186015Z",
     "shell.execute_reply": "2023-04-13T13:00:41.185293Z"
    }
   },
   "outputs": [],
   "source": [
    "# load dataset\n",
    "from sklearn.datasets import load_breast_cancer\n",
    "X, y = load_breast_cancer(as_frame=True, return_X_y=True)"
   ]
  },
  {
   "cell_type": "code",
   "execution_count": 18,
   "id": "af9029e6",
   "metadata": {
    "execution": {
     "iopub.execute_input": "2023-04-13T13:00:41.188707Z",
     "iopub.status.busy": "2023-04-13T13:00:41.188497Z",
     "iopub.status.idle": "2023-04-13T13:00:41.192231Z",
     "shell.execute_reply": "2023-04-13T13:00:41.191537Z"
    }
   },
   "outputs": [],
   "source": [
    "# add target labels to DataFrame\n",
    "X['diagnosis'] = y"
   ]
  },
  {
   "cell_type": "code",
   "execution_count": 19,
   "id": "73ef3433",
   "metadata": {
    "execution": {
     "iopub.execute_input": "2023-04-13T13:00:41.194400Z",
     "iopub.status.busy": "2023-04-13T13:00:41.194218Z",
     "iopub.status.idle": "2023-04-13T13:00:41.198202Z",
     "shell.execute_reply": "2023-04-13T13:00:41.197489Z"
    }
   },
   "outputs": [],
   "source": [
    "# split into train- and test set by adding column with corresponding values\n",
    "# the name of the column is arbitrary; CaTabRa tries to \"guess\" which samples belong to which set based on the column name and -values\n",
    "X['train'] = X.index <= 0.8 * len(X)"
   ]
  },
  {
   "cell_type": "code",
   "execution_count": 20,
   "id": "d800e752",
   "metadata": {
    "execution": {
     "iopub.execute_input": "2023-04-13T13:00:41.200774Z",
     "iopub.status.busy": "2023-04-13T13:00:41.200549Z",
     "iopub.status.idle": "2023-04-13T13:00:41.219289Z",
     "shell.execute_reply": "2023-04-13T13:00:41.218543Z"
    }
   },
   "outputs": [
    {
     "data": {
      "text/html": [
       "<div>\n",
       "<style scoped>\n",
       "    .dataframe tbody tr th:only-of-type {\n",
       "        vertical-align: middle;\n",
       "    }\n",
       "\n",
       "    .dataframe tbody tr th {\n",
       "        vertical-align: top;\n",
       "    }\n",
       "\n",
       "    .dataframe thead th {\n",
       "        text-align: right;\n",
       "    }\n",
       "</style>\n",
       "<table border=\"1\" class=\"dataframe\">\n",
       "  <thead>\n",
       "    <tr style=\"text-align: right;\">\n",
       "      <th></th>\n",
       "      <th>mean radius</th>\n",
       "      <th>mean texture</th>\n",
       "      <th>mean perimeter</th>\n",
       "      <th>mean area</th>\n",
       "      <th>mean smoothness</th>\n",
       "      <th>mean compactness</th>\n",
       "      <th>mean concavity</th>\n",
       "      <th>mean concave points</th>\n",
       "      <th>mean symmetry</th>\n",
       "      <th>mean fractal dimension</th>\n",
       "      <th>...</th>\n",
       "      <th>worst perimeter</th>\n",
       "      <th>worst area</th>\n",
       "      <th>worst smoothness</th>\n",
       "      <th>worst compactness</th>\n",
       "      <th>worst concavity</th>\n",
       "      <th>worst concave points</th>\n",
       "      <th>worst symmetry</th>\n",
       "      <th>worst fractal dimension</th>\n",
       "      <th>diagnosis</th>\n",
       "      <th>train</th>\n",
       "    </tr>\n",
       "  </thead>\n",
       "  <tbody>\n",
       "    <tr>\n",
       "      <th>0</th>\n",
       "      <td>17.99</td>\n",
       "      <td>10.38</td>\n",
       "      <td>122.80</td>\n",
       "      <td>1001.0</td>\n",
       "      <td>0.11840</td>\n",
       "      <td>0.27760</td>\n",
       "      <td>0.3001</td>\n",
       "      <td>0.14710</td>\n",
       "      <td>0.2419</td>\n",
       "      <td>0.07871</td>\n",
       "      <td>...</td>\n",
       "      <td>184.60</td>\n",
       "      <td>2019.0</td>\n",
       "      <td>0.1622</td>\n",
       "      <td>0.6656</td>\n",
       "      <td>0.7119</td>\n",
       "      <td>0.2654</td>\n",
       "      <td>0.4601</td>\n",
       "      <td>0.11890</td>\n",
       "      <td>0</td>\n",
       "      <td>True</td>\n",
       "    </tr>\n",
       "    <tr>\n",
       "      <th>1</th>\n",
       "      <td>20.57</td>\n",
       "      <td>17.77</td>\n",
       "      <td>132.90</td>\n",
       "      <td>1326.0</td>\n",
       "      <td>0.08474</td>\n",
       "      <td>0.07864</td>\n",
       "      <td>0.0869</td>\n",
       "      <td>0.07017</td>\n",
       "      <td>0.1812</td>\n",
       "      <td>0.05667</td>\n",
       "      <td>...</td>\n",
       "      <td>158.80</td>\n",
       "      <td>1956.0</td>\n",
       "      <td>0.1238</td>\n",
       "      <td>0.1866</td>\n",
       "      <td>0.2416</td>\n",
       "      <td>0.1860</td>\n",
       "      <td>0.2750</td>\n",
       "      <td>0.08902</td>\n",
       "      <td>0</td>\n",
       "      <td>True</td>\n",
       "    </tr>\n",
       "    <tr>\n",
       "      <th>2</th>\n",
       "      <td>19.69</td>\n",
       "      <td>21.25</td>\n",
       "      <td>130.00</td>\n",
       "      <td>1203.0</td>\n",
       "      <td>0.10960</td>\n",
       "      <td>0.15990</td>\n",
       "      <td>0.1974</td>\n",
       "      <td>0.12790</td>\n",
       "      <td>0.2069</td>\n",
       "      <td>0.05999</td>\n",
       "      <td>...</td>\n",
       "      <td>152.50</td>\n",
       "      <td>1709.0</td>\n",
       "      <td>0.1444</td>\n",
       "      <td>0.4245</td>\n",
       "      <td>0.4504</td>\n",
       "      <td>0.2430</td>\n",
       "      <td>0.3613</td>\n",
       "      <td>0.08758</td>\n",
       "      <td>0</td>\n",
       "      <td>True</td>\n",
       "    </tr>\n",
       "    <tr>\n",
       "      <th>3</th>\n",
       "      <td>11.42</td>\n",
       "      <td>20.38</td>\n",
       "      <td>77.58</td>\n",
       "      <td>386.1</td>\n",
       "      <td>0.14250</td>\n",
       "      <td>0.28390</td>\n",
       "      <td>0.2414</td>\n",
       "      <td>0.10520</td>\n",
       "      <td>0.2597</td>\n",
       "      <td>0.09744</td>\n",
       "      <td>...</td>\n",
       "      <td>98.87</td>\n",
       "      <td>567.7</td>\n",
       "      <td>0.2098</td>\n",
       "      <td>0.8663</td>\n",
       "      <td>0.6869</td>\n",
       "      <td>0.2575</td>\n",
       "      <td>0.6638</td>\n",
       "      <td>0.17300</td>\n",
       "      <td>0</td>\n",
       "      <td>True</td>\n",
       "    </tr>\n",
       "    <tr>\n",
       "      <th>4</th>\n",
       "      <td>20.29</td>\n",
       "      <td>14.34</td>\n",
       "      <td>135.10</td>\n",
       "      <td>1297.0</td>\n",
       "      <td>0.10030</td>\n",
       "      <td>0.13280</td>\n",
       "      <td>0.1980</td>\n",
       "      <td>0.10430</td>\n",
       "      <td>0.1809</td>\n",
       "      <td>0.05883</td>\n",
       "      <td>...</td>\n",
       "      <td>152.20</td>\n",
       "      <td>1575.0</td>\n",
       "      <td>0.1374</td>\n",
       "      <td>0.2050</td>\n",
       "      <td>0.4000</td>\n",
       "      <td>0.1625</td>\n",
       "      <td>0.2364</td>\n",
       "      <td>0.07678</td>\n",
       "      <td>0</td>\n",
       "      <td>True</td>\n",
       "    </tr>\n",
       "  </tbody>\n",
       "</table>\n",
       "<p>5 rows × 32 columns</p>\n",
       "</div>"
      ],
      "text/plain": [
       "   mean radius  mean texture  mean perimeter  mean area  mean smoothness  \\\n",
       "0        17.99         10.38          122.80     1001.0          0.11840   \n",
       "1        20.57         17.77          132.90     1326.0          0.08474   \n",
       "2        19.69         21.25          130.00     1203.0          0.10960   \n",
       "3        11.42         20.38           77.58      386.1          0.14250   \n",
       "4        20.29         14.34          135.10     1297.0          0.10030   \n",
       "\n",
       "   mean compactness  mean concavity  mean concave points  mean symmetry  \\\n",
       "0           0.27760          0.3001              0.14710         0.2419   \n",
       "1           0.07864          0.0869              0.07017         0.1812   \n",
       "2           0.15990          0.1974              0.12790         0.2069   \n",
       "3           0.28390          0.2414              0.10520         0.2597   \n",
       "4           0.13280          0.1980              0.10430         0.1809   \n",
       "\n",
       "   mean fractal dimension  ...  worst perimeter  worst area  worst smoothness  \\\n",
       "0                 0.07871  ...           184.60      2019.0            0.1622   \n",
       "1                 0.05667  ...           158.80      1956.0            0.1238   \n",
       "2                 0.05999  ...           152.50      1709.0            0.1444   \n",
       "3                 0.09744  ...            98.87       567.7            0.2098   \n",
       "4                 0.05883  ...           152.20      1575.0            0.1374   \n",
       "\n",
       "   worst compactness  worst concavity  worst concave points  worst symmetry  \\\n",
       "0             0.6656           0.7119                0.2654          0.4601   \n",
       "1             0.1866           0.2416                0.1860          0.2750   \n",
       "2             0.4245           0.4504                0.2430          0.3613   \n",
       "3             0.8663           0.6869                0.2575          0.6638   \n",
       "4             0.2050           0.4000                0.1625          0.2364   \n",
       "\n",
       "   worst fractal dimension  diagnosis  train  \n",
       "0                  0.11890          0   True  \n",
       "1                  0.08902          0   True  \n",
       "2                  0.08758          0   True  \n",
       "3                  0.17300          0   True  \n",
       "4                  0.07678          0   True  \n",
       "\n",
       "[5 rows x 32 columns]"
      ]
     },
     "execution_count": 20,
     "metadata": {},
     "output_type": "execute_result"
    }
   ],
   "source": [
    "X.head()"
   ]
  },
  {
   "cell_type": "markdown",
   "id": "c30f30be",
   "metadata": {},
   "source": [
    "**NOTE**<br>\n",
    "The column specifying the train-test split may contain more than two values. For instance, values `\"train\"`, `\"val\"` and `\"test\"` would yield a three-way split with one training set and two test sets. Only make sure that the column name and -values clearly indicate what the *training* set is meant to be; the names of the remaining sets are arbitrary. Prediction models are evaluated on each set (including the training set) separately."
   ]
  },
  {
   "cell_type": "markdown",
   "id": "ea2b6a20",
   "metadata": {},
   "source": [
    "## Step 1: Analyze Data and Train Classifier"
   ]
  },
  {
   "cell_type": "markdown",
   "id": "85be962c",
   "metadata": {},
   "source": [
    "Analyze the prepared data `X`. Only one simple function call is required to produce descriptive statistics, a high-quality classifier with automatically tuned hyperparameters, and an Out-of-Distribution detector.\n",
    "\n",
    "The corresponding command in CaTabRa's command-line interface is called `catabra analyze ...`."
   ]
  },
  {
   "cell_type": "code",
   "execution_count": 21,
   "id": "6c9f7b71",
   "metadata": {
    "execution": {
     "iopub.execute_input": "2023-04-13T13:00:41.222073Z",
     "iopub.status.busy": "2023-04-13T13:00:41.221875Z",
     "iopub.status.idle": "2023-04-13T13:03:44.251188Z",
     "shell.execute_reply": "2023-04-13T13:03:44.250411Z"
    },
    "scrolled": true
   },
   "outputs": [
    {
     "name": "stdout",
     "output_type": "stream",
     "text": [
      "Output folder \"/mnt/c/Users/skaltenl/Documents/catabra_2023/develop/catabra/examples/workflow\" already exists. Delete?\n",
      "[CaTabRa] ### Analysis started at 2023-04-13 15:00:41.878108\n",
      "[CaTabRa] Saving descriptive statistics completed\n"
     ]
    },
    {
     "name": "stderr",
     "output_type": "stream",
     "text": [
      "/mnt/c/Users/skaltenl/Documents/catabra_2023/develop/catabra/catabra/util/statistics.py:213: FutureWarning: The default value of numeric_only in DataFrame.corr is deprecated. In a future version, it will default to False. Select only valid columns or specify the value of numeric_only to silence this warning.\n",
      "  return dict_stat, dict_non_num_stat, (df.corr() if df.shape[1] <= corr_threshold else None)\n"
     ]
    },
    {
     "name": "stdout",
     "output_type": "stream",
     "text": [
      "[CaTabRa] Using AutoML-backend auto-sklearn for binary_classification\n",
      "[CaTabRa] Successfully loaded the following auto-sklearn add-on module(s): xgb\n",
      "[CaTabRa] Using auto-sklearn 2.0.\n"
     ]
    },
    {
     "name": "stderr",
     "output_type": "stream",
     "text": [
      "/home/skaltenl/anaconda3/envs/test2/lib/python3.9/site-packages/autosklearn/experimental/selector.py:24: FutureWarning: iteritems is deprecated and will be removed in a future version. Use .items instead.\n",
      "  for col, series in prediction.iteritems():\n",
      "/home/skaltenl/anaconda3/envs/test2/lib/python3.9/site-packages/smac/intensification/parallel_scheduling.py:153: UserWarning: SuccessiveHalving is executed with 1 workers only. Consider to use pynisher to use all available workers.\n",
      "  warnings.warn(\n"
     ]
    },
    {
     "name": "stdout",
     "output_type": "stream",
     "text": [
      "[CaTabRa] New ensemble fitted:\n",
      "    ensemble_val_roc_auc: 0.986260\n",
      "    n_constituent_models: 1\n",
      "    total_elapsed_time: 00:03\n",
      "[CaTabRa] New model #1 trained:\n",
      "    val_roc_auc: 0.989845\n",
      "    val_accuracy: 0.947368\n",
      "    val_balanced_accuracy: 0.946356\n",
      "    train_roc_auc: 1.000000\n",
      "    type: gradient_boosting\n",
      "    total_elapsed_time: 00:03\n",
      "[CaTabRa] New ensemble fitted:\n",
      "    ensemble_val_roc_auc: 0.986260\n",
      "    n_constituent_models: 1\n",
      "    total_elapsed_time: 00:06\n",
      "[CaTabRa] New model #2 trained:\n",
      "    val_roc_auc: 0.945430\n",
      "    val_accuracy: 0.921053\n",
      "    val_balanced_accuracy: 0.924134\n",
      "    train_roc_auc: 1.000000\n",
      "    type: gradient_boosting\n",
      "    total_elapsed_time: 00:05\n",
      "[CaTabRa] New ensemble fitted:\n",
      "    ensemble_val_roc_auc: 0.986260\n",
      "    n_constituent_models: 1\n",
      "    total_elapsed_time: 00:08\n",
      "[CaTabRa] New model #3 trained:\n",
      "    val_roc_auc: 0.971416\n",
      "    val_accuracy: 0.921053\n",
      "    val_balanced_accuracy: 0.919952\n",
      "    train_roc_auc: 0.993877\n",
      "    type: gradient_boosting\n",
      "    total_elapsed_time: 00:08\n",
      "[CaTabRa] New ensemble fitted:\n",
      "    ensemble_val_roc_auc: 0.987834\n",
      "    n_constituent_models: 3\n",
      "    total_elapsed_time: 00:11\n",
      "[CaTabRa] New model #4 trained:\n",
      "    val_roc_auc: 0.968250\n",
      "    val_accuracy: 0.929825\n",
      "    val_balanced_accuracy: 0.926523\n",
      "    train_roc_auc: 0.995034\n",
      "    type: gradient_boosting\n",
      "    total_elapsed_time: 00:10\n",
      "[CaTabRa] New ensemble fitted:\n",
      "    ensemble_val_roc_auc: 0.996953\n",
      "    n_constituent_models: 1\n",
      "    total_elapsed_time: 00:14\n",
      "[CaTabRa] New model #5 trained:\n",
      "    val_roc_auc: 0.997073\n",
      "    val_accuracy: 0.971491\n",
      "    val_balanced_accuracy: 0.970072\n",
      "    train_roc_auc: 0.999985\n",
      "    type: mlp\n",
      "    total_elapsed_time: 00:14\n",
      "[CaTabRa] New ensemble fitted:\n",
      "    ensemble_val_roc_auc: 0.996953\n",
      "    n_constituent_models: 1\n",
      "    total_elapsed_time: 00:16\n",
      "[CaTabRa] New model #6 trained:\n",
      "    val_roc_auc: 0.955048\n",
      "    val_accuracy: 0.914474\n",
      "    val_balanced_accuracy: 0.915233\n",
      "    train_roc_auc: 0.986036\n",
      "    type: gradient_boosting\n",
      "    total_elapsed_time: 00:16\n",
      "[CaTabRa] New ensemble fitted:\n",
      "    ensemble_val_roc_auc: 0.996953\n",
      "    n_constituent_models: 1\n",
      "    total_elapsed_time: 00:19\n",
      "[CaTabRa] New model #7 trained:\n",
      "    val_roc_auc: 0.990054\n",
      "    val_accuracy: 0.949561\n",
      "    val_balanced_accuracy: 0.946535\n",
      "    train_roc_auc: 1.000000\n",
      "    type: gradient_boosting\n",
      "    total_elapsed_time: 00:18\n",
      "[CaTabRa] New ensemble fitted:\n",
      "    ensemble_val_roc_auc: 0.997172\n",
      "    n_constituent_models: 2\n",
      "    total_elapsed_time: 00:21\n",
      "[CaTabRa] New model #8 trained:\n",
      "    val_roc_auc: 0.995579\n",
      "    val_accuracy: 0.949561\n",
      "    val_balanced_accuracy: 0.954898\n",
      "    train_roc_auc: 0.996864\n",
      "    type: mlp\n",
      "    total_elapsed_time: 00:21\n",
      "[CaTabRa] New ensemble fitted:\n",
      "    ensemble_val_roc_auc: 0.997172\n",
      "    n_constituent_models: 2\n",
      "    total_elapsed_time: 00:24\n",
      "[CaTabRa] New model #9 trained:\n",
      "    val_roc_auc: 0.990352\n",
      "    val_accuracy: 0.969298\n",
      "    val_balanced_accuracy: 0.967384\n",
      "    train_roc_auc: 0.999701\n",
      "    type: mlp\n",
      "    total_elapsed_time: 00:23\n",
      "[CaTabRa] New ensemble fitted:\n",
      "    ensemble_val_roc_auc: 0.997172\n",
      "    n_constituent_models: 2\n",
      "    total_elapsed_time: 00:26\n",
      "[CaTabRa] New ensemble fitted:\n",
      "    ensemble_val_roc_auc: 0.997172\n",
      "    n_constituent_models: 2\n",
      "    total_elapsed_time: 00:28\n",
      "[CaTabRa] New model #10 trained:\n",
      "    val_roc_auc: 0.988949\n",
      "    val_accuracy: 0.936404\n",
      "    val_balanced_accuracy: 0.937933\n",
      "    train_roc_auc: 0.999955\n",
      "    type: mlp\n",
      "    total_elapsed_time: 00:28\n",
      "[CaTabRa] New ensemble fitted:\n",
      "    ensemble_val_roc_auc: 0.997172\n",
      "    n_constituent_models: 2\n",
      "    total_elapsed_time: 00:31\n",
      "[CaTabRa] New model #11 trained:\n",
      "    val_roc_auc: 0.992861\n",
      "    val_accuracy: 0.964912\n",
      "    val_balanced_accuracy: 0.962007\n",
      "    train_roc_auc: 1.000000\n",
      "    type: extra_trees\n",
      "    total_elapsed_time: 00:30\n",
      "[CaTabRa] New ensemble fitted:\n",
      "    ensemble_val_roc_auc: 0.997172\n",
      "    n_constituent_models: 2\n",
      "    total_elapsed_time: 00:33\n",
      "[CaTabRa] New model #12 trained:\n",
      "    val_roc_auc: 0.991756\n",
      "    val_accuracy: 0.953947\n",
      "    val_balanced_accuracy: 0.951912\n",
      "    train_roc_auc: 1.000000\n",
      "    type: gradient_boosting\n",
      "    total_elapsed_time: 00:33\n",
      "[CaTabRa] New ensemble fitted:\n",
      "    ensemble_val_roc_auc: 0.997172\n",
      "    n_constituent_models: 2\n",
      "    total_elapsed_time: 00:35\n",
      "[CaTabRa] New ensemble fitted:\n",
      "    ensemble_val_roc_auc: 0.997172\n",
      "    n_constituent_models: 2\n",
      "    total_elapsed_time: 00:39\n",
      "[CaTabRa] New model #13 trained:\n",
      "    val_roc_auc: 0.995639\n",
      "    val_accuracy: 0.964912\n",
      "    val_balanced_accuracy: 0.961171\n",
      "    train_roc_auc: 0.999044\n",
      "    type: mlp\n",
      "    total_elapsed_time: 00:38\n",
      "[CaTabRa] New ensemble fitted:\n",
      "    ensemble_val_roc_auc: 0.997172\n",
      "    n_constituent_models: 2\n",
      "    total_elapsed_time: 00:41\n",
      "[CaTabRa] New model #14 trained:\n",
      "    val_roc_auc: 0.993429\n",
      "    val_accuracy: 0.967105\n",
      "    val_balanced_accuracy: 0.964695\n",
      "    train_roc_auc: 0.999836\n",
      "    type: extra_trees\n",
      "    total_elapsed_time: 00:40\n",
      "[CaTabRa] New ensemble fitted:\n",
      "    ensemble_val_roc_auc: 0.997172\n",
      "    n_constituent_models: 2\n",
      "    total_elapsed_time: 00:45\n",
      "[CaTabRa] New model #15 trained:\n",
      "    val_roc_auc: 0.958393\n",
      "    val_accuracy: 0.888158\n",
      "    val_balanced_accuracy: 0.889665\n",
      "    train_roc_auc: 0.973305\n",
      "    type: gradient_boosting\n",
      "    total_elapsed_time: 00:47\n",
      "[CaTabRa] New model #16 trained:\n",
      "    val_roc_auc: 0.989934\n",
      "    val_accuracy: 0.947368\n",
      "    val_balanced_accuracy: 0.944683\n",
      "    train_roc_auc: 0.997961\n",
      "    type: gradient_boosting\n",
      "    total_elapsed_time: 00:49\n",
      "[CaTabRa] New model #17 trained:\n",
      "    val_roc_auc: 0.969355\n",
      "    val_accuracy: 0.866228\n",
      "    val_balanced_accuracy: 0.863620\n",
      "    train_roc_auc: 0.969444\n",
      "    type: mlp\n",
      "    total_elapsed_time: 00:52\n",
      "[CaTabRa] New ensemble fitted:\n",
      "    ensemble_val_roc_auc: 0.997172\n",
      "    n_constituent_models: 2\n",
      "    total_elapsed_time: 00:54\n",
      "[CaTabRa] New model #18 trained:\n",
      "    val_roc_auc: 0.990382\n",
      "    val_accuracy: 0.942982\n",
      "    val_balanced_accuracy: 0.940143\n",
      "    train_roc_auc: 0.999806\n",
      "    type: gradient_boosting\n",
      "    total_elapsed_time: 00:54\n",
      "[CaTabRa] New model #19 trained:\n",
      "    val_roc_auc: 0.920311\n",
      "    val_accuracy: 0.875000\n",
      "    val_balanced_accuracy: 0.850956\n",
      "    train_roc_auc: 0.924418\n",
      "    type: mlp\n",
      "    total_elapsed_time: 00:56\n",
      "[CaTabRa] New model #20 trained:\n",
      "    val_roc_auc: 0.962873\n",
      "    val_accuracy: 0.903509\n",
      "    val_balanced_accuracy: 0.902628\n",
      "    train_roc_auc: 0.974208\n",
      "    type: gradient_boosting\n",
      "    total_elapsed_time: 00:58\n",
      "[CaTabRa] New ensemble fitted:\n",
      "    ensemble_val_roc_auc: 0.997172\n",
      "    n_constituent_models: 2\n",
      "    total_elapsed_time: 01:00\n",
      "[CaTabRa] New model #21 trained:\n",
      "    val_roc_auc: 0.992294\n",
      "    val_accuracy: 0.949561\n",
      "    val_balanced_accuracy: 0.946535\n",
      "    train_roc_auc: 1.000000\n",
      "    type: gradient_boosting\n",
      "    total_elapsed_time: 01:00\n",
      "[CaTabRa] New ensemble fitted:\n",
      "    ensemble_val_roc_auc: 0.997172\n",
      "    n_constituent_models: 2\n",
      "    total_elapsed_time: 01:03\n",
      "[CaTabRa] New model #22 trained:\n",
      "    val_roc_auc: 0.992234\n",
      "    val_accuracy: 0.945175\n",
      "    val_balanced_accuracy: 0.941995\n",
      "    train_roc_auc: 1.000000\n",
      "    type: gradient_boosting\n",
      "    total_elapsed_time: 01:03\n",
      "[CaTabRa] New model #23 trained:\n",
      "    val_roc_auc: 0.990024\n",
      "    val_accuracy: 0.945175\n",
      "    val_balanced_accuracy: 0.947013\n",
      "    train_roc_auc: 0.999895\n",
      "    type: mlp\n",
      "    total_elapsed_time: 01:05\n",
      "[CaTabRa] New model #24 trained:\n",
      "    val_roc_auc: 0.979271\n",
      "    val_accuracy: 0.763158\n",
      "    val_balanced_accuracy: 0.799164\n",
      "    train_roc_auc: 0.980526\n",
      "    type: sgd\n",
      "    total_elapsed_time: 01:07\n",
      "[CaTabRa] New ensemble fitted:\n",
      "    ensemble_val_roc_auc: 0.997172\n",
      "    n_constituent_models: 2\n",
      "    total_elapsed_time: 01:10\n",
      "[CaTabRa] New model #25 trained:\n",
      "    val_roc_auc: 0.994982\n",
      "    val_accuracy: 0.951754\n",
      "    val_balanced_accuracy: 0.941697\n",
      "    train_roc_auc: 0.996789\n",
      "    type: mlp\n",
      "    total_elapsed_time: 01:10\n",
      "[CaTabRa] New ensemble fitted:\n",
      "    ensemble_val_roc_auc: 0.997172\n",
      "    n_constituent_models: 2\n",
      "    total_elapsed_time: 01:13\n",
      "[CaTabRa] New model #26 trained:\n",
      "    val_roc_auc: 0.994385\n",
      "    val_accuracy: 0.967105\n",
      "    val_balanced_accuracy: 0.966368\n",
      "    train_roc_auc: 0.999940\n",
      "    type: mlp\n",
      "    total_elapsed_time: 01:13\n",
      "[CaTabRa] New model #27 trained:\n",
      "    val_roc_auc: 0.991099\n",
      "    val_accuracy: 0.962719\n",
      "    val_balanced_accuracy: 0.960155\n",
      "    train_roc_auc: 1.000000\n",
      "    type: extra_trees\n",
      "    total_elapsed_time: 01:16\n",
      "[CaTabRa] New model #28 trained:\n",
      "    val_roc_auc: 0.928614\n",
      "    val_accuracy: 0.620614\n",
      "    val_balanced_accuracy: 0.673775\n",
      "    train_roc_auc: 0.927225\n",
      "    type: mlp\n",
      "    total_elapsed_time: 01:18\n",
      "[CaTabRa] New model #29 trained:\n",
      "    val_roc_auc: 0.981123\n",
      "    val_accuracy: 0.912281\n",
      "    val_balanced_accuracy: 0.909200\n",
      "    train_roc_auc: 0.992891\n",
      "    type: random_forest\n",
      "    total_elapsed_time: 01:20\n",
      "[CaTabRa] New model #30 trained:\n",
      "    val_roc_auc: 0.935364\n",
      "    val_accuracy: 0.894737\n",
      "    val_balanced_accuracy: 0.890203\n",
      "    train_roc_auc: 0.950508\n",
      "    type: mlp\n",
      "    total_elapsed_time: 01:22\n",
      "[CaTabRa] New model #31 trained:\n",
      "    val_roc_auc: 0.991517\n",
      "    val_accuracy: 0.951754\n",
      "    val_balanced_accuracy: 0.950060\n",
      "    train_roc_auc: 1.000000\n",
      "    type: gradient_boosting\n",
      "    total_elapsed_time: 01:28\n",
      "[CaTabRa] New ensemble fitted:\n",
      "    ensemble_val_roc_auc: 0.997172\n",
      "    n_constituent_models: 2\n",
      "    total_elapsed_time: 01:32\n",
      "[CaTabRa] New model #32 trained:\n",
      "    val_roc_auc: 0.984648\n",
      "    val_accuracy: 0.921053\n",
      "    val_balanced_accuracy: 0.917443\n",
      "    train_roc_auc: 0.996364\n",
      "    type: random_forest\n",
      "    total_elapsed_time: 01:36\n",
      "[CaTabRa] New model #33 trained:\n",
      "    val_roc_auc: 0.991428\n",
      "    val_accuracy: 0.953947\n",
      "    val_balanced_accuracy: 0.953584\n",
      "    train_roc_auc: 1.000000\n",
      "    type: mlp\n",
      "    total_elapsed_time: 01:42\n",
      "[CaTabRa] New model #34 trained:\n",
      "    val_roc_auc: 0.963501\n",
      "    val_accuracy: 0.962719\n",
      "    val_balanced_accuracy: 0.963501\n",
      "    train_roc_auc: 0.977121\n",
      "    type: mlp\n",
      "    total_elapsed_time: 01:46\n",
      "[CaTabRa] New model #35 trained:\n",
      "    val_roc_auc: 0.948566\n",
      "    val_accuracy: 0.848684\n",
      "    val_balanced_accuracy: 0.860514\n",
      "    train_roc_auc: 0.950060\n",
      "    type: mlp\n",
      "    total_elapsed_time: 01:50\n",
      "[CaTabRa] New model #36 trained:\n",
      "    val_roc_auc: 0.984020\n",
      "    val_accuracy: 0.914474\n",
      "    val_balanced_accuracy: 0.911888\n",
      "    train_roc_auc: 0.995550\n",
      "    type: random_forest\n",
      "    total_elapsed_time: 01:52\n",
      "[CaTabRa] New model #37 trained:\n",
      "    val_roc_auc: 0.500000\n",
      "    val_accuracy: 0.469298\n",
      "    val_balanced_accuracy: 0.500000\n",
      "    train_roc_auc: 0.500000\n",
      "    type: mlp\n",
      "    total_elapsed_time: 01:55\n",
      "[CaTabRa] New model #38 trained:\n",
      "    val_roc_auc: 0.994295\n",
      "    val_accuracy: 0.967105\n",
      "    val_balanced_accuracy: 0.964695\n",
      "    train_roc_auc: 0.999910\n",
      "    type: mlp\n",
      "    total_elapsed_time: 01:59\n",
      "[CaTabRa] New model #39 trained:\n",
      "    val_roc_auc: 0.986141\n",
      "    val_accuracy: 0.938596\n",
      "    val_balanced_accuracy: 0.933931\n",
      "    train_roc_auc: 0.987963\n",
      "    type: extra_trees\n",
      "    total_elapsed_time: 02:02\n",
      "[CaTabRa] New model #40 trained:\n",
      "    val_roc_auc: 0.996894\n",
      "    val_accuracy: 0.967105\n",
      "    val_balanced_accuracy: 0.964695\n",
      "    train_roc_auc: 0.999955\n",
      "    type: mlp\n",
      "    total_elapsed_time: 02:05\n",
      "[CaTabRa] New model #41 trained:\n",
      "    val_roc_auc: 0.988411\n",
      "    val_accuracy: 0.969298\n",
      "    val_balanced_accuracy: 0.966547\n",
      "    train_roc_auc: 0.999925\n",
      "    type: mlp\n",
      "    total_elapsed_time: 02:09\n",
      "[CaTabRa] New model #42 trained:\n",
      "    val_roc_auc: 0.987276\n",
      "    val_accuracy: 0.929825\n",
      "    val_balanced_accuracy: 0.931541\n",
      "    train_roc_auc: 1.000000\n",
      "    type: gradient_boosting\n",
      "    total_elapsed_time: 02:11\n",
      "[CaTabRa] New model #43 trained:\n",
      "    val_roc_auc: 0.981481\n",
      "    val_accuracy: 0.947368\n",
      "    val_balanced_accuracy: 0.948029\n",
      "    train_roc_auc: 0.999627\n",
      "    type: mlp\n",
      "    total_elapsed_time: 02:18\n",
      "[CaTabRa] New model #44 trained:\n",
      "    val_roc_auc: 0.982796\n",
      "    val_accuracy: 0.936404\n",
      "    val_balanced_accuracy: 0.932915\n",
      "    train_roc_auc: 0.983244\n",
      "    type: mlp\n",
      "    total_elapsed_time: 02:22\n",
      "[CaTabRa] New model #45 trained:\n",
      "    val_roc_auc: 0.985603\n",
      "    val_accuracy: 0.912281\n",
      "    val_balanced_accuracy: 0.898327\n",
      "    train_roc_auc: 0.981825\n",
      "    type: extra_trees\n",
      "    total_elapsed_time: 02:25\n",
      "[CaTabRa] New model #46 trained:\n",
      "    val_roc_auc: 0.984767\n",
      "    val_accuracy: 0.929825\n",
      "    val_balanced_accuracy: 0.932378\n",
      "    train_roc_auc: 0.986499\n",
      "    type: passive_aggressive\n",
      "    total_elapsed_time: 02:27\n",
      "[CaTabRa] New model #47 trained:\n",
      "    val_roc_auc: 0.989247\n",
      "    val_accuracy: 0.942982\n",
      "    val_balanced_accuracy: 0.943489\n",
      "    train_roc_auc: 0.997805\n",
      "    type: gradient_boosting\n",
      "    total_elapsed_time: 02:29\n",
      "[CaTabRa] New model #48 trained:\n",
      "    val_roc_auc: 0.989904\n",
      "    val_accuracy: 0.947368\n",
      "    val_balanced_accuracy: 0.948029\n",
      "    train_roc_auc: 0.994430\n",
      "    type: extra_trees\n",
      "    total_elapsed_time: 02:34\n",
      "[CaTabRa] New model #49 trained:\n",
      "    val_roc_auc: 0.986918\n",
      "    val_accuracy: 0.927632\n",
      "    val_balanced_accuracy: 0.920490\n",
      "    train_roc_auc: 0.988023\n",
      "    type: mlp\n",
      "    total_elapsed_time: 02:38\n",
      "[CaTabRa] New ensemble fitted:\n",
      "    ensemble_val_roc_auc: 0.997172\n",
      "    n_constituent_models: 2\n",
      "    total_elapsed_time: 02:42\n",
      "[CaTabRa] New model #50 trained:\n",
      "    val_roc_auc: 0.996535\n",
      "    val_accuracy: 0.964912\n",
      "    val_balanced_accuracy: 0.962007\n",
      "    train_roc_auc: 0.999164\n",
      "    type: mlp\n",
      "    total_elapsed_time: 02:42\n",
      "[CaTabRa] New ensemble fitted:\n",
      "    ensemble_val_roc_auc: 0.997212\n",
      "    n_constituent_models: 2\n",
      "    total_elapsed_time: 02:46\n",
      "[CaTabRa] New model #51 trained:\n",
      "    val_roc_auc: 0.996595\n",
      "    val_accuracy: 0.971491\n",
      "    val_balanced_accuracy: 0.969235\n",
      "    train_roc_auc: 0.999970\n",
      "    type: mlp\n",
      "    total_elapsed_time: 02:46\n"
     ]
    },
    {
     "name": "stderr",
     "output_type": "stream",
     "text": [
      "/home/skaltenl/anaconda3/envs/test2/lib/python3.9/site-packages/sklearn/preprocessing/_data.py:3237: RuntimeWarning: divide by zero encountered in log\n",
      "  loglike = -n_samples / 2 * np.log(x_trans.var())\n",
      "/home/skaltenl/anaconda3/envs/test2/lib/python3.9/site-packages/sklearn/neural_network/_multilayer_perceptron.py:614: ConvergenceWarning: Stochastic Optimizer: Maximum iterations (32) reached and the optimization hasn't converged yet.\n",
      "  warnings.warn(\n",
      "/home/skaltenl/anaconda3/envs/test2/lib/python3.9/site-packages/sklearn/impute/_base.py:49: FutureWarning: Unlike other reduction functions (e.g. `skew`, `kurtosis`), the default behavior of `mode` typically preserves the axis it acts along. In SciPy 1.11.0, this behavior will change: the default value of `keepdims` will become False, the `axis` over which the statistic is taken will be eliminated, and the value None will no longer be accepted. Set `keepdims` to True or False to avoid this warning.\n",
      "  mode = stats.mode(array)\n",
      "/home/skaltenl/anaconda3/envs/test2/lib/python3.9/site-packages/sklearn/preprocessing/_data.py:3237: RuntimeWarning: divide by zero encountered in log\n",
      "  loglike = -n_samples / 2 * np.log(x_trans.var())\n",
      "/home/skaltenl/anaconda3/envs/test2/lib/python3.9/site-packages/sklearn/neural_network/_multilayer_perceptron.py:614: ConvergenceWarning: Stochastic Optimizer: Maximum iterations (32) reached and the optimization hasn't converged yet.\n",
      "  warnings.warn(\n"
     ]
    },
    {
     "name": "stdout",
     "output_type": "stream",
     "text": [
      "[CaTabRa] Final training statistics:\n",
      "    n_models_trained: 51\n",
      "    ensemble_val_roc_auc: 0.9972122660294704\n",
      "[CaTabRa] Creating shap explainer\n",
      "[CaTabRa] Initialized out-of-distribution detector of type BinsDetector\n",
      "[CaTabRa] Fitting out-of-distribution detector...\n",
      "[CaTabRa] Out-of-distribution detector fitted.\n",
      "[CaTabRa] ### Analysis finished at 2023-04-13 15:03:41.403394\n",
      "[CaTabRa] ### Elapsed time: 0 days 00:02:59.525286\n",
      "[CaTabRa] ### Output saved in /mnt/c/Users/skaltenl/Documents/catabra_2023/develop/catabra/examples/workflow\n",
      "[CaTabRa] ### Evaluation started at 2023-04-13 15:03:41.421730\n",
      "[CaTabRa] Saving descriptive statistics completed\n",
      "[CaTabRa] Predicting out-of-distribution samples.\n"
     ]
    },
    {
     "name": "stderr",
     "output_type": "stream",
     "text": [
      "The default value of numeric_only in DataFrame.corr is deprecated. In a future version, it will default to False. Select only valid columns or specify the value of numeric_only to silence this warning.\n"
     ]
    },
    {
     "name": "stdout",
     "output_type": "stream",
     "text": [
      "[CaTabRa] Saving descriptive statistics completed\n",
      "[CaTabRa] Predicting out-of-distribution samples.\n",
      "[CaTabRa] Evaluation results for train:\n",
      "    roc_auc: 0.9994623655913979\n",
      "    accuracy @ 0.5: 0.9868421052631579\n",
      "    balanced_accuracy @ 0.5: 0.9863799283154122\n"
     ]
    },
    {
     "name": "stderr",
     "output_type": "stream",
     "text": [
      "The default value of numeric_only in DataFrame.corr is deprecated. In a future version, it will default to False. Select only valid columns or specify the value of numeric_only to silence this warning.\n"
     ]
    },
    {
     "name": "stdout",
     "output_type": "stream",
     "text": [
      "[CaTabRa] Evaluation results for not_train:\n",
      "    roc_auc: 0.9991158267020337\n",
      "    accuracy @ 0.5: 0.9469026548672567\n",
      "    balanced_accuracy @ 0.5: 0.9655172413793103\n",
      "[CaTabRa] ### Evaluation finished at 2023-04-13 15:03:44.241915\n",
      "[CaTabRa] ### Elapsed time: 0 days 00:00:02.820185\n",
      "[CaTabRa] ### Output saved in /mnt/c/Users/skaltenl/Documents/catabra_2023/develop/catabra/examples/workflow/eval\n"
     ]
    }
   ],
   "source": [
    "from catabra.analysis import analyze\n",
    "\n",
    "analyze(\n",
    "    X,                        # table to analyze; can also be the path to a CSV/Excel/HDF5 file\n",
    "    classify='diagnosis',     # name of column containing classification target\n",
    "    split='train',            # name of column containing information about the train-test split (optional)\n",
    "    time=3,                   # time budget for hyperparameter tuning, in minutes (optional)\n",
    "    out=output_dir\n",
    ")"
   ]
  },
  {
   "cell_type": "markdown",
   "id": "8aa214ee",
   "metadata": {},
   "source": [
    "By specifying a train-test split, CaTabRa not only trains a classifier (on the training set) but also evaluates it (on both sets). The last few lines of the above logging output inform about the performance of the classifier on \"train\" and \"not_train\". More detailed results are available as well, as we will see in [Step 3](#Step-3:-Evaluate-Classifier)."
   ]
  },
  {
   "cell_type": "markdown",
   "id": "7fa54b34",
   "metadata": {},
   "source": [
    "The newly created directory specified by `output_dir` contains all results generated during data analysis, including\n",
    "\n",
    "* a copy of the used configuration: `config.json`,\n",
    "* the arguments passed to function `analyze()`: `invocation.json`,\n",
    "* [descriptive statistics of the analyzed data](#Descriptive-Statistics): `statistics/`,\n",
    "* the trained prediction model: `model.joblib`,\n",
    "* [information about the constituents of the prediction model and their hyperparameters](#Model-Summary): `model_summary.json`,\n",
    "* [the training history](#Training-History): `training_history.xlsx` and `training_history.pdf`,\n",
    "* the OOD-detector: `ood.joblib`, and\n",
    "* evaluation results (because we specified a train-test split): `eval/`."
   ]
  },
  {
   "cell_type": "markdown",
   "id": "a899d48b",
   "metadata": {},
   "source": [
    "### Descriptive Statistics"
   ]
  },
  {
   "cell_type": "markdown",
   "id": "58a8511f",
   "metadata": {},
   "source": [
    "Descriptive statistics are calculated for numeric and non-numeric (categorical) features separately and saved in `statistics/statistics_numeric.xlsx` and `statistics/statistics/non_numeric.xlsx`. It is easiest to simply view these files in Excel, but they can of course be loaded as pandas DataFrames, too.\n",
    "\n",
    "CaTabRa provides a convenience function for loading tables in arbitrary format, implemented in module [`catabra.util.io`](https://github.com/risc-mi/catabra/tree/main/catabra/util/io.py) `read_df()` for loading a single table and `read_dfs()` for loading all tables stored in a file. In classification tasks, descriptive statistics are computed both for the entire dataset and for each class individually and written to two different tables, so we use `read_dfs()` to load both of them:"
   ]
  },
  {
   "cell_type": "code",
   "execution_count": 22,
   "id": "a1e6da21",
   "metadata": {
    "execution": {
     "iopub.execute_input": "2023-04-13T13:03:44.255259Z",
     "iopub.status.busy": "2023-04-13T13:03:44.254499Z",
     "iopub.status.idle": "2023-04-13T13:03:44.365435Z",
     "shell.execute_reply": "2023-04-13T13:03:44.364723Z"
    }
   },
   "outputs": [],
   "source": [
    "stats = io.read_dfs(output_dir + '/statistics/statistics_numeric.xlsx')"
   ]
  },
  {
   "cell_type": "code",
   "execution_count": 23,
   "id": "d596b978",
   "metadata": {
    "execution": {
     "iopub.execute_input": "2023-04-13T13:03:44.367931Z",
     "iopub.status.busy": "2023-04-13T13:03:44.367732Z",
     "iopub.status.idle": "2023-04-13T13:03:44.377701Z",
     "shell.execute_reply": "2023-04-13T13:03:44.376999Z"
    }
   },
   "outputs": [
    {
     "data": {
      "text/html": [
       "<div>\n",
       "<style scoped>\n",
       "    .dataframe tbody tr th:only-of-type {\n",
       "        vertical-align: middle;\n",
       "    }\n",
       "\n",
       "    .dataframe tbody tr th {\n",
       "        vertical-align: top;\n",
       "    }\n",
       "\n",
       "    .dataframe thead th {\n",
       "        text-align: right;\n",
       "    }\n",
       "</style>\n",
       "<table border=\"1\" class=\"dataframe\">\n",
       "  <thead>\n",
       "    <tr style=\"text-align: right;\">\n",
       "      <th></th>\n",
       "      <th>Unnamed: 0</th>\n",
       "      <th>count</th>\n",
       "      <th>mean</th>\n",
       "      <th>std</th>\n",
       "      <th>min</th>\n",
       "      <th>25%</th>\n",
       "      <th>50%</th>\n",
       "      <th>75%</th>\n",
       "      <th>max</th>\n",
       "    </tr>\n",
       "  </thead>\n",
       "  <tbody>\n",
       "    <tr>\n",
       "      <th>0</th>\n",
       "      <td>mean radius</td>\n",
       "      <td>569</td>\n",
       "      <td>14.127292</td>\n",
       "      <td>3.524049</td>\n",
       "      <td>6.98100</td>\n",
       "      <td>11.70000</td>\n",
       "      <td>13.37000</td>\n",
       "      <td>15.7800</td>\n",
       "      <td>28.1100</td>\n",
       "    </tr>\n",
       "    <tr>\n",
       "      <th>1</th>\n",
       "      <td>mean texture</td>\n",
       "      <td>569</td>\n",
       "      <td>19.289649</td>\n",
       "      <td>4.301036</td>\n",
       "      <td>9.71000</td>\n",
       "      <td>16.17000</td>\n",
       "      <td>18.84000</td>\n",
       "      <td>21.8000</td>\n",
       "      <td>39.2800</td>\n",
       "    </tr>\n",
       "    <tr>\n",
       "      <th>2</th>\n",
       "      <td>mean perimeter</td>\n",
       "      <td>569</td>\n",
       "      <td>91.969033</td>\n",
       "      <td>24.298981</td>\n",
       "      <td>43.79000</td>\n",
       "      <td>75.17000</td>\n",
       "      <td>86.24000</td>\n",
       "      <td>104.1000</td>\n",
       "      <td>188.5000</td>\n",
       "    </tr>\n",
       "    <tr>\n",
       "      <th>3</th>\n",
       "      <td>mean area</td>\n",
       "      <td>569</td>\n",
       "      <td>654.889104</td>\n",
       "      <td>351.914129</td>\n",
       "      <td>143.50000</td>\n",
       "      <td>420.30000</td>\n",
       "      <td>551.10000</td>\n",
       "      <td>782.7000</td>\n",
       "      <td>2501.0000</td>\n",
       "    </tr>\n",
       "    <tr>\n",
       "      <th>4</th>\n",
       "      <td>mean smoothness</td>\n",
       "      <td>569</td>\n",
       "      <td>0.096360</td>\n",
       "      <td>0.014064</td>\n",
       "      <td>0.05263</td>\n",
       "      <td>0.08637</td>\n",
       "      <td>0.09587</td>\n",
       "      <td>0.1053</td>\n",
       "      <td>0.1634</td>\n",
       "    </tr>\n",
       "  </tbody>\n",
       "</table>\n",
       "</div>"
      ],
      "text/plain": [
       "        Unnamed: 0  count        mean         std        min        25%  \\\n",
       "0      mean radius    569   14.127292    3.524049    6.98100   11.70000   \n",
       "1     mean texture    569   19.289649    4.301036    9.71000   16.17000   \n",
       "2   mean perimeter    569   91.969033   24.298981   43.79000   75.17000   \n",
       "3        mean area    569  654.889104  351.914129  143.50000  420.30000   \n",
       "4  mean smoothness    569    0.096360    0.014064    0.05263    0.08637   \n",
       "\n",
       "         50%       75%        max  \n",
       "0   13.37000   15.7800    28.1100  \n",
       "1   18.84000   21.8000    39.2800  \n",
       "2   86.24000  104.1000   188.5000  \n",
       "3  551.10000  782.7000  2501.0000  \n",
       "4    0.09587    0.1053     0.1634  "
      ]
     },
     "execution_count": 23,
     "metadata": {},
     "output_type": "execute_result"
    }
   ],
   "source": [
    "# overall statistics\n",
    "stats['overall'].head()"
   ]
  },
  {
   "cell_type": "code",
   "execution_count": 24,
   "id": "1dd1a39c",
   "metadata": {
    "execution": {
     "iopub.execute_input": "2023-04-13T13:03:44.380761Z",
     "iopub.status.busy": "2023-04-13T13:03:44.380093Z",
     "iopub.status.idle": "2023-04-13T13:03:44.390687Z",
     "shell.execute_reply": "2023-04-13T13:03:44.390031Z"
    }
   },
   "outputs": [
    {
     "data": {
      "text/html": [
       "<div>\n",
       "<style scoped>\n",
       "    .dataframe tbody tr th:only-of-type {\n",
       "        vertical-align: middle;\n",
       "    }\n",
       "\n",
       "    .dataframe tbody tr th {\n",
       "        vertical-align: top;\n",
       "    }\n",
       "\n",
       "    .dataframe thead th {\n",
       "        text-align: right;\n",
       "    }\n",
       "</style>\n",
       "<table border=\"1\" class=\"dataframe\">\n",
       "  <thead>\n",
       "    <tr style=\"text-align: right;\">\n",
       "      <th></th>\n",
       "      <th>Feature</th>\n",
       "      <th>diagnosis</th>\n",
       "      <th>count</th>\n",
       "      <th>mean</th>\n",
       "      <th>std</th>\n",
       "      <th>min</th>\n",
       "      <th>25%</th>\n",
       "      <th>50%</th>\n",
       "      <th>75%</th>\n",
       "      <th>max</th>\n",
       "      <th>mann_whitney_u</th>\n",
       "    </tr>\n",
       "  </thead>\n",
       "  <tbody>\n",
       "    <tr>\n",
       "      <th>0</th>\n",
       "      <td>mean radius</td>\n",
       "      <td>0</td>\n",
       "      <td>212</td>\n",
       "      <td>17.462830</td>\n",
       "      <td>3.203971</td>\n",
       "      <td>10.950</td>\n",
       "      <td>15.0750</td>\n",
       "      <td>17.325</td>\n",
       "      <td>19.590</td>\n",
       "      <td>28.11</td>\n",
       "      <td>2.692943e-68</td>\n",
       "    </tr>\n",
       "    <tr>\n",
       "      <th>1</th>\n",
       "      <td>mean radius</td>\n",
       "      <td>1</td>\n",
       "      <td>357</td>\n",
       "      <td>12.146524</td>\n",
       "      <td>1.780512</td>\n",
       "      <td>6.981</td>\n",
       "      <td>11.0800</td>\n",
       "      <td>12.200</td>\n",
       "      <td>13.370</td>\n",
       "      <td>17.85</td>\n",
       "      <td>2.692943e-68</td>\n",
       "    </tr>\n",
       "    <tr>\n",
       "      <th>2</th>\n",
       "      <td>mean texture</td>\n",
       "      <td>0</td>\n",
       "      <td>212</td>\n",
       "      <td>21.604906</td>\n",
       "      <td>3.779470</td>\n",
       "      <td>10.380</td>\n",
       "      <td>19.3275</td>\n",
       "      <td>21.460</td>\n",
       "      <td>23.765</td>\n",
       "      <td>39.28</td>\n",
       "      <td>3.428627e-28</td>\n",
       "    </tr>\n",
       "    <tr>\n",
       "      <th>3</th>\n",
       "      <td>mean texture</td>\n",
       "      <td>1</td>\n",
       "      <td>357</td>\n",
       "      <td>17.914762</td>\n",
       "      <td>3.995125</td>\n",
       "      <td>9.710</td>\n",
       "      <td>15.1500</td>\n",
       "      <td>17.390</td>\n",
       "      <td>19.760</td>\n",
       "      <td>33.81</td>\n",
       "      <td>3.428627e-28</td>\n",
       "    </tr>\n",
       "    <tr>\n",
       "      <th>4</th>\n",
       "      <td>mean perimeter</td>\n",
       "      <td>0</td>\n",
       "      <td>212</td>\n",
       "      <td>115.365377</td>\n",
       "      <td>21.854653</td>\n",
       "      <td>71.900</td>\n",
       "      <td>98.7450</td>\n",
       "      <td>114.200</td>\n",
       "      <td>129.925</td>\n",
       "      <td>188.50</td>\n",
       "      <td>3.553870e-71</td>\n",
       "    </tr>\n",
       "  </tbody>\n",
       "</table>\n",
       "</div>"
      ],
      "text/plain": [
       "          Feature  diagnosis  count        mean        std     min      25%  \\\n",
       "0     mean radius          0    212   17.462830   3.203971  10.950  15.0750   \n",
       "1     mean radius          1    357   12.146524   1.780512   6.981  11.0800   \n",
       "2    mean texture          0    212   21.604906   3.779470  10.380  19.3275   \n",
       "3    mean texture          1    357   17.914762   3.995125   9.710  15.1500   \n",
       "4  mean perimeter          0    212  115.365377  21.854653  71.900  98.7450   \n",
       "\n",
       "       50%      75%     max  mann_whitney_u  \n",
       "0   17.325   19.590   28.11    2.692943e-68  \n",
       "1   12.200   13.370   17.85    2.692943e-68  \n",
       "2   21.460   23.765   39.28    3.428627e-28  \n",
       "3   17.390   19.760   33.81    3.428627e-28  \n",
       "4  114.200  129.925  188.50    3.553870e-71  "
      ]
     },
     "execution_count": 24,
     "metadata": {},
     "output_type": "execute_result"
    }
   ],
   "source": [
    "# statistics per class\n",
    "stats['diagnosis']['Feature'].fillna(method='ffill', inplace=True)\n",
    "stats['diagnosis'].head()"
   ]
  },
  {
   "cell_type": "markdown",
   "id": "ee152a5f",
   "metadata": {},
   "source": [
    "In the above per-class statistics, a [Mann-Whitney *U* test](https://en.wikipedia.org/wiki/Mann%E2%80%93Whitney_U_test) is performed to detect statistically significant differences in the distribution of a feature between the different classes, and the resulting *p*-values are reported in column `mann_whitney_u`."
   ]
  },
  {
   "cell_type": "markdown",
   "id": "2a5a2f16",
   "metadata": {},
   "source": [
    "For more information about the descriptive statistics computed by CaTabRa by default, refer to [Statistics](https://catabra.readthedocs.io/en/latest/app_docs/statistics_link.html).\n",
    "\n",
    "Descriptive statistics can be computed manually as well, see module [`catabra.util.statistics`](https://github.com/risc-mi/catabra/tree/main/catabra/util/statistics.py) for details."
   ]
  },
  {
   "cell_type": "markdown",
   "id": "2f1db4ed",
   "metadata": {},
   "source": [
    "### Model Summary"
   ]
  },
  {
   "cell_type": "markdown",
   "id": "5f8266b2",
   "metadata": {},
   "source": [
    "The final prediction model is summarized in `model_summary.json`. This file contains a dict with information about the individual constituent models (if the model is an ensemble), the used preprocessing steps, and the selected hyperparameter values. The exact format depends on the used AutoML backend, but for the default auto-sklearn backend the main information is contained in the list under the `\"models\"` key, as can be seen below:"
   ]
  },
  {
   "cell_type": "code",
   "execution_count": 25,
   "id": "1fb2210e",
   "metadata": {
    "execution": {
     "iopub.execute_input": "2023-04-13T13:03:44.393489Z",
     "iopub.status.busy": "2023-04-13T13:03:44.393274Z",
     "iopub.status.idle": "2023-04-13T13:03:44.399958Z",
     "shell.execute_reply": "2023-04-13T13:03:44.399348Z"
    }
   },
   "outputs": [
    {
     "data": {
      "text/plain": [
       "{'automl': 'auto-sklearn',\n",
       " 'task': 'binary_classification',\n",
       " 'models': [{'model_id': 6,\n",
       "   'rank': 1,\n",
       "   'cost': 0.00561529271206688,\n",
       "   'ensemble_weight': 0.0,\n",
       "   'data_preprocessor': \"FeatTypeSplit(column_transformer=ColumnTransformer(sparse_threshold=0.0, transformers=[('numerical_transformer', NumericalPreprocessingPipeline(config=Configuration(values={ 'imputation:strategy': 'median', 'rescaling:__choice__': 'power_transformer', }) , dataset_properties={'signed': False, 'sparse': False}, exclude={}, include={}, init_params={}, steps=[('imput... 'symmetry error': 'numerical', 'texture error': 'numerical', 'worst area': 'numerical', 'worst compactness': 'numerical', 'worst concave points': 'numerical', 'worst concavity': 'numerical', 'worst fractal dimension': 'numerical', 'worst perimeter': 'numerical', 'worst radius': 'numerical', 'worst smoothness': 'numerical', 'worst symmetry': 'numerical', 'worst texture': 'numerical'}, init_params={})\",\n",
       "   'balancing': 'Balancing(random_state=42)',\n",
       "   'feature_preprocessor': 'NoPreprocessing(<unknown params>)',\n",
       "   'classifier': 'MLPClassifier(alpha=0.07979356062608887, beta_1=0.999, beta_2=0.9, early_stopping=True, hidden_layer_sizes=(257, 257, 257), learning_rate_init=0.001829312822950054, max_iter=32, n_iter_no_change=32, random_state=42, verbose=0, warm_start=True)'},\n",
       "  {'model_id': 60,\n",
       "   'rank': 2,\n",
       "   'cost': 0.0034050179211469276,\n",
       "   'ensemble_weight': 0.7,\n",
       "   'data_preprocessor': \"FeatTypeSplit(column_transformer=ColumnTransformer(sparse_threshold=0.0, transformers=[('numerical_transformer', NumericalPreprocessingPipeline(config=Configuration(values={ 'imputation:strategy': 'most_frequent', 'rescaling:__choice__': 'power_transformer', }) , dataset_properties={'signed': False, 'sparse': False}, exclude={}, include={}, init_params={}, steps=[... 'symmetry error': 'numerical', 'texture error': 'numerical', 'worst area': 'numerical', 'worst compactness': 'numerical', 'worst concave points': 'numerical', 'worst concavity': 'numerical', 'worst fractal dimension': 'numerical', 'worst perimeter': 'numerical', 'worst radius': 'numerical', 'worst smoothness': 'numerical', 'worst symmetry': 'numerical', 'worst texture': 'numerical'}, init_params={})\",\n",
       "   'balancing': 'Balancing(random_state=42)',\n",
       "   'feature_preprocessor': 'NoPreprocessing(<unknown params>)',\n",
       "   'classifier': 'MLPClassifier(alpha=2.9638327738166795e-05, beta_1=0.999, beta_2=0.9, early_stopping=True, hidden_layer_sizes=(241,), learning_rate_init=0.008555948122763763, max_iter=32, n_iter_no_change=32, random_state=42, verbose=0, warm_start=True)'}]}"
      ]
     },
     "execution_count": 25,
     "metadata": {},
     "output_type": "execute_result"
    }
   ],
   "source": [
    "io.load(output_dir + '/model_summary.json')"
   ]
  },
  {
   "cell_type": "markdown",
   "id": "36abb251",
   "metadata": {},
   "source": [
    "### Training History"
   ]
  },
  {
   "cell_type": "markdown",
   "id": "7bf1450f",
   "metadata": {},
   "source": [
    "Information about each model trained during hyperparameter optimization is contained in `training_history.xlsx` and visualized in `training_history.pdf`:"
   ]
  },
  {
   "cell_type": "code",
   "execution_count": 26,
   "id": "44407657",
   "metadata": {
    "execution": {
     "iopub.execute_input": "2023-04-13T13:03:44.402468Z",
     "iopub.status.busy": "2023-04-13T13:03:44.402266Z",
     "iopub.status.idle": "2023-04-13T13:03:44.431739Z",
     "shell.execute_reply": "2023-04-13T13:03:44.431099Z"
    }
   },
   "outputs": [
    {
     "data": {
      "text/html": [
       "<div>\n",
       "<style scoped>\n",
       "    .dataframe tbody tr th:only-of-type {\n",
       "        vertical-align: middle;\n",
       "    }\n",
       "\n",
       "    .dataframe tbody tr th {\n",
       "        vertical-align: top;\n",
       "    }\n",
       "\n",
       "    .dataframe thead th {\n",
       "        text-align: right;\n",
       "    }\n",
       "</style>\n",
       "<table border=\"1\" class=\"dataframe\">\n",
       "  <thead>\n",
       "    <tr style=\"text-align: right;\">\n",
       "      <th></th>\n",
       "      <th>model_id</th>\n",
       "      <th>timestamp</th>\n",
       "      <th>total_elapsed_time</th>\n",
       "      <th>type</th>\n",
       "      <th>val_roc_auc</th>\n",
       "      <th>val_accuracy</th>\n",
       "      <th>val_balanced_accuracy</th>\n",
       "      <th>train_roc_auc</th>\n",
       "      <th>duration</th>\n",
       "      <th>ensemble_weight</th>\n",
       "      <th>ensemble_val_roc_auc</th>\n",
       "    </tr>\n",
       "  </thead>\n",
       "  <tbody>\n",
       "    <tr>\n",
       "      <th>0</th>\n",
       "      <td>2</td>\n",
       "      <td>2023-04-13 15:00:46.003</td>\n",
       "      <td>0 days 00:00:03.044101953</td>\n",
       "      <td>gradient_boosting</td>\n",
       "      <td>0.989845</td>\n",
       "      <td>0.947368</td>\n",
       "      <td>0.946356</td>\n",
       "      <td>1.000000</td>\n",
       "      <td>2.391810</td>\n",
       "      <td>0.0</td>\n",
       "      <td>0.986260</td>\n",
       "    </tr>\n",
       "    <tr>\n",
       "      <th>1</th>\n",
       "      <td>3</td>\n",
       "      <td>2023-04-13 15:00:48.393</td>\n",
       "      <td>0 days 00:00:05.434068441</td>\n",
       "      <td>gradient_boosting</td>\n",
       "      <td>0.945430</td>\n",
       "      <td>0.921053</td>\n",
       "      <td>0.924134</td>\n",
       "      <td>1.000000</td>\n",
       "      <td>2.265227</td>\n",
       "      <td>0.0</td>\n",
       "      <td>0.986260</td>\n",
       "    </tr>\n",
       "    <tr>\n",
       "      <th>2</th>\n",
       "      <td>4</td>\n",
       "      <td>2023-04-13 15:00:51.003</td>\n",
       "      <td>0 days 00:00:08.043761730</td>\n",
       "      <td>gradient_boosting</td>\n",
       "      <td>0.971416</td>\n",
       "      <td>0.921053</td>\n",
       "      <td>0.919952</td>\n",
       "      <td>0.993877</td>\n",
       "      <td>2.473614</td>\n",
       "      <td>0.0</td>\n",
       "      <td>0.986260</td>\n",
       "    </tr>\n",
       "    <tr>\n",
       "      <th>3</th>\n",
       "      <td>5</td>\n",
       "      <td>2023-04-13 15:00:53.396</td>\n",
       "      <td>0 days 00:00:10.437424898</td>\n",
       "      <td>gradient_boosting</td>\n",
       "      <td>0.968250</td>\n",
       "      <td>0.929825</td>\n",
       "      <td>0.926523</td>\n",
       "      <td>0.995034</td>\n",
       "      <td>2.244282</td>\n",
       "      <td>0.0</td>\n",
       "      <td>0.987834</td>\n",
       "    </tr>\n",
       "    <tr>\n",
       "      <th>4</th>\n",
       "      <td>6</td>\n",
       "      <td>2023-04-13 15:00:56.929</td>\n",
       "      <td>0 days 00:00:13.970171690</td>\n",
       "      <td>mlp</td>\n",
       "      <td>0.997073</td>\n",
       "      <td>0.971491</td>\n",
       "      <td>0.970072</td>\n",
       "      <td>0.999985</td>\n",
       "      <td>3.378461</td>\n",
       "      <td>0.0</td>\n",
       "      <td>0.996953</td>\n",
       "    </tr>\n",
       "  </tbody>\n",
       "</table>\n",
       "</div>"
      ],
      "text/plain": [
       "   model_id               timestamp         total_elapsed_time  \\\n",
       "0         2 2023-04-13 15:00:46.003  0 days 00:00:03.044101953   \n",
       "1         3 2023-04-13 15:00:48.393  0 days 00:00:05.434068441   \n",
       "2         4 2023-04-13 15:00:51.003  0 days 00:00:08.043761730   \n",
       "3         5 2023-04-13 15:00:53.396  0 days 00:00:10.437424898   \n",
       "4         6 2023-04-13 15:00:56.929  0 days 00:00:13.970171690   \n",
       "\n",
       "                type  val_roc_auc  val_accuracy  val_balanced_accuracy  \\\n",
       "0  gradient_boosting     0.989845      0.947368               0.946356   \n",
       "1  gradient_boosting     0.945430      0.921053               0.924134   \n",
       "2  gradient_boosting     0.971416      0.921053               0.919952   \n",
       "3  gradient_boosting     0.968250      0.929825               0.926523   \n",
       "4                mlp     0.997073      0.971491               0.970072   \n",
       "\n",
       "   train_roc_auc  duration  ensemble_weight  ensemble_val_roc_auc  \n",
       "0       1.000000  2.391810              0.0              0.986260  \n",
       "1       1.000000  2.265227              0.0              0.986260  \n",
       "2       0.993877  2.473614              0.0              0.986260  \n",
       "3       0.995034  2.244282              0.0              0.987834  \n",
       "4       0.999985  3.378461              0.0              0.996953  "
      ]
     },
     "execution_count": 26,
     "metadata": {},
     "output_type": "execute_result"
    }
   ],
   "source": [
    "io.read_df(output_dir + '/training_history.xlsx').drop('Unnamed: 0', axis=1, errors='ignore').head()"
   ]
  },
  {
   "cell_type": "markdown",
   "id": "40797561",
   "metadata": {},
   "source": [
    "## Step 2: Calibrate Classifier"
   ]
  },
  {
   "cell_type": "markdown",
   "id": "62c1df53",
   "metadata": {},
   "source": [
    "Classifiers can be calibrated to ensure that the probability estimates they return correspond to the \"true\" confidence of the model. As in the initial data analysis and model construction, one simple function call suffices to calibrate a classifier in CaTabRa.\n",
    "\n",
    "Worth noting are the use of the `from_invocation` keyword argument, which automatically sets all unspecified arguments to the values stored in the given JSON file; this, for example, applies to `split`. The effect of setting `subset` to `True` is that the classifier is only calibrated on those samples whose value in the train-test-split column `\"train\"` is `True` (i.e., the training set). Normally, classifiers should not be calibrated on the training set, though. After calibration, `model.joblib` is replaced by the new, calibrated model.\n",
    "\n",
    "The corresponding command in CaTabRa's command-line interface is `catabra calibrate ...`."
   ]
  },
  {
   "cell_type": "code",
   "execution_count": 27,
   "id": "762b284c",
   "metadata": {
    "execution": {
     "iopub.execute_input": "2023-04-13T13:03:44.434500Z",
     "iopub.status.busy": "2023-04-13T13:03:44.434274Z",
     "iopub.status.idle": "2023-04-13T13:03:45.774675Z",
     "shell.execute_reply": "2023-04-13T13:03:45.773842Z"
    }
   },
   "outputs": [
    {
     "name": "stdout",
     "output_type": "stream",
     "text": [
      "[CaTabRa] ### Calibration started at 2023-04-13 15:03:44.475144\n",
      "[CaTabRa] Restricting table to calibration subset train = True (456 entries)\n",
      "[CaTabRa] ### Calibration finished at 2023-04-13 15:03:45.766419\n",
      "[CaTabRa] ### Elapsed time: 0 days 00:00:01.291275\n",
      "[CaTabRa] ### Output saved in /mnt/c/Users/skaltenl/Documents/catabra_2023/develop/catabra/examples/workflow/calib\n"
     ]
    }
   ],
   "source": [
    "from catabra.calibration import calibrate\n",
    "\n",
    "calibrate(\n",
    "    X,\n",
    "    folder=output_dir,    # directory containing trained classifier (= output directory of previous call to `analyze()`)\n",
    "    from_invocation=output_dir + '/invocation.json',\n",
    "    subset=True,\n",
    "    out=output_dir + '/calib'\n",
    ")"
   ]
  },
  {
   "cell_type": "markdown",
   "id": "8841fbcb",
   "metadata": {},
   "source": [
    "## Step 3: Evaluate Classifier"
   ]
  },
  {
   "cell_type": "markdown",
   "id": "091e51ac",
   "metadata": {},
   "source": [
    "Prediction models can be evaluated on (labeled) data that have the same format as the data they were initially trained on, as passed to function [`catabra.analysis.analyze()`](https://github.com/risc-mi/catabra/tree/main/catabra/analysis/main.py). Again, one simple function call is sufficient. If the data is split into two or more disjoint subsets via argument `split` (implicit in `from_invocation` below), the model is evaluated on each of these subsets separately.\n",
    "\n",
    "[Bootstrapping](https://en.wikipedia.org/wiki/Bootstrapping_(statistics)) can be used to obtain estimates on the variance, confidence interval, etc. of the performance of our classifier. We activate it by simply setting `bootstrapping_repetitions` to the desired number of repetitions.\n",
    "\n",
    "Since the desired output directory has been created by function `analyze()` already, we are asked whether it should be replaced.\n",
    "\n",
    "The corresponding command in CaTabRa's command-line interface is `catabra evaluate ...`."
   ]
  },
  {
   "cell_type": "code",
   "execution_count": 28,
   "id": "75b90218",
   "metadata": {
    "execution": {
     "iopub.execute_input": "2023-04-13T13:03:45.777871Z",
     "iopub.status.busy": "2023-04-13T13:03:45.777644Z",
     "iopub.status.idle": "2023-04-13T13:04:01.650437Z",
     "shell.execute_reply": "2023-04-13T13:04:01.649250Z"
    }
   },
   "outputs": [
    {
     "name": "stdout",
     "output_type": "stream",
     "text": [
      "Evaluation folder \"/mnt/c/Users/skaltenl/Documents/catabra_2023/develop/catabra/examples/workflow/eval\" already exists. Delete?\n",
      "[CaTabRa] ### Evaluation started at 2023-04-13 15:03:45.781536\n",
      "[CaTabRa] Saving descriptive statistics completed\n",
      "[CaTabRa] Predicting out-of-distribution samples.\n"
     ]
    },
    {
     "name": "stderr",
     "output_type": "stream",
     "text": [
      "The default value of numeric_only in DataFrame.corr is deprecated. In a future version, it will default to False. Select only valid columns or specify the value of numeric_only to silence this warning.\n"
     ]
    },
    {
     "name": "stdout",
     "output_type": "stream",
     "text": [
      "[CaTabRa] Saving descriptive statistics completed\n",
      "[CaTabRa] Predicting out-of-distribution samples.\n"
     ]
    },
    {
     "name": "stderr",
     "output_type": "stream",
     "text": [
      "The default value of numeric_only in DataFrame.corr is deprecated. In a future version, it will default to False. Select only valid columns or specify the value of numeric_only to silence this warning.\n"
     ]
    },
    {
     "name": "stdout",
     "output_type": "stream",
     "text": [
      "[CaTabRa] Evaluation results for train:\n",
      "    roc_auc: 0.9994623655913979\n",
      "    accuracy @ 0.5: 0.9868421052631579\n",
      "    balanced_accuracy @ 0.5: 0.9863799283154122\n",
      "[CaTabRa] Evaluation results for not_train:\n",
      "    roc_auc: 0.9991158267020337\n",
      "    accuracy @ 0.5: 0.9469026548672567\n",
      "    balanced_accuracy @ 0.5: 0.9655172413793103\n",
      "[CaTabRa] ### Evaluation finished at 2023-04-13 15:04:01.642427\n",
      "[CaTabRa] ### Elapsed time: 0 days 00:00:15.860891\n",
      "[CaTabRa] ### Output saved in /mnt/c/Users/skaltenl/Documents/catabra_2023/develop/catabra/examples/workflow/eval\n"
     ]
    }
   ],
   "source": [
    "from catabra.evaluation import evaluate\n",
    "\n",
    "evaluate(\n",
    "    X,\n",
    "    folder=output_dir,    # directory containing trained classifier (= output directory of previous call to `analyze()`)\n",
    "    from_invocation=output_dir + '/invocation.json',\n",
    "    bootstrapping_repetitions=1000,   # number of bootstrapping repetitions to perform; set to 0 to disable bootstrapping\n",
    "    out=output_dir + '/eval'\n",
    ")"
   ]
  },
  {
   "cell_type": "markdown",
   "id": "d6539bcc",
   "metadata": {},
   "source": [
    "Note how accuracy and balanced accuracy changed compared to the initial data analysis. This is because of model calibration, which potentially affects thresholded metrics (like accuracy and balanced accuracy) but leaves threshold-independent metrics, like ROC-AUC, unchanged."
   ]
  },
  {
   "cell_type": "markdown",
   "id": "1f4e960f",
   "metadata": {},
   "source": [
    "### Performance Metrics (Non-Bootstrapped)"
   ]
  },
  {
   "cell_type": "markdown",
   "id": "4cf23ce9",
   "metadata": {},
   "source": [
    "One of the main evaluation results produced by CaTabRa are tables with detailed information on model performance, and corresponding visualizations. In our case, they are contained in subdirectories `eval/train/` and `eval/not_train/`."
   ]
  },
  {
   "cell_type": "markdown",
   "id": "e20414c3",
   "metadata": {},
   "source": [
    "Non-bootstrapped performance metrics are saved in `metrics.xlsx`. In binary classification, this file consists of the three tables `\"overall\"`, `\"thresholded\"` and `\"calibration\"`."
   ]
  },
  {
   "cell_type": "code",
   "execution_count": 29,
   "id": "666f102a",
   "metadata": {
    "execution": {
     "iopub.execute_input": "2023-04-13T13:04:01.653764Z",
     "iopub.status.busy": "2023-04-13T13:04:01.653546Z",
     "iopub.status.idle": "2023-04-13T13:04:01.691499Z",
     "shell.execute_reply": "2023-04-13T13:04:01.690862Z"
    }
   },
   "outputs": [],
   "source": [
    "metrics = io.read_dfs(output_dir + '/eval/not_train/metrics.xlsx')"
   ]
  },
  {
   "cell_type": "markdown",
   "id": "d0172186",
   "metadata": {},
   "source": [
    "Table `\"overall\"` contains non-thresholded performance metrics, like ROC-AUC, average precision, etc.:"
   ]
  },
  {
   "cell_type": "code",
   "execution_count": 30,
   "id": "9a5ac2b2",
   "metadata": {
    "execution": {
     "iopub.execute_input": "2023-04-13T13:04:01.694244Z",
     "iopub.status.busy": "2023-04-13T13:04:01.694046Z",
     "iopub.status.idle": "2023-04-13T13:04:01.702184Z",
     "shell.execute_reply": "2023-04-13T13:04:01.701504Z"
    }
   },
   "outputs": [
    {
     "data": {
      "text/html": [
       "<div>\n",
       "<style scoped>\n",
       "    .dataframe tbody tr th:only-of-type {\n",
       "        vertical-align: middle;\n",
       "    }\n",
       "\n",
       "    .dataframe tbody tr th {\n",
       "        vertical-align: top;\n",
       "    }\n",
       "\n",
       "    .dataframe thead th {\n",
       "        text-align: right;\n",
       "    }\n",
       "</style>\n",
       "<table border=\"1\" class=\"dataframe\">\n",
       "  <thead>\n",
       "    <tr style=\"text-align: right;\">\n",
       "      <th></th>\n",
       "      <th>Unnamed: 0</th>\n",
       "      <th>pos_label</th>\n",
       "      <th>n</th>\n",
       "      <th>n_pos</th>\n",
       "      <th>roc_auc</th>\n",
       "      <th>average_precision</th>\n",
       "      <th>pr_auc</th>\n",
       "      <th>brier_loss</th>\n",
       "      <th>hinge_loss</th>\n",
       "      <th>log_loss</th>\n",
       "    </tr>\n",
       "  </thead>\n",
       "  <tbody>\n",
       "    <tr>\n",
       "      <th>0</th>\n",
       "      <td>diagnosis</td>\n",
       "      <td>1</td>\n",
       "      <td>113</td>\n",
       "      <td>87</td>\n",
       "      <td>0.999116</td>\n",
       "      <td>0.999742</td>\n",
       "      <td>0.99974</td>\n",
       "      <td>0.03369</td>\n",
       "      <td>0.283123</td>\n",
       "      <td>0.125328</td>\n",
       "    </tr>\n",
       "  </tbody>\n",
       "</table>\n",
       "</div>"
      ],
      "text/plain": [
       "  Unnamed: 0  pos_label    n  n_pos   roc_auc  average_precision   pr_auc  \\\n",
       "0  diagnosis          1  113     87  0.999116           0.999742  0.99974   \n",
       "\n",
       "   brier_loss  hinge_loss  log_loss  \n",
       "0     0.03369    0.283123  0.125328  "
      ]
     },
     "execution_count": 30,
     "metadata": {},
     "output_type": "execute_result"
    }
   ],
   "source": [
    "metrics['overall']"
   ]
  },
  {
   "cell_type": "markdown",
   "id": "a26061c2",
   "metadata": {},
   "source": [
    "Table `\"thresholded\"` contains all performance metrics that depend on a specific decision threshold (a.k.a. cut-off point), like accuracy, balanced accuracy, F1-score, etc. These metrics are evaluated at different decision thresholds."
   ]
  },
  {
   "cell_type": "code",
   "execution_count": 31,
   "id": "b707893f",
   "metadata": {
    "execution": {
     "iopub.execute_input": "2023-04-13T13:04:01.704678Z",
     "iopub.status.busy": "2023-04-13T13:04:01.704466Z",
     "iopub.status.idle": "2023-04-13T13:04:01.717271Z",
     "shell.execute_reply": "2023-04-13T13:04:01.716487Z"
    }
   },
   "outputs": [
    {
     "data": {
      "text/html": [
       "<div>\n",
       "<style scoped>\n",
       "    .dataframe tbody tr th:only-of-type {\n",
       "        vertical-align: middle;\n",
       "    }\n",
       "\n",
       "    .dataframe tbody tr th {\n",
       "        vertical-align: top;\n",
       "    }\n",
       "\n",
       "    .dataframe thead th {\n",
       "        text-align: right;\n",
       "    }\n",
       "</style>\n",
       "<table border=\"1\" class=\"dataframe\">\n",
       "  <thead>\n",
       "    <tr style=\"text-align: right;\">\n",
       "      <th></th>\n",
       "      <th>threshold</th>\n",
       "      <th>accuracy</th>\n",
       "      <th>balanced_accuracy</th>\n",
       "      <th>f1</th>\n",
       "      <th>sensitivity</th>\n",
       "      <th>specificity</th>\n",
       "      <th>positive_predictive_value</th>\n",
       "      <th>negative_predictive_value</th>\n",
       "      <th>cohen_kappa</th>\n",
       "      <th>hamming_loss</th>\n",
       "      <th>jaccard</th>\n",
       "      <th>true_positive</th>\n",
       "      <th>true_negative</th>\n",
       "      <th>false_positive</th>\n",
       "      <th>false_negative</th>\n",
       "    </tr>\n",
       "  </thead>\n",
       "  <tbody>\n",
       "    <tr>\n",
       "      <th>0</th>\n",
       "      <td>0.012333</td>\n",
       "      <td>0.769912</td>\n",
       "      <td>0.500000</td>\n",
       "      <td>0.870000</td>\n",
       "      <td>1.0</td>\n",
       "      <td>0.000000</td>\n",
       "      <td>0.769912</td>\n",
       "      <td>1.0</td>\n",
       "      <td>0.000000</td>\n",
       "      <td>0.230088</td>\n",
       "      <td>0.769912</td>\n",
       "      <td>87</td>\n",
       "      <td>0</td>\n",
       "      <td>26</td>\n",
       "      <td>0</td>\n",
       "    </tr>\n",
       "    <tr>\n",
       "      <th>1</th>\n",
       "      <td>0.012333</td>\n",
       "      <td>0.796460</td>\n",
       "      <td>0.557692</td>\n",
       "      <td>0.883249</td>\n",
       "      <td>1.0</td>\n",
       "      <td>0.115385</td>\n",
       "      <td>0.790909</td>\n",
       "      <td>1.0</td>\n",
       "      <td>0.167254</td>\n",
       "      <td>0.203540</td>\n",
       "      <td>0.790909</td>\n",
       "      <td>87</td>\n",
       "      <td>3</td>\n",
       "      <td>23</td>\n",
       "      <td>0</td>\n",
       "    </tr>\n",
       "    <tr>\n",
       "      <th>2</th>\n",
       "      <td>0.012333</td>\n",
       "      <td>0.814159</td>\n",
       "      <td>0.596154</td>\n",
       "      <td>0.892308</td>\n",
       "      <td>1.0</td>\n",
       "      <td>0.192308</td>\n",
       "      <td>0.805556</td>\n",
       "      <td>1.0</td>\n",
       "      <td>0.268270</td>\n",
       "      <td>0.185841</td>\n",
       "      <td>0.805556</td>\n",
       "      <td>87</td>\n",
       "      <td>5</td>\n",
       "      <td>21</td>\n",
       "      <td>0</td>\n",
       "    </tr>\n",
       "    <tr>\n",
       "      <th>3</th>\n",
       "      <td>0.012333</td>\n",
       "      <td>0.823009</td>\n",
       "      <td>0.615385</td>\n",
       "      <td>0.896907</td>\n",
       "      <td>1.0</td>\n",
       "      <td>0.230769</td>\n",
       "      <td>0.813084</td>\n",
       "      <td>1.0</td>\n",
       "      <td>0.315981</td>\n",
       "      <td>0.176991</td>\n",
       "      <td>0.813084</td>\n",
       "      <td>87</td>\n",
       "      <td>6</td>\n",
       "      <td>20</td>\n",
       "      <td>0</td>\n",
       "    </tr>\n",
       "    <tr>\n",
       "      <th>4</th>\n",
       "      <td>0.012333</td>\n",
       "      <td>0.831858</td>\n",
       "      <td>0.634615</td>\n",
       "      <td>0.901554</td>\n",
       "      <td>1.0</td>\n",
       "      <td>0.269231</td>\n",
       "      <td>0.820755</td>\n",
       "      <td>1.0</td>\n",
       "      <td>0.361961</td>\n",
       "      <td>0.168142</td>\n",
       "      <td>0.820755</td>\n",
       "      <td>87</td>\n",
       "      <td>7</td>\n",
       "      <td>19</td>\n",
       "      <td>0</td>\n",
       "    </tr>\n",
       "  </tbody>\n",
       "</table>\n",
       "</div>"
      ],
      "text/plain": [
       "   threshold  accuracy  balanced_accuracy        f1  sensitivity  specificity  \\\n",
       "0   0.012333  0.769912           0.500000  0.870000          1.0     0.000000   \n",
       "1   0.012333  0.796460           0.557692  0.883249          1.0     0.115385   \n",
       "2   0.012333  0.814159           0.596154  0.892308          1.0     0.192308   \n",
       "3   0.012333  0.823009           0.615385  0.896907          1.0     0.230769   \n",
       "4   0.012333  0.831858           0.634615  0.901554          1.0     0.269231   \n",
       "\n",
       "   positive_predictive_value  negative_predictive_value  cohen_kappa  \\\n",
       "0                   0.769912                        1.0     0.000000   \n",
       "1                   0.790909                        1.0     0.167254   \n",
       "2                   0.805556                        1.0     0.268270   \n",
       "3                   0.813084                        1.0     0.315981   \n",
       "4                   0.820755                        1.0     0.361961   \n",
       "\n",
       "   hamming_loss   jaccard  true_positive  true_negative  false_positive  \\\n",
       "0      0.230088  0.769912             87              0              26   \n",
       "1      0.203540  0.790909             87              3              23   \n",
       "2      0.185841  0.805556             87              5              21   \n",
       "3      0.176991  0.813084             87              6              20   \n",
       "4      0.168142  0.820755             87              7              19   \n",
       "\n",
       "   false_negative  \n",
       "0               0  \n",
       "1               0  \n",
       "2               0  \n",
       "3               0  \n",
       "4               0  "
      ]
     },
     "execution_count": 31,
     "metadata": {},
     "output_type": "execute_result"
    }
   ],
   "source": [
    "metrics['thresholded'].drop('Unnamed: 0', axis=1).head()"
   ]
  },
  {
   "cell_type": "markdown",
   "id": "6287e63c",
   "metadata": {},
   "source": [
    "Table `\"calibration\"` contains the fraction of positive samples for different threshold intervals. The intervals are constructed such that each of them contains roughly the same number of samples."
   ]
  },
  {
   "cell_type": "code",
   "execution_count": 32,
   "id": "603c0b05",
   "metadata": {
    "execution": {
     "iopub.execute_input": "2023-04-13T13:04:01.720174Z",
     "iopub.status.busy": "2023-04-13T13:04:01.719655Z",
     "iopub.status.idle": "2023-04-13T13:04:01.726991Z",
     "shell.execute_reply": "2023-04-13T13:04:01.726261Z"
    }
   },
   "outputs": [
    {
     "data": {
      "text/html": [
       "<div>\n",
       "<style scoped>\n",
       "    .dataframe tbody tr th:only-of-type {\n",
       "        vertical-align: middle;\n",
       "    }\n",
       "\n",
       "    .dataframe tbody tr th {\n",
       "        vertical-align: top;\n",
       "    }\n",
       "\n",
       "    .dataframe thead th {\n",
       "        text-align: right;\n",
       "    }\n",
       "</style>\n",
       "<table border=\"1\" class=\"dataframe\">\n",
       "  <thead>\n",
       "    <tr style=\"text-align: right;\">\n",
       "      <th></th>\n",
       "      <th>threshold_lower</th>\n",
       "      <th>threshold_upper</th>\n",
       "      <th>pos_fraction</th>\n",
       "    </tr>\n",
       "  </thead>\n",
       "  <tbody>\n",
       "    <tr>\n",
       "      <th>0</th>\n",
       "      <td>0.012333</td>\n",
       "      <td>0.012333</td>\n",
       "      <td>0.0</td>\n",
       "    </tr>\n",
       "    <tr>\n",
       "      <th>1</th>\n",
       "      <td>0.012333</td>\n",
       "      <td>0.012333</td>\n",
       "      <td>0.0</td>\n",
       "    </tr>\n",
       "    <tr>\n",
       "      <th>2</th>\n",
       "      <td>0.012333</td>\n",
       "      <td>0.012333</td>\n",
       "      <td>0.0</td>\n",
       "    </tr>\n",
       "    <tr>\n",
       "      <th>3</th>\n",
       "      <td>0.012333</td>\n",
       "      <td>0.012333</td>\n",
       "      <td>0.0</td>\n",
       "    </tr>\n",
       "    <tr>\n",
       "      <th>4</th>\n",
       "      <td>0.012333</td>\n",
       "      <td>0.012333</td>\n",
       "      <td>0.0</td>\n",
       "    </tr>\n",
       "  </tbody>\n",
       "</table>\n",
       "</div>"
      ],
      "text/plain": [
       "   threshold_lower  threshold_upper  pos_fraction\n",
       "0         0.012333         0.012333           0.0\n",
       "1         0.012333         0.012333           0.0\n",
       "2         0.012333         0.012333           0.0\n",
       "3         0.012333         0.012333           0.0\n",
       "4         0.012333         0.012333           0.0"
      ]
     },
     "execution_count": 32,
     "metadata": {},
     "output_type": "execute_result"
    }
   ],
   "source": [
    "metrics['calibration'].drop('Unnamed: 0', axis=1).head()"
   ]
  },
  {
   "cell_type": "markdown",
   "id": "397afbda",
   "metadata": {},
   "source": [
    "### Bootstrapped Performance"
   ]
  },
  {
   "cell_type": "markdown",
   "id": "4516cfa8",
   "metadata": {},
   "source": [
    "Since we activated bootstrapping by setting `bootstrapping_repetitions` to a positive number, file `bootstrapping.xlsx` was generated. It contains two tables `\"summary\"` and `\"details\"` with summary statistics over all bootstrapping runs and the runs themselves, respectively."
   ]
  },
  {
   "cell_type": "code",
   "execution_count": 33,
   "id": "e3e62bb5",
   "metadata": {
    "execution": {
     "iopub.execute_input": "2023-04-13T13:04:01.729937Z",
     "iopub.status.busy": "2023-04-13T13:04:01.729710Z",
     "iopub.status.idle": "2023-04-13T13:04:01.796719Z",
     "shell.execute_reply": "2023-04-13T13:04:01.795998Z"
    }
   },
   "outputs": [],
   "source": [
    "bootstrapping = io.read_dfs(output_dir + '/eval/not_train/bootstrapping.xlsx')"
   ]
  },
  {
   "cell_type": "code",
   "execution_count": 34,
   "id": "9a9697e8",
   "metadata": {
    "execution": {
     "iopub.execute_input": "2023-04-13T13:04:01.799537Z",
     "iopub.status.busy": "2023-04-13T13:04:01.799057Z",
     "iopub.status.idle": "2023-04-13T13:04:01.806926Z",
     "shell.execute_reply": "2023-04-13T13:04:01.806128Z"
    }
   },
   "outputs": [
    {
     "data": {
      "text/html": [
       "<div>\n",
       "<style scoped>\n",
       "    .dataframe tbody tr th:only-of-type {\n",
       "        vertical-align: middle;\n",
       "    }\n",
       "\n",
       "    .dataframe tbody tr th {\n",
       "        vertical-align: top;\n",
       "    }\n",
       "\n",
       "    .dataframe thead th {\n",
       "        text-align: right;\n",
       "    }\n",
       "</style>\n",
       "<table border=\"1\" class=\"dataframe\">\n",
       "  <thead>\n",
       "    <tr style=\"text-align: right;\">\n",
       "      <th></th>\n",
       "      <th>Unnamed: 0</th>\n",
       "      <th>roc_auc</th>\n",
       "      <th>accuracy</th>\n",
       "      <th>balanced_accuracy</th>\n",
       "      <th>__threshold</th>\n",
       "    </tr>\n",
       "  </thead>\n",
       "  <tbody>\n",
       "    <tr>\n",
       "      <th>0</th>\n",
       "      <td>count</td>\n",
       "      <td>1000.000000</td>\n",
       "      <td>1000.000000</td>\n",
       "      <td>1000.000000</td>\n",
       "      <td>1000.0</td>\n",
       "    </tr>\n",
       "    <tr>\n",
       "      <th>1</th>\n",
       "      <td>mean</td>\n",
       "      <td>0.999107</td>\n",
       "      <td>0.946177</td>\n",
       "      <td>0.965097</td>\n",
       "      <td>0.5</td>\n",
       "    </tr>\n",
       "    <tr>\n",
       "      <th>2</th>\n",
       "      <td>std</td>\n",
       "      <td>0.001177</td>\n",
       "      <td>0.021432</td>\n",
       "      <td>0.013757</td>\n",
       "      <td>0.0</td>\n",
       "    </tr>\n",
       "    <tr>\n",
       "      <th>3</th>\n",
       "      <td>min</td>\n",
       "      <td>0.990909</td>\n",
       "      <td>0.876106</td>\n",
       "      <td>0.922222</td>\n",
       "      <td>0.5</td>\n",
       "    </tr>\n",
       "    <tr>\n",
       "      <th>4</th>\n",
       "      <td>25%</td>\n",
       "      <td>0.998557</td>\n",
       "      <td>0.929204</td>\n",
       "      <td>0.956044</td>\n",
       "      <td>0.5</td>\n",
       "    </tr>\n",
       "    <tr>\n",
       "      <th>5</th>\n",
       "      <td>50%</td>\n",
       "      <td>0.999532</td>\n",
       "      <td>0.946903</td>\n",
       "      <td>0.966292</td>\n",
       "      <td>0.5</td>\n",
       "    </tr>\n",
       "    <tr>\n",
       "      <th>6</th>\n",
       "      <td>75%</td>\n",
       "      <td>1.000000</td>\n",
       "      <td>0.964602</td>\n",
       "      <td>0.975904</td>\n",
       "      <td>0.5</td>\n",
       "    </tr>\n",
       "    <tr>\n",
       "      <th>7</th>\n",
       "      <td>max</td>\n",
       "      <td>1.000000</td>\n",
       "      <td>1.000000</td>\n",
       "      <td>1.000000</td>\n",
       "      <td>0.5</td>\n",
       "    </tr>\n",
       "  </tbody>\n",
       "</table>\n",
       "</div>"
      ],
      "text/plain": [
       "  Unnamed: 0      roc_auc     accuracy  balanced_accuracy  __threshold\n",
       "0      count  1000.000000  1000.000000        1000.000000       1000.0\n",
       "1       mean     0.999107     0.946177           0.965097          0.5\n",
       "2        std     0.001177     0.021432           0.013757          0.0\n",
       "3        min     0.990909     0.876106           0.922222          0.5\n",
       "4        25%     0.998557     0.929204           0.956044          0.5\n",
       "5        50%     0.999532     0.946903           0.966292          0.5\n",
       "6        75%     1.000000     0.964602           0.975904          0.5\n",
       "7        max     1.000000     1.000000           1.000000          0.5"
      ]
     },
     "execution_count": 34,
     "metadata": {},
     "output_type": "execute_result"
    }
   ],
   "source": [
    "bootstrapping['summary']"
   ]
  },
  {
   "cell_type": "markdown",
   "id": "94f72544",
   "metadata": {},
   "source": [
    "Table `\"details\"` reports the performance metrics for each single run, together with the random seed used for resampling the data."
   ]
  },
  {
   "cell_type": "code",
   "execution_count": 35,
   "id": "b5464a7f",
   "metadata": {
    "execution": {
     "iopub.execute_input": "2023-04-13T13:04:01.809688Z",
     "iopub.status.busy": "2023-04-13T13:04:01.809470Z",
     "iopub.status.idle": "2023-04-13T13:04:01.817150Z",
     "shell.execute_reply": "2023-04-13T13:04:01.816439Z"
    }
   },
   "outputs": [
    {
     "data": {
      "text/html": [
       "<div>\n",
       "<style scoped>\n",
       "    .dataframe tbody tr th:only-of-type {\n",
       "        vertical-align: middle;\n",
       "    }\n",
       "\n",
       "    .dataframe tbody tr th {\n",
       "        vertical-align: top;\n",
       "    }\n",
       "\n",
       "    .dataframe thead th {\n",
       "        text-align: right;\n",
       "    }\n",
       "</style>\n",
       "<table border=\"1\" class=\"dataframe\">\n",
       "  <thead>\n",
       "    <tr style=\"text-align: right;\">\n",
       "      <th></th>\n",
       "      <th>roc_auc</th>\n",
       "      <th>accuracy</th>\n",
       "      <th>balanced_accuracy</th>\n",
       "      <th>__seed</th>\n",
       "    </tr>\n",
       "  </thead>\n",
       "  <tbody>\n",
       "    <tr>\n",
       "      <th>0</th>\n",
       "      <td>1.000000</td>\n",
       "      <td>0.955752</td>\n",
       "      <td>0.970238</td>\n",
       "      <td>2854880344</td>\n",
       "    </tr>\n",
       "    <tr>\n",
       "      <th>1</th>\n",
       "      <td>1.000000</td>\n",
       "      <td>0.938053</td>\n",
       "      <td>0.963158</td>\n",
       "      <td>1506600952</td>\n",
       "    </tr>\n",
       "    <tr>\n",
       "      <th>2</th>\n",
       "      <td>1.000000</td>\n",
       "      <td>0.893805</td>\n",
       "      <td>0.931034</td>\n",
       "      <td>3277809138</td>\n",
       "    </tr>\n",
       "    <tr>\n",
       "      <th>3</th>\n",
       "      <td>0.997895</td>\n",
       "      <td>0.946903</td>\n",
       "      <td>0.960000</td>\n",
       "      <td>3141104837</td>\n",
       "    </tr>\n",
       "    <tr>\n",
       "      <th>4</th>\n",
       "      <td>1.000000</td>\n",
       "      <td>0.964602</td>\n",
       "      <td>0.977011</td>\n",
       "      <td>2847344748</td>\n",
       "    </tr>\n",
       "  </tbody>\n",
       "</table>\n",
       "</div>"
      ],
      "text/plain": [
       "    roc_auc  accuracy  balanced_accuracy      __seed\n",
       "0  1.000000  0.955752           0.970238  2854880344\n",
       "1  1.000000  0.938053           0.963158  1506600952\n",
       "2  1.000000  0.893805           0.931034  3277809138\n",
       "3  0.997895  0.946903           0.960000  3141104837\n",
       "4  1.000000  0.964602           0.977011  2847344748"
      ]
     },
     "execution_count": 35,
     "metadata": {},
     "output_type": "execute_result"
    }
   ],
   "source": [
    "bootstrapping['details'].drop('Unnamed: 0', axis=1, errors='ignore').head()"
   ]
  },
  {
   "cell_type": "markdown",
   "id": "a202515e",
   "metadata": {},
   "source": [
    "### Sample-Wise Predictions"
   ]
  },
  {
   "cell_type": "markdown",
   "id": "a808c1f7",
   "metadata": {},
   "source": [
    "Finally, the model output for each individual sample is saved in `predictions.xlsx`."
   ]
  },
  {
   "cell_type": "code",
   "execution_count": 36,
   "id": "f61eb60b",
   "metadata": {
    "execution": {
     "iopub.execute_input": "2023-04-13T13:04:01.819865Z",
     "iopub.status.busy": "2023-04-13T13:04:01.819671Z",
     "iopub.status.idle": "2023-04-13T13:04:01.843694Z",
     "shell.execute_reply": "2023-04-13T13:04:01.842924Z"
    }
   },
   "outputs": [],
   "source": [
    "predictions = io.read_df(output_dir + '/eval/not_train/predictions.xlsx')"
   ]
  },
  {
   "cell_type": "markdown",
   "id": "e7519cf0",
   "metadata": {},
   "source": [
    "The table contains the true label (column `\"diagnosis\"`) and the predicted probabilities of the negative and positive class, respectively. Note that in our cases the two classes are simply called `0` and `1`, which is why the corresponding columns are called `\"0_proba\"` and `\"1_proba\"`."
   ]
  },
  {
   "cell_type": "code",
   "execution_count": 37,
   "id": "67ec9d55",
   "metadata": {
    "execution": {
     "iopub.execute_input": "2023-04-13T13:04:01.846593Z",
     "iopub.status.busy": "2023-04-13T13:04:01.846365Z",
     "iopub.status.idle": "2023-04-13T13:04:01.853304Z",
     "shell.execute_reply": "2023-04-13T13:04:01.852199Z"
    }
   },
   "outputs": [
    {
     "data": {
      "text/html": [
       "<div>\n",
       "<style scoped>\n",
       "    .dataframe tbody tr th:only-of-type {\n",
       "        vertical-align: middle;\n",
       "    }\n",
       "\n",
       "    .dataframe tbody tr th {\n",
       "        vertical-align: top;\n",
       "    }\n",
       "\n",
       "    .dataframe thead th {\n",
       "        text-align: right;\n",
       "    }\n",
       "</style>\n",
       "<table border=\"1\" class=\"dataframe\">\n",
       "  <thead>\n",
       "    <tr style=\"text-align: right;\">\n",
       "      <th></th>\n",
       "      <th>Unnamed: 0</th>\n",
       "      <th>diagnosis</th>\n",
       "      <th>0_proba</th>\n",
       "      <th>1_proba</th>\n",
       "    </tr>\n",
       "  </thead>\n",
       "  <tbody>\n",
       "    <tr>\n",
       "      <th>0</th>\n",
       "      <td>456</td>\n",
       "      <td>1</td>\n",
       "      <td>0.007257</td>\n",
       "      <td>0.992743</td>\n",
       "    </tr>\n",
       "    <tr>\n",
       "      <th>1</th>\n",
       "      <td>457</td>\n",
       "      <td>1</td>\n",
       "      <td>0.224164</td>\n",
       "      <td>0.775836</td>\n",
       "    </tr>\n",
       "    <tr>\n",
       "      <th>2</th>\n",
       "      <td>458</td>\n",
       "      <td>1</td>\n",
       "      <td>0.727156</td>\n",
       "      <td>0.272844</td>\n",
       "    </tr>\n",
       "    <tr>\n",
       "      <th>3</th>\n",
       "      <td>459</td>\n",
       "      <td>1</td>\n",
       "      <td>0.005909</td>\n",
       "      <td>0.994091</td>\n",
       "    </tr>\n",
       "    <tr>\n",
       "      <th>4</th>\n",
       "      <td>460</td>\n",
       "      <td>0</td>\n",
       "      <td>0.987667</td>\n",
       "      <td>0.012333</td>\n",
       "    </tr>\n",
       "  </tbody>\n",
       "</table>\n",
       "</div>"
      ],
      "text/plain": [
       "   Unnamed: 0  diagnosis   0_proba   1_proba\n",
       "0         456          1  0.007257  0.992743\n",
       "1         457          1  0.224164  0.775836\n",
       "2         458          1  0.727156  0.272844\n",
       "3         459          1  0.005909  0.994091\n",
       "4         460          0  0.987667  0.012333"
      ]
     },
     "execution_count": 37,
     "metadata": {},
     "output_type": "execute_result"
    }
   ],
   "source": [
    "predictions.head()"
   ]
  },
  {
   "cell_type": "markdown",
   "id": "569785a7",
   "metadata": {},
   "source": [
    "### Out-of-Distribution Detection"
   ]
  },
  {
   "cell_type": "markdown",
   "id": "64816b70",
   "metadata": {},
   "source": [
    "In addition to the output of the prediction model we can also inspect the likelihood of samples (or the whole training- or test-set) being out-of-distribution (OOD). Predictions for samples with high OOD likelihood should be treated with care, as they might differ significantly from all samples the model has seen during training."
   ]
  },
  {
   "cell_type": "code",
   "execution_count": 38,
   "id": "74ac915d",
   "metadata": {
    "execution": {
     "iopub.execute_input": "2023-04-13T13:04:01.856520Z",
     "iopub.status.busy": "2023-04-13T13:04:01.856281Z",
     "iopub.status.idle": "2023-04-13T13:04:01.879693Z",
     "shell.execute_reply": "2023-04-13T13:04:01.879005Z"
    }
   },
   "outputs": [],
   "source": [
    "ood = io.read_df(output_dir + '/eval/not_train/ood.xlsx')"
   ]
  },
  {
   "cell_type": "code",
   "execution_count": 39,
   "id": "9b5c6ad9",
   "metadata": {
    "execution": {
     "iopub.execute_input": "2023-04-13T13:04:01.882289Z",
     "iopub.status.busy": "2023-04-13T13:04:01.882100Z",
     "iopub.status.idle": "2023-04-13T13:04:01.888605Z",
     "shell.execute_reply": "2023-04-13T13:04:01.887924Z"
    }
   },
   "outputs": [
    {
     "data": {
      "text/html": [
       "<div>\n",
       "<style scoped>\n",
       "    .dataframe tbody tr th:only-of-type {\n",
       "        vertical-align: middle;\n",
       "    }\n",
       "\n",
       "    .dataframe tbody tr th {\n",
       "        vertical-align: top;\n",
       "    }\n",
       "\n",
       "    .dataframe thead th {\n",
       "        text-align: right;\n",
       "    }\n",
       "</style>\n",
       "<table border=\"1\" class=\"dataframe\">\n",
       "  <thead>\n",
       "    <tr style=\"text-align: right;\">\n",
       "      <th></th>\n",
       "      <th>Unnamed: 0</th>\n",
       "      <th>proba</th>\n",
       "      <th>decision</th>\n",
       "    </tr>\n",
       "  </thead>\n",
       "  <tbody>\n",
       "    <tr>\n",
       "      <th>0</th>\n",
       "      <td>0</td>\n",
       "      <td>0</td>\n",
       "      <td>False</td>\n",
       "    </tr>\n",
       "    <tr>\n",
       "      <th>1</th>\n",
       "      <td>1</td>\n",
       "      <td>0</td>\n",
       "      <td>False</td>\n",
       "    </tr>\n",
       "    <tr>\n",
       "      <th>2</th>\n",
       "      <td>2</td>\n",
       "      <td>0</td>\n",
       "      <td>False</td>\n",
       "    </tr>\n",
       "    <tr>\n",
       "      <th>3</th>\n",
       "      <td>3</td>\n",
       "      <td>0</td>\n",
       "      <td>False</td>\n",
       "    </tr>\n",
       "    <tr>\n",
       "      <th>4</th>\n",
       "      <td>4</td>\n",
       "      <td>0</td>\n",
       "      <td>False</td>\n",
       "    </tr>\n",
       "  </tbody>\n",
       "</table>\n",
       "</div>"
      ],
      "text/plain": [
       "   Unnamed: 0  proba  decision\n",
       "0           0      0     False\n",
       "1           1      0     False\n",
       "2           2      0     False\n",
       "3           3      0     False\n",
       "4           4      0     False"
      ]
     },
     "execution_count": 39,
     "metadata": {},
     "output_type": "execute_result"
    }
   ],
   "source": [
    "ood.head()"
   ]
  },
  {
   "cell_type": "markdown",
   "id": "9d2a5302",
   "metadata": {},
   "source": [
    "## Step 4: Explain Classifier"
   ]
  },
  {
   "cell_type": "markdown",
   "id": "8a3ea5dc",
   "metadata": {},
   "source": [
    "Prediction models can be explained on data that have the same format as the data they were initially trained on, as passed to function `analyze()`. As before, one simple function call is sufficient. If the data is split into two or more disjoint subsets via argument `split` (implicit in `from_invocation` below), the model is explained on each of these subsets separately.\n",
    "\n",
    "If the final model is an ensemble of several base models, each of them is expained separately.\n",
    "\n",
    "The corresponding command in CaTabRa's command-line interface is `catabra explain ...`."
   ]
  },
  {
   "cell_type": "code",
   "execution_count": 40,
   "id": "100da7e5",
   "metadata": {
    "execution": {
     "iopub.execute_input": "2023-04-13T13:04:01.891423Z",
     "iopub.status.busy": "2023-04-13T13:04:01.891186Z",
     "iopub.status.idle": "2023-04-13T13:20:32.112245Z",
     "shell.execute_reply": "2023-04-13T13:20:32.111091Z"
    }
   },
   "outputs": [
    {
     "name": "stdout",
     "output_type": "stream",
     "text": [
      "[CaTabRa] ### Explanation started at 2023-04-13 15:04:01.895024\n",
      "[CaTabRa] *** Split train\n",
      "Model 6 (1 of 2):\n",
      "Sample batches: 100%|########################################| 15/15 [09:38<00:00, 38.53s/it]\n",
      "Model 60 (2 of 2):\n",
      "Sample batches: 100%|########################################| 15/15 [03:10<00:00, 12.70s/it]\n",
      "[CaTabRa] *** Split not_train\n",
      "Model 6 (1 of 2):\n",
      "Sample batches: 100%|########################################| 4/4 [02:38<00:00, 39.42s/it]\n",
      "Model 60 (2 of 2):\n",
      "Sample batches: 100%|########################################| 4/4 [00:58<00:00, 14.50s/it]\n",
      "[CaTabRa] ### Explanation finished at 2023-04-13 15:20:32.104575\n",
      "[CaTabRa] ### Elapsed time: 0 days 00:16:30.209551\n",
      "[CaTabRa] ### Output saved in /mnt/c/Users/skaltenl/Documents/catabra_2023/develop/catabra/examples/workflow/explain\n"
     ]
    }
   ],
   "source": [
    "from catabra.explanation import explain\n",
    "\n",
    "explain(\n",
    "    X,\n",
    "    folder=output_dir,    # directory containing trained classifier (= output directory of previous call to `analyze()`)\n",
    "    from_invocation=output_dir + '/invocation.json',\n",
    "    out=output_dir + '/explain'\n",
    ")"
   ]
  },
  {
   "cell_type": "markdown",
   "id": "5b0f4218",
   "metadata": {},
   "source": [
    "By default, [SHAP](https://github.com/slundberg/shap) is used for generating *local (i.e., sample-wise) explanations* in terms of *feature importance scores*. These scores are saved as HDF5 tables and visualized in so-called *beeswarm* plots, and can be found in the specified output directory."
   ]
  },
  {
   "cell_type": "markdown",
   "id": "22c35a15",
   "metadata": {},
   "source": [
    "In addition to SHAP, CaTabRa also provides a ready-to-use implementation of *permutation importance*, which can be activated by setting `explainer=\"permutation\"`:"
   ]
  },
  {
   "cell_type": "code",
   "execution_count": 41,
   "id": "e946a96c",
   "metadata": {
    "execution": {
     "iopub.execute_input": "2023-04-13T13:20:32.116670Z",
     "iopub.status.busy": "2023-04-13T13:20:32.116352Z",
     "iopub.status.idle": "2023-04-13T13:20:43.133222Z",
     "shell.execute_reply": "2023-04-13T13:20:43.132426Z"
    }
   },
   "outputs": [
    {
     "name": "stdout",
     "output_type": "stream",
     "text": [
      "[CaTabRa] ### Explanation started at 2023-04-13 15:20:32.120711\n",
      "[CaTabRa] *** Split train\n",
      "Features: 100%|########################################| 30/30 [00:06<00:00, 4.93it/s]\n",
      "[CaTabRa] *** Split not_train\n",
      "Features: 100%|########################################| 30/30 [00:03<00:00, 11.82it/s]\n",
      "[CaTabRa] ### Explanation finished at 2023-04-13 15:20:43.127964\n",
      "[CaTabRa] ### Elapsed time: 0 days 00:00:11.007253\n",
      "[CaTabRa] ### Output saved in /mnt/c/Users/skaltenl/Documents/catabra_2023/develop/catabra/examples/workflow/explain_permutation\n"
     ]
    }
   ],
   "source": [
    "explain(\n",
    "    X,\n",
    "    folder=output_dir,    # directory containing trained classifier (= output directory of previous call to `analyze()`)\n",
    "    from_invocation=output_dir + '/invocation.json',\n",
    "    out=output_dir + '/explain_permutation',\n",
    "    explainer='permutation'\n",
    ")"
   ]
  },
  {
   "cell_type": "markdown",
   "id": "8d9796e6",
   "metadata": {},
   "source": [
    "Permutation importance generates *global (i.e., feature-wise) explanations*. The corresponding importance scores are saved as HDF5 tables and visualized in bar plots."
   ]
  },
  {
   "cell_type": "markdown",
   "id": "bfc1d54c",
   "metadata": {},
   "source": [
    "Refer to [Explanations](https://catabra.readthedocs.io/en/latest/app_docs/explanations_link.html) for more information about model explanations."
   ]
  },
  {
   "cell_type": "markdown",
   "id": "d52a03c4",
   "metadata": {},
   "source": [
    "## Step 5: Apply Classifier to New Data"
   ]
  },
  {
   "cell_type": "markdown",
   "id": "01545bac",
   "metadata": {},
   "source": [
    "Finally, the trained classifier can be applied to new data of the same format as the data it was initially trained on, possibly without the label column. For demonstration purposes we apply the classifier to the same data `X` we are using throughout, although in a real-world use-case this would not make sense.\n",
    "\n",
    "The corresponding command in CaTabRa's command-line interface is `catabra apply ...`."
   ]
  },
  {
   "cell_type": "code",
   "execution_count": 42,
   "id": "c3698d59",
   "metadata": {
    "execution": {
     "iopub.execute_input": "2023-04-13T13:20:43.136671Z",
     "iopub.status.busy": "2023-04-13T13:20:43.136451Z",
     "iopub.status.idle": "2023-04-13T13:20:43.772486Z",
     "shell.execute_reply": "2023-04-13T13:20:43.771890Z"
    }
   },
   "outputs": [
    {
     "name": "stdout",
     "output_type": "stream",
     "text": [
      "[CaTabRa] ### Application started at 2023-04-13 15:20:43.169793\n",
      "[CaTabRa] Predicting out-of-distribution samples.\n",
      "[CaTabRa] ### Application finished at 2023-04-13 15:20:43.760727\n",
      "[CaTabRa] ### Elapsed time: 0 days 00:00:00.590934\n",
      "[CaTabRa] ### Output saved in /mnt/c/Users/skaltenl/Documents/catabra_2023/develop/catabra/examples/workflow/apply\n"
     ]
    }
   ],
   "source": [
    "from catabra.application import apply\n",
    "\n",
    "apply(\n",
    "    X.drop('diagnosis', axis=1),   # data to apply the model to; column containing ground-truth labels is not needed (but would not harm either)\n",
    "    folder=output_dir,    # directory containing trained classifier (= output directory of previous call to `analyze()`)\n",
    "    from_invocation=output_dir + '/invocation.json',\n",
    "    out=output_dir + '/apply'\n",
    ")"
   ]
  },
  {
   "cell_type": "markdown",
   "id": "5ef23b44",
   "metadata": {},
   "source": [
    "The results are saved in `predictions.xlsx` and contain the predicted probabilities of the two classes, for every sample. OOD scores are saved again in `ood.xlsx`."
   ]
  },
  {
   "cell_type": "code",
   "execution_count": 43,
   "id": "c1b6efaa",
   "metadata": {
    "execution": {
     "iopub.execute_input": "2023-04-13T13:20:43.777324Z",
     "iopub.status.busy": "2023-04-13T13:20:43.777138Z",
     "iopub.status.idle": "2023-04-13T13:20:43.812215Z",
     "shell.execute_reply": "2023-04-13T13:20:43.811514Z"
    }
   },
   "outputs": [],
   "source": [
    "predictions = io.read_df(output_dir + '/apply/predictions.xlsx')"
   ]
  },
  {
   "cell_type": "code",
   "execution_count": 44,
   "id": "3ac15042",
   "metadata": {
    "execution": {
     "iopub.execute_input": "2023-04-13T13:20:43.814701Z",
     "iopub.status.busy": "2023-04-13T13:20:43.814493Z",
     "iopub.status.idle": "2023-04-13T13:20:43.821350Z",
     "shell.execute_reply": "2023-04-13T13:20:43.820476Z"
    }
   },
   "outputs": [
    {
     "data": {
      "text/html": [
       "<div>\n",
       "<style scoped>\n",
       "    .dataframe tbody tr th:only-of-type {\n",
       "        vertical-align: middle;\n",
       "    }\n",
       "\n",
       "    .dataframe tbody tr th {\n",
       "        vertical-align: top;\n",
       "    }\n",
       "\n",
       "    .dataframe thead th {\n",
       "        text-align: right;\n",
       "    }\n",
       "</style>\n",
       "<table border=\"1\" class=\"dataframe\">\n",
       "  <thead>\n",
       "    <tr style=\"text-align: right;\">\n",
       "      <th></th>\n",
       "      <th>Unnamed: 0</th>\n",
       "      <th>0_proba</th>\n",
       "      <th>1_proba</th>\n",
       "    </tr>\n",
       "  </thead>\n",
       "  <tbody>\n",
       "    <tr>\n",
       "      <th>0</th>\n",
       "      <td>0</td>\n",
       "      <td>0.987667</td>\n",
       "      <td>0.012333</td>\n",
       "    </tr>\n",
       "    <tr>\n",
       "      <th>1</th>\n",
       "      <td>1</td>\n",
       "      <td>0.987667</td>\n",
       "      <td>0.012333</td>\n",
       "    </tr>\n",
       "    <tr>\n",
       "      <th>2</th>\n",
       "      <td>2</td>\n",
       "      <td>0.987667</td>\n",
       "      <td>0.012333</td>\n",
       "    </tr>\n",
       "    <tr>\n",
       "      <th>3</th>\n",
       "      <td>3</td>\n",
       "      <td>0.987667</td>\n",
       "      <td>0.012333</td>\n",
       "    </tr>\n",
       "    <tr>\n",
       "      <th>4</th>\n",
       "      <td>4</td>\n",
       "      <td>0.987667</td>\n",
       "      <td>0.012333</td>\n",
       "    </tr>\n",
       "  </tbody>\n",
       "</table>\n",
       "</div>"
      ],
      "text/plain": [
       "   Unnamed: 0   0_proba   1_proba\n",
       "0           0  0.987667  0.012333\n",
       "1           1  0.987667  0.012333\n",
       "2           2  0.987667  0.012333\n",
       "3           3  0.987667  0.012333\n",
       "4           4  0.987667  0.012333"
      ]
     },
     "execution_count": 44,
     "metadata": {},
     "output_type": "execute_result"
    }
   ],
   "source": [
    "predictions.head()"
   ]
  },
  {
   "cell_type": "markdown",
   "id": "74dacd5c",
   "metadata": {},
   "source": [
    "## Load Classifier into Python"
   ]
  },
  {
   "cell_type": "markdown",
   "id": "07bbfa17",
   "metadata": {},
   "source": [
    "Prediction models generated with CaTabRa can be easily loaded into a Python session. The easiest and most straight-forward way to do this is through the [`catabra.util.io.CaTabRaLoader`](https://github.com/risc-mi/catabra/tree/main/catabra/util/io.py) class, which only needs to be instantiated with the directory containing model:"
   ]
  },
  {
   "cell_type": "code",
   "execution_count": 45,
   "id": "9a34e11a",
   "metadata": {
    "execution": {
     "iopub.execute_input": "2023-04-13T13:20:43.824609Z",
     "iopub.status.busy": "2023-04-13T13:20:43.823983Z",
     "iopub.status.idle": "2023-04-13T13:20:43.827702Z",
     "shell.execute_reply": "2023-04-13T13:20:43.826999Z"
    }
   },
   "outputs": [],
   "source": [
    "loader = io.CaTabRaLoader(output_dir)"
   ]
  },
  {
   "cell_type": "markdown",
   "id": "db72f49e",
   "metadata": {},
   "source": [
    "The resulting class instance provides easy access to all sorts of artifacts generated by the functions above, in particular the trained classifier:"
   ]
  },
  {
   "cell_type": "code",
   "execution_count": 46,
   "id": "35209e3f",
   "metadata": {
    "execution": {
     "iopub.execute_input": "2023-04-13T13:20:43.830136Z",
     "iopub.status.busy": "2023-04-13T13:20:43.829896Z",
     "iopub.status.idle": "2023-04-13T13:20:44.387357Z",
     "shell.execute_reply": "2023-04-13T13:20:44.386649Z"
    }
   },
   "outputs": [],
   "source": [
    "model = loader.get_model()"
   ]
  },
  {
   "cell_type": "markdown",
   "id": "6f5f9bad",
   "metadata": {},
   "source": [
    "### Investigating the Model"
   ]
  },
  {
   "cell_type": "markdown",
   "id": "b46e2356",
   "metadata": {},
   "source": [
    "The type of the loaded `model` object depends on the AutoML backend used for training it, in this case auto-sklearn:"
   ]
  },
  {
   "cell_type": "code",
   "execution_count": 47,
   "id": "885faf94",
   "metadata": {
    "execution": {
     "iopub.execute_input": "2023-04-13T13:20:44.390164Z",
     "iopub.status.busy": "2023-04-13T13:20:44.389968Z",
     "iopub.status.idle": "2023-04-13T13:20:44.393983Z",
     "shell.execute_reply": "2023-04-13T13:20:44.393373Z"
    }
   },
   "outputs": [
    {
     "data": {
      "text/plain": [
       "catabra.automl.askl.backend.AutoSklearnBackend"
      ]
     },
     "execution_count": 47,
     "metadata": {},
     "output_type": "execute_result"
    }
   ],
   "source": [
    "type(model)"
   ]
  },
  {
   "cell_type": "markdown",
   "id": "39b085ac",
   "metadata": {},
   "source": [
    "If we want a uniform representation of the model independent of the AutoML backend, we can convert it into a [`catabra.automl.fitted_ensemble.FittedEnsemble`](https://github.com/risc-mi/catabra/tree/main/catabra/automl/fitted_ensemble.py):"
   ]
  },
  {
   "cell_type": "code",
   "execution_count": 48,
   "id": "0d49bee8",
   "metadata": {
    "execution": {
     "iopub.execute_input": "2023-04-13T13:20:44.396372Z",
     "iopub.status.busy": "2023-04-13T13:20:44.396160Z",
     "iopub.status.idle": "2023-04-13T13:20:44.403409Z",
     "shell.execute_reply": "2023-04-13T13:20:44.402797Z"
    }
   },
   "outputs": [],
   "source": [
    "fe = model.fitted_ensemble()"
   ]
  },
  {
   "cell_type": "markdown",
   "id": "00fd2087",
   "metadata": {},
   "source": [
    "A `FittedEnsemble` is, as its name suggests, an ensemble consisting of individual base models and a meta-estimator combining the predictions of the base models to a single output. These base models can be accessed via the `models_` attribute, which is a dict mapping model-IDs to instances of class `FittedModel`:"
   ]
  },
  {
   "cell_type": "code",
   "execution_count": 49,
   "id": "37ba7a41",
   "metadata": {
    "execution": {
     "iopub.execute_input": "2023-04-13T13:20:44.405996Z",
     "iopub.status.busy": "2023-04-13T13:20:44.405671Z",
     "iopub.status.idle": "2023-04-13T13:20:44.419000Z",
     "shell.execute_reply": "2023-04-13T13:20:44.418285Z"
    }
   },
   "outputs": [
    {
     "data": {
      "text/plain": [
       "{6: FittedModel(\n",
       "     preprocessing=[ColumnTransformer(sparse_threshold=0.0,\n",
       "                   transformers=[('numerical_transformer',\n",
       "                                  Pipeline(steps=[('imputation',\n",
       "                                                   SimpleImputer(copy=False,\n",
       "                                                                 strategy='median')),\n",
       "                                                  ('variance_threshold',\n",
       "                                                   VarianceThreshold()),\n",
       "                                                  ('rescaling',\n",
       "                                                   PowerTransformer(copy=False)),\n",
       "                                                  ('dummy', 'passthrough')]),\n",
       "                                  [True, True, True, True, True, True, True,\n",
       "                                   True, True, True, True, True, True, True,\n",
       "                                   True, True, True, True, True, True, True,\n",
       "                                   True, True, True, True, True, True, True,\n",
       "                                   True, True])])],\n",
       "     estimator=MLPClassifier(alpha=0.07979356062608887, beta_1=0.999, beta_2=0.9,\n",
       "               early_stopping=True, hidden_layer_sizes=(257, 257, 257),\n",
       "               learning_rate_init=0.001829312822950054, max_iter=32,\n",
       "               n_iter_no_change=32, random_state=42, verbose=0, warm_start=True)),\n",
       " 60: FittedModel(\n",
       "     preprocessing=[ColumnTransformer(sparse_threshold=0.0,\n",
       "                   transformers=[('numerical_transformer',\n",
       "                                  Pipeline(steps=[('imputation',\n",
       "                                                   SimpleImputer(copy=False,\n",
       "                                                                 strategy='most_frequent')),\n",
       "                                                  ('variance_threshold',\n",
       "                                                   VarianceThreshold()),\n",
       "                                                  ('rescaling',\n",
       "                                                   PowerTransformer(copy=False)),\n",
       "                                                  ('dummy', 'passthrough')]),\n",
       "                                  [True, True, True, True, True, True, True,\n",
       "                                   True, True, True, True, True, True, True,\n",
       "                                   True, True, True, True, True, True, True,\n",
       "                                   True, True, True, True, True, True, True,\n",
       "                                   True, True])])],\n",
       "     estimator=MLPClassifier(alpha=2.9638327738166795e-05, beta_1=0.999, beta_2=0.9,\n",
       "               early_stopping=True, hidden_layer_sizes=(241,),\n",
       "               learning_rate_init=0.008555948122763763, max_iter=32,\n",
       "               n_iter_no_change=32, random_state=42, verbose=0, warm_start=True))}"
      ]
     },
     "execution_count": 49,
     "metadata": {},
     "output_type": "execute_result"
    }
   ],
   "source": [
    "fe.models_"
   ]
  },
  {
   "cell_type": "code",
   "execution_count": 50,
   "id": "803372fa",
   "metadata": {
    "execution": {
     "iopub.execute_input": "2023-04-13T13:20:44.421317Z",
     "iopub.status.busy": "2023-04-13T13:20:44.421111Z",
     "iopub.status.idle": "2023-04-13T13:20:44.430023Z",
     "shell.execute_reply": "2023-04-13T13:20:44.429340Z"
    }
   },
   "outputs": [
    {
     "data": {
      "text/plain": [
       "FittedModel(\n",
       "    preprocessing=[ColumnTransformer(sparse_threshold=0.0,\n",
       "                  transformers=[('numerical_transformer',\n",
       "                                 Pipeline(steps=[('imputation',\n",
       "                                                  SimpleImputer(copy=False,\n",
       "                                                                strategy='median')),\n",
       "                                                 ('variance_threshold',\n",
       "                                                  VarianceThreshold()),\n",
       "                                                 ('rescaling',\n",
       "                                                  PowerTransformer(copy=False)),\n",
       "                                                 ('dummy', 'passthrough')]),\n",
       "                                 [True, True, True, True, True, True, True,\n",
       "                                  True, True, True, True, True, True, True,\n",
       "                                  True, True, True, True, True, True, True,\n",
       "                                  True, True, True, True, True, True, True,\n",
       "                                  True, True])])],\n",
       "    estimator=MLPClassifier(alpha=0.07979356062608887, beta_1=0.999, beta_2=0.9,\n",
       "              early_stopping=True, hidden_layer_sizes=(257, 257, 257),\n",
       "              learning_rate_init=0.001829312822950054, max_iter=32,\n",
       "              n_iter_no_change=32, random_state=42, verbose=0, warm_start=True))"
      ]
     },
     "execution_count": 50,
     "metadata": {},
     "output_type": "execute_result"
    }
   ],
   "source": [
    "list(fe.models_.values())[0]"
   ]
  },
  {
   "cell_type": "markdown",
   "id": "1477feb9",
   "metadata": {},
   "source": [
    "**NOTE**<br>\n",
    "Predictions returned by `fe` may deviate slightly from those of `model` due to a [known bug in auto-sklearn](https://github.com/automl/auto-sklearn/issues/1483)."
   ]
  },
  {
   "cell_type": "markdown",
   "id": "69ccda3d",
   "metadata": {},
   "source": [
    "### Applying the Model"
   ]
  },
  {
   "cell_type": "markdown",
   "id": "b09e290c",
   "metadata": {},
   "source": [
    "If we want to apply the model to new data, we first need to load the encoder that was constructed jointly with the model. Again, the `loader` object comes in handy:"
   ]
  },
  {
   "cell_type": "code",
   "execution_count": 51,
   "id": "f1d2094d",
   "metadata": {
    "execution": {
     "iopub.execute_input": "2023-04-13T13:20:44.432654Z",
     "iopub.status.busy": "2023-04-13T13:20:44.432465Z",
     "iopub.status.idle": "2023-04-13T13:20:44.438701Z",
     "shell.execute_reply": "2023-04-13T13:20:44.438061Z"
    }
   },
   "outputs": [],
   "source": [
    "encoder = loader.get_encoder()"
   ]
  },
  {
   "cell_type": "code",
   "execution_count": 52,
   "id": "830a30bb",
   "metadata": {
    "execution": {
     "iopub.execute_input": "2023-04-13T13:20:44.440981Z",
     "iopub.status.busy": "2023-04-13T13:20:44.440793Z",
     "iopub.status.idle": "2023-04-13T13:20:44.463666Z",
     "shell.execute_reply": "2023-04-13T13:20:44.463077Z"
    }
   },
   "outputs": [
    {
     "data": {
      "text/plain": [
       "array([[0.98766681, 0.01233319],\n",
       "       [0.98766681, 0.01233319],\n",
       "       [0.98766681, 0.01233319],\n",
       "       ...,\n",
       "       [0.98766655, 0.01233345],\n",
       "       [0.98766681, 0.01233319],\n",
       "       [0.00594657, 0.99405343]])"
      ]
     },
     "execution_count": 52,
     "metadata": {},
     "output_type": "execute_result"
    }
   ],
   "source": [
    "model.predict_proba(encoder.transform(x=X))"
   ]
  },
  {
   "cell_type": "code",
   "execution_count": null,
   "id": "bfe624d1",
   "metadata": {},
   "outputs": [],
   "source": []
  }
 ],
 "metadata": {
  "kernelspec": {
   "display_name": "Python 3 (ipykernel)",
   "language": "python",
   "name": "python3"
  },
  "language_info": {
   "codemirror_mode": {
    "name": "ipython",
    "version": 3
   },
   "file_extension": ".py",
   "mimetype": "text/x-python",
   "name": "python",
   "nbconvert_exporter": "python",
   "pygments_lexer": "ipython3",
   "version": "3.9.16"
  }
 },
 "nbformat": 4,
 "nbformat_minor": 5
}
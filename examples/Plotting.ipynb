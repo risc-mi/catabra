{
 "cells": [
  {
   "cell_type": "markdown",
   "id": "b4687d04",
   "metadata": {},
   "source": [
    "# Plotting"
   ]
  },
  {
   "cell_type": "markdown",
   "id": "989c69fb",
   "metadata": {},
   "source": [
    "---"
   ]
  },
  {
   "cell_type": "markdown",
   "id": "8d3eeb0e",
   "metadata": {},
   "source": [
    "This notebook is part of https://github.com/risc-mi/catabra."
   ]
  },
  {
   "cell_type": "markdown",
   "id": "773fe979",
   "metadata": {},
   "source": [
    "This short example demonstrates CaTabRa's built-in plotting capabilities:\n",
    "* [create plots in Python](#Create-Plots-in-Python),\n",
    "* [create interactive plots with plotly](#Create-Interactive-Plots-with-plotly).\n",
    "\n",
    "For a more thorough account on plotting in CaTabRa, please refer to [plots.md](https://github.com/risc-mi/catabra/doc/plots.md).\n",
    "\n",
    "Familiarity with CaTabRa's main data analysis workflow is assumed. A step-by-step introduction can be found in [Workflow.ipynb](https://github.com/risc-mi/catabra/examples/Workflow.ipynb)."
   ]
  },
  {
   "cell_type": "markdown",
   "id": "0a01b3b8",
   "metadata": {},
   "source": [
    "## Create Plots in Python"
   ]
  },
  {
   "cell_type": "markdown",
   "id": "12e4a6cf",
   "metadata": {},
   "source": [
    "When analyzing data and evaluating or explaining prediction models, CaTabRa automatically plots some of the results and saves the resulting figures as png, pdf or other files. For a more fine-grained control of plotting, there is also a Python API.\n",
    "\n",
    "Let's start with analyzing some data."
   ]
  },
  {
   "cell_type": "code",
   "execution_count": 1,
   "id": "1a68b4a4",
   "metadata": {},
   "outputs": [],
   "source": [
    "# load dataset\n",
    "from sklearn.datasets import load_breast_cancer\n",
    "X, y = load_breast_cancer(as_frame=True, return_X_y=True)"
   ]
  },
  {
   "cell_type": "code",
   "execution_count": 2,
   "id": "6a69662d",
   "metadata": {},
   "outputs": [],
   "source": [
    "# add target labels to DataFrame\n",
    "X['diagnosis'] = y"
   ]
  },
  {
   "cell_type": "code",
   "execution_count": 3,
   "id": "4695c7de",
   "metadata": {},
   "outputs": [],
   "source": [
    "# split into train- and test set by adding column with corresponding values\n",
    "# the name of the column is arbitrary; CaTabRa tries to \"guess\" which samples belong to which set based on the column name and -values\n",
    "X['train'] = X.index <= 0.8 * len(X)"
   ]
  },
  {
   "cell_type": "code",
   "execution_count": 4,
   "id": "b334734f",
   "metadata": {},
   "outputs": [
    {
     "name": "stdout",
     "output_type": "stream",
     "text": [
      "[CaTabRa] ### Analysis started at 2023-02-07 15:36:33.907452\n",
      "[CaTabRa] Saving descriptive statistics completed\n",
      "[CaTabRa] Using AutoML-backend auto-sklearn for binary_classification\n",
      "[CaTabRa] Successfully loaded the following auto-sklearn add-on module(s): xgb\n"
     ]
    },
    {
     "name": "stderr",
     "output_type": "stream",
     "text": [
      "/home/amaletzk/miniconda3/envs/catabra/lib/python3.9/site-packages/autosklearn/metalearning/metalearning/meta_base.py:68: FutureWarning: The frame.append method is deprecated and will be removed from pandas in a future version. Use pandas.concat instead.\n",
      "  self.metafeatures = self.metafeatures.append(metafeatures)\n",
      "/home/amaletzk/miniconda3/envs/catabra/lib/python3.9/site-packages/autosklearn/metalearning/metalearning/meta_base.py:72: FutureWarning: The frame.append method is deprecated and will be removed from pandas in a future version. Use pandas.concat instead.\n",
      "  self.algorithm_runs[metric].append(runs)\n"
     ]
    },
    {
     "name": "stdout",
     "output_type": "stream",
     "text": [
      "[CaTabRa] New ensemble fitted:\n",
      "    ensemble_val_roc_auc: 0.980337\n",
      "    n_constituent_models: 1\n",
      "    total_elapsed_time: 00:05\n",
      "[CaTabRa] New model #1 trained:\n",
      "    val_roc_auc: 0.980337\n",
      "    val_accuracy: 0.927152\n",
      "    val_balanced_accuracy: 0.928416\n",
      "    train_roc_auc: 1.000000\n",
      "    type: random_forest\n",
      "    total_elapsed_time: 00:05\n",
      "[CaTabRa] New ensemble fitted:\n",
      "    ensemble_val_roc_auc: 0.994744\n",
      "    n_constituent_models: 1\n",
      "    total_elapsed_time: 00:06\n",
      "[CaTabRa] New model #2 trained:\n",
      "    val_roc_auc: 0.994744\n",
      "    val_accuracy: 0.947020\n",
      "    val_balanced_accuracy: 0.947717\n",
      "    train_roc_auc: 0.996970\n",
      "    type: passive_aggressive\n",
      "    total_elapsed_time: 00:06\n",
      "[CaTabRa] New ensemble fitted:\n",
      "    ensemble_val_roc_auc: 0.994744\n",
      "    n_constituent_models: 1\n",
      "    total_elapsed_time: 00:07\n",
      "[CaTabRa] New model #3 trained:\n",
      "    val_roc_auc: 0.970098\n",
      "    val_accuracy: 0.920530\n",
      "    val_balanced_accuracy: 0.915458\n",
      "    train_roc_auc: 1.000000\n",
      "    type: gradient_boosting\n",
      "    total_elapsed_time: 00:07\n",
      "[CaTabRa] New ensemble fitted:\n",
      "    ensemble_val_roc_auc: 0.994744\n",
      "    n_constituent_models: 1\n",
      "    total_elapsed_time: 00:08\n",
      "[CaTabRa] New model #4 trained:\n",
      "    val_roc_auc: 0.975535\n",
      "    val_accuracy: 0.933775\n",
      "    val_balanced_accuracy: 0.934034\n",
      "    train_roc_auc: 0.999866\n",
      "    type: random_forest\n",
      "    total_elapsed_time: 00:08\n",
      "[CaTabRa] New ensemble fitted:\n",
      "    ensemble_val_roc_auc: 0.994744\n",
      "    n_constituent_models: 1\n",
      "    total_elapsed_time: 00:10\n",
      "[CaTabRa] New model #5 trained:\n",
      "    val_roc_auc: 0.969192\n",
      "    val_accuracy: 0.913907\n",
      "    val_balanced_accuracy: 0.914734\n",
      "    train_roc_auc: 1.000000\n",
      "    type: mlp\n",
      "    total_elapsed_time: 00:10\n",
      "[CaTabRa] New ensemble fitted:\n",
      "    ensemble_val_roc_auc: 0.994744\n",
      "    n_constituent_models: 1\n",
      "    total_elapsed_time: 00:11\n",
      "[CaTabRa] New model #6 trained:\n",
      "    val_roc_auc: 0.984143\n",
      "    val_accuracy: 0.933775\n",
      "    val_balanced_accuracy: 0.934034\n",
      "    train_roc_auc: 1.000000\n",
      "    type: gradient_boosting\n",
      "    total_elapsed_time: 00:11\n",
      "[CaTabRa] New ensemble fitted:\n",
      "    ensemble_val_roc_auc: 0.994926\n",
      "    n_constituent_models: 2\n",
      "    total_elapsed_time: 00:12\n",
      "[CaTabRa] New model #7 trained:\n",
      "    val_roc_auc: 0.980065\n",
      "    val_accuracy: 0.907285\n",
      "    val_balanced_accuracy: 0.914009\n",
      "    train_roc_auc: 0.995322\n",
      "    type: extra_trees\n",
      "    total_elapsed_time: 00:12\n",
      "[CaTabRa] New ensemble fitted:\n",
      "    ensemble_val_roc_auc: 0.995832\n",
      "    n_constituent_models: 2\n",
      "    total_elapsed_time: 00:17\n",
      "[CaTabRa] New model #8 trained:\n",
      "    val_roc_auc: 0.994201\n",
      "    val_accuracy: 0.973510\n",
      "    val_balanced_accuracy: 0.972635\n",
      "    train_roc_auc: 1.000000\n",
      "    type: gradient_boosting\n",
      "    total_elapsed_time: 00:17\n",
      "[CaTabRa] New ensemble fitted:\n",
      "    ensemble_val_roc_auc: 0.995832\n",
      "    n_constituent_models: 2\n",
      "    total_elapsed_time: 00:19\n",
      "[CaTabRa] New model #9 trained:\n",
      "    val_roc_auc: 0.978434\n",
      "    val_accuracy: 0.933775\n",
      "    val_balanced_accuracy: 0.926694\n",
      "    train_roc_auc: 0.998574\n",
      "    type: mlp\n",
      "    total_elapsed_time: 00:19\n",
      "[CaTabRa] New ensemble fitted:\n",
      "    ensemble_val_roc_auc: 0.995832\n",
      "    n_constituent_models: 2\n",
      "    total_elapsed_time: 00:21\n",
      "[CaTabRa] New model #10 trained:\n",
      "    val_roc_auc: 0.985502\n",
      "    val_accuracy: 0.940397\n",
      "    val_balanced_accuracy: 0.937206\n",
      "    train_roc_auc: 1.000000\n",
      "    type: random_forest\n",
      "    total_elapsed_time: 00:21\n",
      "[CaTabRa] New ensemble fitted:\n",
      "    ensemble_val_roc_auc: 0.998007\n",
      "    n_constituent_models: 2\n",
      "    total_elapsed_time: 00:22\n",
      "[CaTabRa] New model #11 trained:\n",
      "    val_roc_auc: 0.997282\n",
      "    val_accuracy: 0.940397\n",
      "    val_balanced_accuracy: 0.927419\n",
      "    train_roc_auc: 0.995901\n",
      "    type: passive_aggressive\n",
      "    total_elapsed_time: 00:22\n",
      "[CaTabRa] New ensemble fitted:\n",
      "    ensemble_val_roc_auc: 0.998007\n",
      "    n_constituent_models: 2\n",
      "    total_elapsed_time: 00:24\n",
      "[CaTabRa] New model #12 trained:\n",
      "    val_roc_auc: 0.976260\n",
      "    val_accuracy: 0.920530\n",
      "    val_balanced_accuracy: 0.925245\n",
      "    train_roc_auc: 0.998886\n",
      "    type: random_forest\n",
      "    total_elapsed_time: 00:23\n",
      "[CaTabRa] New ensemble fitted:\n",
      "    ensemble_val_roc_auc: 0.998007\n",
      "    n_constituent_models: 2\n",
      "    total_elapsed_time: 00:27\n",
      "[CaTabRa] New model #13 trained:\n",
      "    val_roc_auc: 0.995107\n",
      "    val_accuracy: 0.973510\n",
      "    val_balanced_accuracy: 0.972635\n",
      "    train_roc_auc: 1.000000\n",
      "    type: gradient_boosting\n",
      "    total_elapsed_time: 00:27\n",
      "[CaTabRa] New ensemble fitted:\n",
      "    ensemble_val_roc_auc: 0.998007\n",
      "    n_constituent_models: 2\n",
      "    total_elapsed_time: 00:29\n",
      "[CaTabRa] New model #14 trained:\n",
      "    val_roc_auc: 0.994020\n",
      "    val_accuracy: 0.953642\n",
      "    val_balanced_accuracy: 0.948441\n",
      "    train_roc_auc: 1.000000\n",
      "    type: mlp\n",
      "    total_elapsed_time: 00:29\n",
      "[CaTabRa] New ensemble fitted:\n",
      "    ensemble_val_roc_auc: 0.998007\n",
      "    n_constituent_models: 2\n",
      "    total_elapsed_time: 00:30\n",
      "[CaTabRa] New model #15 trained:\n",
      "    val_roc_auc: 0.987858\n",
      "    val_accuracy: 0.940397\n",
      "    val_balanced_accuracy: 0.942099\n",
      "    train_roc_auc: 1.000000\n",
      "    type: extra_trees\n",
      "    total_elapsed_time: 00:30\n",
      "[CaTabRa] New ensemble fitted:\n",
      "    ensemble_val_roc_auc: 0.998007\n",
      "    n_constituent_models: 3\n",
      "    total_elapsed_time: 00:31\n",
      "[CaTabRa] New model #16 trained:\n",
      "    val_roc_auc: 0.994020\n",
      "    val_accuracy: 0.947020\n",
      "    val_balanced_accuracy: 0.950163\n",
      "    train_roc_auc: 0.996569\n",
      "    type: sgd\n",
      "    total_elapsed_time: 00:31\n",
      "[CaTabRa] New ensemble fitted:\n",
      "    ensemble_val_roc_auc: 0.998007\n",
      "    n_constituent_models: 3\n",
      "    total_elapsed_time: 00:32\n",
      "[CaTabRa] New model #17 trained:\n",
      "    val_roc_auc: 0.996557\n",
      "    val_accuracy: 0.966887\n",
      "    val_balanced_accuracy: 0.964570\n",
      "    train_roc_auc: 1.000000\n",
      "    type: mlp\n",
      "    total_elapsed_time: 00:32\n",
      "[CaTabRa] New model #18 trained:\n",
      "    val_roc_auc: 0.974175\n",
      "    val_accuracy: 0.920530\n",
      "    val_balanced_accuracy: 0.920352\n",
      "    train_roc_auc: 1.000000\n",
      "    type: random_forest\n",
      "    total_elapsed_time: 00:33\n",
      "[CaTabRa] New model #19 trained:\n",
      "    val_roc_auc: 0.981877\n",
      "    val_accuracy: 0.933775\n",
      "    val_balanced_accuracy: 0.934034\n",
      "    train_roc_auc: 0.999955\n",
      "    type: random_forest\n",
      "    total_elapsed_time: 00:34\n",
      "[CaTabRa] New ensemble fitted:\n",
      "    ensemble_val_roc_auc: 0.998007\n",
      "    n_constituent_models: 3\n",
      "    total_elapsed_time: 00:36\n",
      "[CaTabRa] New model #20 trained:\n",
      "    val_roc_auc: 0.987767\n",
      "    val_accuracy: 0.960265\n",
      "    val_balanced_accuracy: 0.956506\n",
      "    train_roc_auc: 1.000000\n",
      "    type: mlp\n",
      "    total_elapsed_time: 00:36\n",
      "[CaTabRa] New model #21 trained:\n",
      "    val_roc_auc: 0.876858\n",
      "    val_accuracy: 0.880795\n",
      "    val_balanced_accuracy: 0.876858\n",
      "    train_roc_auc: 1.000000\n",
      "    type: k_nearest_neighbors\n",
      "    total_elapsed_time: 00:36\n",
      "[CaTabRa] New ensemble fitted:\n",
      "    ensemble_val_roc_auc: 0.998007\n",
      "    n_constituent_models: 3\n",
      "    total_elapsed_time: 00:37\n",
      "[CaTabRa] New model #22 trained:\n",
      "    val_roc_auc: 0.988039\n",
      "    val_accuracy: 0.960265\n",
      "    val_balanced_accuracy: 0.956506\n",
      "    train_roc_auc: 1.000000\n",
      "    type: gradient_boosting\n",
      "    total_elapsed_time: 00:37\n",
      "[CaTabRa] New model #23 trained:\n",
      "    val_roc_auc: 0.982331\n",
      "    val_accuracy: 0.913907\n",
      "    val_balanced_accuracy: 0.914734\n",
      "    train_roc_auc: 1.000000\n",
      "    type: random_forest\n",
      "    total_elapsed_time: 00:39\n",
      "[CaTabRa] New ensemble fitted:\n",
      "    ensemble_val_roc_auc: 0.998007\n",
      "    n_constituent_models: 3\n",
      "    total_elapsed_time: 00:40\n",
      "[CaTabRa] New model #24 trained:\n",
      "    val_roc_auc: 0.990395\n",
      "    val_accuracy: 0.960265\n",
      "    val_balanced_accuracy: 0.956506\n",
      "    train_roc_auc: 1.000000\n",
      "    type: gradient_boosting\n",
      "    total_elapsed_time: 00:39\n",
      "[CaTabRa] New ensemble fitted:\n",
      "    ensemble_val_roc_auc: 0.998007\n",
      "    n_constituent_models: 3\n",
      "    total_elapsed_time: 00:43\n",
      "[CaTabRa] New model #25 trained:\n",
      "    val_roc_auc: 0.993838\n",
      "    val_accuracy: 0.933775\n",
      "    val_balanced_accuracy: 0.941374\n",
      "    train_roc_auc: 0.997995\n",
      "    type: passive_aggressive\n",
      "    total_elapsed_time: 00:43\n",
      "[CaTabRa] New ensemble fitted:\n",
      "    ensemble_val_roc_auc: 0.998007\n",
      "    n_constituent_models: 3\n",
      "    total_elapsed_time: 00:46\n",
      "[CaTabRa] New model #26 trained:\n",
      "    val_roc_auc: 0.993295\n",
      "    val_accuracy: 0.947020\n",
      "    val_balanced_accuracy: 0.947717\n",
      "    train_roc_auc: 0.994386\n",
      "    type: passive_aggressive\n",
      "    total_elapsed_time: 00:46\n",
      "[CaTabRa] New model #27 trained:\n",
      "    val_roc_auc: 0.942008\n",
      "    val_accuracy: 0.741722\n",
      "    val_balanced_accuracy: 0.776006\n",
      "    train_roc_auc: 0.971039\n",
      "    type: mlp\n",
      "    total_elapsed_time: 00:50\n"
     ]
    },
    {
     "name": "stdout",
     "output_type": "stream",
     "text": [
      "[CaTabRa] Final training statistics:\n",
      "    n_models_trained: 27\n",
      "    ensemble_val_roc_auc: 0.9980065241029358\n",
      "[CaTabRa] Creating shap explainer\n",
      "[CaTabRa] Initialized out-of-distribution detector of type Autoencoder\n",
      "[CaTabRa] Fitting out-of-distribution detector...\n",
      "Iteration 1, loss = 0.06085017\n",
      "Iteration 2, loss = 0.03289962\n",
      "Iteration 3, loss = 0.02181483\n",
      "Iteration 4, loss = 0.01584785\n",
      "Iteration 5, loss = 0.01330938\n",
      "Iteration 6, loss = 0.01216239\n",
      "Iteration 7, loss = 0.01212639\n",
      "Iteration 8, loss = 0.01227001\n",
      "Iteration 9, loss = 0.01203791\n",
      "Iteration 10, loss = 0.01172125\n",
      "Iteration 11, loss = 0.01146995\n",
      "Iteration 12, loss = 0.01136324\n",
      "Iteration 13, loss = 0.01133187\n",
      "Iteration 14, loss = 0.01131433\n",
      "Iteration 15, loss = 0.01128535\n",
      "Iteration 16, loss = 0.01124820\n",
      "Iteration 17, loss = 0.01122447\n",
      "Iteration 18, loss = 0.01121488\n",
      "Iteration 19, loss = 0.01122301\n",
      "Iteration 20, loss = 0.01121693\n",
      "Iteration 21, loss = 0.01122128\n",
      "Iteration 22, loss = 0.01120987\n",
      "Iteration 23, loss = 0.01121695\n",
      "Iteration 24, loss = 0.01121266\n",
      "Iteration 25, loss = 0.01120755\n",
      "Iteration 26, loss = 0.01121385\n",
      "Iteration 27, loss = 0.01120791\n",
      "Iteration 28, loss = 0.01120902\n",
      "Iteration 29, loss = 0.01121593\n",
      "Iteration 30, loss = 0.01120712\n",
      "Iteration 31, loss = 0.01122437\n",
      "Iteration 32, loss = 0.01120055\n",
      "Iteration 33, loss = 0.01121225\n",
      "Iteration 34, loss = 0.01120493\n",
      "Iteration 35, loss = 0.01120550\n",
      "Iteration 36, loss = 0.01115144\n",
      "Iteration 37, loss = 0.01108390\n",
      "Iteration 38, loss = 0.01095788\n",
      "Iteration 39, loss = 0.01070189\n",
      "Iteration 40, loss = 0.01026110\n",
      "Iteration 41, loss = 0.00946063\n",
      "Iteration 42, loss = 0.00935810\n",
      "Iteration 43, loss = 0.00840183\n",
      "Iteration 44, loss = 0.00816982\n",
      "Iteration 45, loss = 0.00799203\n",
      "Iteration 46, loss = 0.00886871\n",
      "Iteration 47, loss = 0.00809374\n",
      "Iteration 48, loss = 0.00783158\n",
      "Iteration 49, loss = 0.00748960\n",
      "Iteration 50, loss = 0.00723735\n",
      "Iteration 51, loss = 0.00708841\n",
      "Iteration 52, loss = 0.00687756\n",
      "Iteration 53, loss = 0.00666843\n",
      "Iteration 54, loss = 0.00703583\n",
      "Iteration 55, loss = 0.00670849\n",
      "Iteration 56, loss = 0.00653881\n",
      "Iteration 57, loss = 0.00653275\n",
      "Iteration 58, loss = 0.00620040\n",
      "Iteration 59, loss = 0.00608721\n",
      "Iteration 60, loss = 0.00583972\n",
      "Iteration 61, loss = 0.00570859\n",
      "Iteration 62, loss = 0.00564755\n",
      "Iteration 63, loss = 0.00554226\n",
      "Iteration 64, loss = 0.00545969\n",
      "Iteration 65, loss = 0.00539900\n",
      "Iteration 66, loss = 0.00540212\n",
      "Iteration 67, loss = 0.00534600\n",
      "Iteration 68, loss = 0.00532010\n",
      "Iteration 69, loss = 0.00533432\n",
      "Iteration 70, loss = 0.00530529\n",
      "Iteration 71, loss = 0.00528565\n",
      "Iteration 72, loss = 0.00530402\n",
      "Iteration 73, loss = 0.00530291\n",
      "Iteration 74, loss = 0.00530124\n",
      "Iteration 75, loss = 0.00528634\n",
      "Iteration 76, loss = 0.00529767\n",
      "Iteration 77, loss = 0.00527250\n",
      "Iteration 78, loss = 0.00525985\n",
      "Iteration 79, loss = 0.00524451\n",
      "Iteration 80, loss = 0.00524458\n",
      "Iteration 81, loss = 0.00524804\n",
      "Iteration 82, loss = 0.00524231\n",
      "Iteration 83, loss = 0.00523771\n",
      "Iteration 84, loss = 0.00523485\n",
      "Iteration 85, loss = 0.00523113\n",
      "Iteration 86, loss = 0.00526095\n",
      "Iteration 87, loss = 0.00523830\n",
      "Iteration 88, loss = 0.00525606\n",
      "Iteration 89, loss = 0.00524348\n",
      "Iteration 90, loss = 0.00522831\n",
      "Iteration 91, loss = 0.00522610\n",
      "Iteration 92, loss = 0.00521346\n",
      "Iteration 93, loss = 0.00521937\n",
      "Iteration 94, loss = 0.00520684\n",
      "Iteration 95, loss = 0.00521212\n",
      "Iteration 96, loss = 0.00521211\n",
      "Iteration 97, loss = 0.00520539\n",
      "Iteration 98, loss = 0.00520028\n",
      "Iteration 99, loss = 0.00521242\n",
      "Iteration 100, loss = 0.00519906\n",
      "Iteration 101, loss = 0.00519287\n",
      "Iteration 102, loss = 0.00519274\n",
      "Iteration 103, loss = 0.00518926\n",
      "Iteration 104, loss = 0.00520050\n",
      "Iteration 105, loss = 0.00519474\n",
      "Iteration 106, loss = 0.00517920\n",
      "Iteration 107, loss = 0.00517307\n",
      "Iteration 108, loss = 0.00517225\n",
      "Iteration 109, loss = 0.00516125\n",
      "Iteration 110, loss = 0.00517665\n",
      "Iteration 111, loss = 0.00516965\n",
      "Iteration 112, loss = 0.00517588\n",
      "Iteration 113, loss = 0.00515191\n",
      "Iteration 114, loss = 0.00515635\n",
      "Training loss did not improve more than tol=0.000100 for 50 consecutive epochs. Stopping.\n",
      "[CaTabRa] Out-of-distribution detector fitted.\n",
      "[CaTabRa] ### Analysis finished at 2023-02-07 15:37:37.553016\n",
      "[CaTabRa] ### Elapsed time: 0 days 00:01:03.645564\n",
      "[CaTabRa] ### Output saved in /mnt/c/Users/amaletzk/Documents/CaTabRa/catabra/examples/plotting_example\n",
      "[CaTabRa] ### Evaluation started at 2023-02-07 15:37:37.606937\n",
      "[CaTabRa] Predicting out-of-distribution samples.\n",
      "[CaTabRa] Saving descriptive statistics completed\n",
      "[CaTabRa] Saving descriptive statistics completed\n",
      "[CaTabRa] Evaluation results for train:\n",
      "    roc_auc: 0.9973715651135006\n",
      "    accuracy @ 0.5: 0.9736842105263158\n",
      "    balanced_accuracy @ 0.5: 0.96857825567503\n",
      "[CaTabRa] Evaluation results for not_train:\n",
      "    roc_auc: 0.9986737400530503\n",
      "    accuracy @ 0.5: 0.9734513274336283\n",
      "    balanced_accuracy @ 0.5: 0.95579133510168\n",
      "[CaTabRa] ### Evaluation finished at 2023-02-07 15:37:42.282860\n",
      "[CaTabRa] ### Elapsed time: 0 days 00:00:04.675923\n",
      "[CaTabRa] ### Output saved in /mnt/c/Users/amaletzk/Documents/CaTabRa/catabra/examples/plotting_example/eval\n"
     ]
    }
   ],
   "source": [
    "from catabra.analysis import analyze\n",
    "\n",
    "analyze(\n",
    "    X,\n",
    "    classify='diagnosis',     # name of column containing classification target\n",
    "    split='train',            # name of column containing information about the train-test split (optional)\n",
    "    time=1,                   # time budget for hyperparameter tuning, in minutes (optional)\n",
    "    out='plotting_example',\n",
    ")"
   ]
  },
  {
   "cell_type": "markdown",
   "id": "e4078bc8",
   "metadata": {},
   "source": [
    "Recall from [Workflow.ipynb](https://github.com/risc-mi/catabra/examples/Workflow.ipynb) that by specifying a train-test split the final classifier is automatically evaluated after training. The resulting figures are saved in `eval/train/static_plots/` and `eval/not_train/static_plots`. But we can create (and modify) them directly in Python, too."
   ]
  },
  {
   "cell_type": "code",
   "execution_count": 5,
   "id": "32ff9642",
   "metadata": {},
   "outputs": [],
   "source": [
    "from catabra.util.io import CaTabRaLoader\n",
    "\n",
    "loader = CaTabRaLoader('plotting_example')"
   ]
  },
  {
   "cell_type": "markdown",
   "id": "7452ed5e",
   "metadata": {},
   "source": [
    "Create performance plots for the test set:"
   ]
  },
  {
   "cell_type": "code",
   "execution_count": 6,
   "id": "3a1ce8f7",
   "metadata": {},
   "outputs": [],
   "source": [
    "from catabra.evaluation import plot_results\n",
    "\n",
    "figures = plot_results(\n",
    "    loader.path / 'eval/not_train/predictions.xlsx',    # table with predictions for all samples\n",
    "    loader.path / 'eval/not_train/metrics.xlsx',        # table with performance metrics\n",
    "    loader.get_encoder()                                # data encoder\n",
    ")"
   ]
  },
  {
   "cell_type": "markdown",
   "id": "9dc42972",
   "metadata": {},
   "source": [
    "The result is a dict mapping keys to `matplotlib.pyplot.Figure` instances. The keys correspond precisely to the names of the figure-files in `eval/not_train/static_plots/`."
   ]
  },
  {
   "cell_type": "code",
   "execution_count": 7,
   "id": "a9f707a1",
   "metadata": {},
   "outputs": [
    {
     "data": {
      "text/plain": [
       "dict_keys(['roc_curve', 'pr_curve', 'threshold', 'confusion_matrix', 'calibration'])"
      ]
     },
     "execution_count": 7,
     "metadata": {},
     "output_type": "execute_result"
    }
   ],
   "source": [
    "figures.keys()"
   ]
  },
  {
   "cell_type": "code",
   "execution_count": 30,
   "id": "ed6014d2",
   "metadata": {},
   "outputs": [
    {
     "data": {
      "image/png": "[encoded data removed]",
      "text/plain": [
       "<Figure size 720x360 with 1 Axes>"
      ]
     },
     "execution_count": 30,
     "metadata": {},
     "output_type": "execute_result"
    }
   ],
   "source": [
    "figures['threshold']"
   ]
  },
  {
   "cell_type": "code",
   "execution_count": 21,
   "id": "88ee4b4a",
   "metadata": {},
   "outputs": [
    {
     "data": {
      "image/png": "[encoded data removed]",
      "text/plain": [
       "<Figure size 360x360 with 1 Axes>"
      ]
     },
     "execution_count": 21,
     "metadata": {},
     "output_type": "execute_result"
    }
   ],
   "source": [
    "figures['roc_curve']"
   ]
  },
  {
   "cell_type": "code",
   "execution_count": 28,
   "id": "e5beac6f",
   "metadata": {},
   "outputs": [
    {
     "data": {
      "image/png": "[encoded data removed]",
      "text/plain": [
       "<Figure size 1152x288 with 1 Axes>"
      ]
     },
     "execution_count": 28,
     "metadata": {},
     "output_type": "execute_result"
    }
   ],
   "source": [
    "figures['confusion_matrix']"
   ]
  },
  {
   "cell_type": "markdown",
   "id": "9cb47b70",
   "metadata": {},
   "source": [
    "There are similar ways to plot training history and feature importance. Check out [plots.md](https://github.com/risc-mi/catabra/doc/plots.md) for details."
   ]
  },
  {
   "cell_type": "markdown",
   "id": "e4ae66b7",
   "metadata": {},
   "source": [
    "## Create Interactive Plots with plotly"
   ]
  },
  {
   "cell_type": "markdown",
   "id": "79693319",
   "metadata": {},
   "source": [
    "So far, all plots were created with the default [Matplotlib](https://matplotlib.org/) backend. CaTabRa can be instructed to produce *interactive plots* using the [plotly](https://plotly.com/python/) backend with only a few lines of code."
   ]
  },
  {
   "cell_type": "markdown",
   "id": "4997c025",
   "metadata": {},
   "source": [
    "Since plotly is not installed by default, we have to install it manually (using either pip or conda):"
   ]
  },
  {
   "cell_type": "code",
   "execution_count": 31,
   "id": "fa616e5c",
   "metadata": {},
   "outputs": [
    {
     "name": "stdout",
     "output_type": "stream",
     "text": [
      "Requirement already satisfied: plotly==5.7.0 in /home/amaletzk/miniconda3/envs/catabra/lib/python3.9/site-packages (5.7.0)\r\n",
      "Requirement already satisfied: tenacity>=6.2.0 in /home/amaletzk/miniconda3/envs/catabra/lib/python3.9/site-packages (from plotly==5.7.0) (8.0.1)\r\n",
      "Requirement already satisfied: six in /home/amaletzk/miniconda3/envs/catabra/lib/python3.9/site-packages (from plotly==5.7.0) (1.16.0)\r\n"
     ]
    }
   ],
   "source": [
    "!pip install plotly==5.7.0"
   ]
  },
  {
   "cell_type": "markdown",
   "id": "2176b753",
   "metadata": {},
   "source": [
    "For automatically creating interactive plots during all stages of CaTabRa's data analysis workflow we can update the config dict passed to the initial call to `analyze()`. The config dict can be updated by either passing a dict or the path to a JSON file containing such a dict; the latter is especially useful on the command line.\n",
    "\n",
    "**NOTE**<br>\n",
    "For more information about the possible config parameters and their meaning, please refer to [config.md](https://github.com/risc-mi/catabra/doc/config.md)."
   ]
  },
  {
   "cell_type": "markdown",
   "id": "f12da8a2",
   "metadata": {},
   "source": [
    "When executing the following cell you will be asked whether the output directory, which already exists because of the previous call to `analyze()` above, shall be deleted. Just enter \"y\"."
   ]
  },
  {
   "cell_type": "code",
   "execution_count": 32,
   "id": "09f3ffa0",
   "metadata": {},
   "outputs": [
    {
     "name": "stdout",
     "output_type": "stream",
     "text": [
      "Output folder \"/mnt/c/Users/amaletzk/Documents/CaTabRa/catabra/examples/plotting_example\" already exists. Delete? [y/n] y\n",
      "[CaTabRa] ### Analysis started at 2023-02-07 16:34:49.523708\n",
      "[CaTabRa] Saving descriptive statistics completed\n",
      "[CaTabRa] Using AutoML-backend auto-sklearn for binary_classification\n",
      "[CaTabRa] Successfully loaded the following auto-sklearn add-on module(s): xgb\n"
     ]
    },
    {
     "name": "stderr",
     "output_type": "stream",
     "text": [
      "The frame.append method is deprecated and will be removed from pandas in a future version. Use pandas.concat instead.\n",
      "The frame.append method is deprecated and will be removed from pandas in a future version. Use pandas.concat instead.\n"
     ]
    },
    {
     "name": "stdout",
     "output_type": "stream",
     "text": [
      "[CaTabRa] New ensemble fitted:\n",
      "    ensemble_val_roc_auc: 0.980337\n",
      "    n_constituent_models: 1\n",
      "    total_elapsed_time: 00:06\n",
      "[CaTabRa] New model #1 trained:\n",
      "    val_roc_auc: 0.980337\n",
      "    val_accuracy: 0.927152\n",
      "    val_balanced_accuracy: 0.928416\n",
      "    train_roc_auc: 1.000000\n",
      "    type: random_forest\n",
      "    total_elapsed_time: 00:06\n",
      "[CaTabRa] New ensemble fitted:\n",
      "    ensemble_val_roc_auc: 0.994744\n",
      "    n_constituent_models: 1\n",
      "    total_elapsed_time: 00:06\n",
      "[CaTabRa] New model #2 trained:\n",
      "    val_roc_auc: 0.994744\n",
      "    val_accuracy: 0.947020\n",
      "    val_balanced_accuracy: 0.947717\n",
      "    train_roc_auc: 0.996970\n",
      "    type: passive_aggressive\n",
      "    total_elapsed_time: 00:06\n",
      "[CaTabRa] New ensemble fitted:\n",
      "    ensemble_val_roc_auc: 0.994744\n",
      "    n_constituent_models: 1\n",
      "    total_elapsed_time: 00:07\n",
      "[CaTabRa] New model #3 trained:\n",
      "    val_roc_auc: 0.970098\n",
      "    val_accuracy: 0.920530\n",
      "    val_balanced_accuracy: 0.915458\n",
      "    train_roc_auc: 1.000000\n",
      "    type: gradient_boosting\n",
      "    total_elapsed_time: 00:07\n",
      "[CaTabRa] New ensemble fitted:\n",
      "    ensemble_val_roc_auc: 0.994744\n",
      "    n_constituent_models: 1\n",
      "    total_elapsed_time: 00:09\n",
      "[CaTabRa] New model #4 trained:\n",
      "    val_roc_auc: 0.975535\n",
      "    val_accuracy: 0.933775\n",
      "    val_balanced_accuracy: 0.934034\n",
      "    train_roc_auc: 0.999866\n",
      "    type: random_forest\n",
      "    total_elapsed_time: 00:09\n",
      "[CaTabRa] New ensemble fitted:\n",
      "    ensemble_val_roc_auc: 0.994744\n",
      "    n_constituent_models: 1\n",
      "    total_elapsed_time: 00:11\n",
      "[CaTabRa] New model #5 trained:\n",
      "    val_roc_auc: 0.969192\n",
      "    val_accuracy: 0.913907\n",
      "    val_balanced_accuracy: 0.914734\n",
      "    train_roc_auc: 1.000000\n",
      "    type: mlp\n",
      "    total_elapsed_time: 00:11\n",
      "[CaTabRa] New ensemble fitted:\n",
      "    ensemble_val_roc_auc: 0.994744\n",
      "    n_constituent_models: 1\n",
      "    total_elapsed_time: 00:12\n",
      "[CaTabRa] New model #6 trained:\n",
      "    val_roc_auc: 0.984143\n",
      "    val_accuracy: 0.933775\n",
      "    val_balanced_accuracy: 0.934034\n",
      "    train_roc_auc: 1.000000\n",
      "    type: gradient_boosting\n",
      "    total_elapsed_time: 00:12\n",
      "[CaTabRa] New ensemble fitted:\n",
      "    ensemble_val_roc_auc: 0.994926\n",
      "    n_constituent_models: 2\n",
      "    total_elapsed_time: 00:13\n",
      "[CaTabRa] New model #7 trained:\n",
      "    val_roc_auc: 0.980065\n",
      "    val_accuracy: 0.907285\n",
      "    val_balanced_accuracy: 0.914009\n",
      "    train_roc_auc: 0.995322\n",
      "    type: extra_trees\n",
      "    total_elapsed_time: 00:13\n",
      "[CaTabRa] New ensemble fitted:\n",
      "    ensemble_val_roc_auc: 0.995832\n",
      "    n_constituent_models: 2\n",
      "    total_elapsed_time: 00:18\n",
      "[CaTabRa] New model #8 trained:\n",
      "    val_roc_auc: 0.994201\n",
      "    val_accuracy: 0.973510\n",
      "    val_balanced_accuracy: 0.972635\n",
      "    train_roc_auc: 1.000000\n",
      "    type: gradient_boosting\n",
      "    total_elapsed_time: 00:18\n",
      "[CaTabRa] New ensemble fitted:\n",
      "    ensemble_val_roc_auc: 0.995832\n",
      "    n_constituent_models: 2\n",
      "    total_elapsed_time: 00:20\n",
      "[CaTabRa] New model #9 trained:\n",
      "    val_roc_auc: 0.978434\n",
      "    val_accuracy: 0.933775\n",
      "    val_balanced_accuracy: 0.926694\n",
      "    train_roc_auc: 0.998574\n",
      "    type: mlp\n",
      "    total_elapsed_time: 00:19\n",
      "[CaTabRa] New ensemble fitted:\n",
      "    ensemble_val_roc_auc: 0.995832\n",
      "    n_constituent_models: 2\n",
      "    total_elapsed_time: 00:22\n",
      "[CaTabRa] New model #10 trained:\n",
      "    val_roc_auc: 0.985502\n",
      "    val_accuracy: 0.940397\n",
      "    val_balanced_accuracy: 0.937206\n",
      "    train_roc_auc: 1.000000\n",
      "    type: random_forest\n",
      "    total_elapsed_time: 00:22\n",
      "[CaTabRa] New ensemble fitted:\n",
      "    ensemble_val_roc_auc: 0.998007\n",
      "    n_constituent_models: 2\n",
      "    total_elapsed_time: 00:23\n",
      "[CaTabRa] New model #11 trained:\n",
      "    val_roc_auc: 0.997282\n",
      "    val_accuracy: 0.940397\n",
      "    val_balanced_accuracy: 0.927419\n",
      "    train_roc_auc: 0.995901\n",
      "    type: passive_aggressive\n",
      "    total_elapsed_time: 00:22\n",
      "[CaTabRa] New ensemble fitted:\n",
      "    ensemble_val_roc_auc: 0.998007\n",
      "    n_constituent_models: 2\n",
      "    total_elapsed_time: 00:24\n",
      "[CaTabRa] New model #12 trained:\n",
      "    val_roc_auc: 0.976260\n",
      "    val_accuracy: 0.920530\n",
      "    val_balanced_accuracy: 0.925245\n",
      "    train_roc_auc: 0.998886\n",
      "    type: random_forest\n",
      "    total_elapsed_time: 00:24\n",
      "[CaTabRa] New ensemble fitted:\n",
      "    ensemble_val_roc_auc: 0.998007\n",
      "    n_constituent_models: 2\n",
      "    total_elapsed_time: 00:27\n",
      "[CaTabRa] New model #13 trained:\n",
      "    val_roc_auc: 0.995107\n",
      "    val_accuracy: 0.973510\n",
      "    val_balanced_accuracy: 0.972635\n",
      "    train_roc_auc: 1.000000\n",
      "    type: gradient_boosting\n",
      "    total_elapsed_time: 00:27\n",
      "[CaTabRa] New ensemble fitted:\n",
      "    ensemble_val_roc_auc: 0.998007\n",
      "    n_constituent_models: 2\n",
      "    total_elapsed_time: 00:29\n",
      "[CaTabRa] New model #14 trained:\n",
      "    val_roc_auc: 0.994020\n",
      "    val_accuracy: 0.953642\n",
      "    val_balanced_accuracy: 0.948441\n",
      "    train_roc_auc: 1.000000\n",
      "    type: mlp\n",
      "    total_elapsed_time: 00:29\n",
      "[CaTabRa] New ensemble fitted:\n",
      "    ensemble_val_roc_auc: 0.998007\n",
      "    n_constituent_models: 2\n",
      "    total_elapsed_time: 00:31\n",
      "[CaTabRa] New model #15 trained:\n",
      "    val_roc_auc: 0.987858\n",
      "    val_accuracy: 0.940397\n",
      "    val_balanced_accuracy: 0.942099\n",
      "    train_roc_auc: 1.000000\n",
      "    type: extra_trees\n",
      "    total_elapsed_time: 00:31\n",
      "[CaTabRa] New ensemble fitted:\n",
      "    ensemble_val_roc_auc: 0.998007\n",
      "    n_constituent_models: 3\n",
      "    total_elapsed_time: 00:32\n",
      "[CaTabRa] New model #16 trained:\n",
      "    val_roc_auc: 0.994020\n",
      "    val_accuracy: 0.947020\n",
      "    val_balanced_accuracy: 0.950163\n",
      "    train_roc_auc: 0.996569\n",
      "    type: sgd\n",
      "    total_elapsed_time: 00:32\n",
      "[CaTabRa] New ensemble fitted:\n",
      "    ensemble_val_roc_auc: 0.998007\n",
      "    n_constituent_models: 3\n",
      "    total_elapsed_time: 00:33\n",
      "[CaTabRa] New model #17 trained:\n",
      "    val_roc_auc: 0.996557\n",
      "    val_accuracy: 0.966887\n",
      "    val_balanced_accuracy: 0.964570\n",
      "    train_roc_auc: 1.000000\n",
      "    type: mlp\n",
      "    total_elapsed_time: 00:33\n",
      "[CaTabRa] New model #18 trained:\n",
      "    val_roc_auc: 0.974175\n",
      "    val_accuracy: 0.920530\n",
      "    val_balanced_accuracy: 0.920352\n",
      "    train_roc_auc: 1.000000\n",
      "    type: random_forest\n",
      "    total_elapsed_time: 00:34\n",
      "[CaTabRa] New model #19 trained:\n",
      "    val_roc_auc: 0.981877\n",
      "    val_accuracy: 0.933775\n",
      "    val_balanced_accuracy: 0.934034\n",
      "    train_roc_auc: 0.999955\n",
      "    type: random_forest\n",
      "    total_elapsed_time: 00:35\n",
      "[CaTabRa] New ensemble fitted:\n",
      "    ensemble_val_roc_auc: 0.998007\n",
      "    n_constituent_models: 3\n",
      "    total_elapsed_time: 00:37\n",
      "[CaTabRa] New model #20 trained:\n",
      "    val_roc_auc: 0.987767\n",
      "    val_accuracy: 0.960265\n",
      "    val_balanced_accuracy: 0.956506\n",
      "    train_roc_auc: 1.000000\n",
      "    type: mlp\n",
      "    total_elapsed_time: 00:37\n",
      "[CaTabRa] New model #21 trained:\n",
      "    val_roc_auc: 0.876858\n",
      "    val_accuracy: 0.880795\n",
      "    val_balanced_accuracy: 0.876858\n",
      "    train_roc_auc: 1.000000\n",
      "    type: k_nearest_neighbors\n",
      "    total_elapsed_time: 00:37\n",
      "[CaTabRa] New ensemble fitted:\n",
      "    ensemble_val_roc_auc: 0.998007\n",
      "    n_constituent_models: 3\n",
      "    total_elapsed_time: 00:38\n",
      "[CaTabRa] New model #22 trained:\n",
      "    val_roc_auc: 0.988039\n",
      "    val_accuracy: 0.960265\n",
      "    val_balanced_accuracy: 0.956506\n",
      "    train_roc_auc: 1.000000\n",
      "    type: gradient_boosting\n",
      "    total_elapsed_time: 00:38\n",
      "[CaTabRa] New model #23 trained:\n",
      "    val_roc_auc: 0.982331\n",
      "    val_accuracy: 0.913907\n",
      "    val_balanced_accuracy: 0.914734\n",
      "    train_roc_auc: 1.000000\n",
      "    type: random_forest\n",
      "    total_elapsed_time: 00:40\n",
      "[CaTabRa] New ensemble fitted:\n",
      "    ensemble_val_roc_auc: 0.998007\n",
      "    n_constituent_models: 3\n",
      "    total_elapsed_time: 00:41\n",
      "[CaTabRa] New model #24 trained:\n",
      "    val_roc_auc: 0.990395\n",
      "    val_accuracy: 0.960265\n",
      "    val_balanced_accuracy: 0.956506\n",
      "    train_roc_auc: 1.000000\n",
      "    type: gradient_boosting\n",
      "    total_elapsed_time: 00:41\n",
      "[CaTabRa] New ensemble fitted:\n",
      "    ensemble_val_roc_auc: 0.998007\n",
      "    n_constituent_models: 3\n",
      "    total_elapsed_time: 00:45\n",
      "[CaTabRa] New model #25 trained:\n",
      "    val_roc_auc: 0.993838\n",
      "    val_accuracy: 0.933775\n",
      "    val_balanced_accuracy: 0.941374\n",
      "    train_roc_auc: 0.997995\n",
      "    type: passive_aggressive\n",
      "    total_elapsed_time: 00:44\n",
      "[CaTabRa] New ensemble fitted:\n",
      "    ensemble_val_roc_auc: 0.998007\n",
      "    n_constituent_models: 3\n",
      "    total_elapsed_time: 00:48\n",
      "[CaTabRa] New model #26 trained:\n",
      "    val_roc_auc: 0.993295\n",
      "    val_accuracy: 0.947020\n",
      "    val_balanced_accuracy: 0.947717\n",
      "    train_roc_auc: 0.994386\n",
      "    type: passive_aggressive\n",
      "    total_elapsed_time: 00:48\n",
      "[CaTabRa] New model #27 trained:\n",
      "    val_roc_auc: 0.942008\n",
      "    val_accuracy: 0.741722\n",
      "    val_balanced_accuracy: 0.776006\n",
      "    train_roc_auc: 0.971039\n",
      "    type: mlp\n",
      "    total_elapsed_time: 00:52\n"
     ]
    },
    {
     "name": "stdout",
     "output_type": "stream",
     "text": [
      "[CaTabRa] Final training statistics:\n",
      "    n_models_trained: 27\n",
      "    ensemble_val_roc_auc: 0.9980065241029358\n",
      "[CaTabRa] Creating shap explainer\n",
      "[CaTabRa] Initialized out-of-distribution detector of type Autoencoder\n",
      "[CaTabRa] Fitting out-of-distribution detector...\n",
      "Iteration 1, loss = 0.06144245\n",
      "Iteration 2, loss = 0.03573245\n",
      "Iteration 3, loss = 0.02387765\n",
      "Iteration 4, loss = 0.01656007\n",
      "Iteration 5, loss = 0.01310687\n",
      "Iteration 6, loss = 0.01272642\n",
      "Iteration 7, loss = 0.01284678\n",
      "Iteration 8, loss = 0.01251137\n",
      "Iteration 9, loss = 0.01204069\n",
      "Iteration 10, loss = 0.01171716\n",
      "Iteration 11, loss = 0.01147114\n",
      "Iteration 12, loss = 0.01138949\n",
      "Iteration 13, loss = 0.01136117\n",
      "Iteration 14, loss = 0.01135147\n",
      "Iteration 15, loss = 0.01131822\n",
      "Iteration 16, loss = 0.01131514\n",
      "Iteration 17, loss = 0.01125710\n",
      "Iteration 18, loss = 0.01125870\n",
      "Iteration 19, loss = 0.01128076\n",
      "Iteration 20, loss = 0.01125129\n",
      "Iteration 21, loss = 0.01124904\n",
      "Iteration 22, loss = 0.01129953\n",
      "Iteration 23, loss = 0.01122279\n",
      "Iteration 24, loss = 0.01126488\n",
      "Iteration 25, loss = 0.01124195\n",
      "Iteration 26, loss = 0.01122252\n",
      "Iteration 27, loss = 0.01120543\n",
      "Iteration 28, loss = 0.01119768\n",
      "Iteration 29, loss = 0.01119269\n",
      "Iteration 30, loss = 0.01120903\n",
      "Iteration 31, loss = 0.01121219\n",
      "Iteration 32, loss = 0.01121684\n",
      "Iteration 33, loss = 0.01120814\n",
      "Iteration 34, loss = 0.01123479\n",
      "Iteration 35, loss = 0.01124428\n",
      "Iteration 36, loss = 0.01120375\n",
      "Iteration 37, loss = 0.01122215\n",
      "Iteration 38, loss = 0.01121801\n",
      "Iteration 39, loss = 0.01120889\n",
      "Iteration 40, loss = 0.01122065\n",
      "Iteration 41, loss = 0.01118199\n",
      "Iteration 42, loss = 0.01122323\n",
      "Iteration 43, loss = 0.01121193\n",
      "Iteration 44, loss = 0.01119038\n",
      "Iteration 45, loss = 0.01119951\n",
      "Iteration 46, loss = 0.01120481\n",
      "Iteration 47, loss = 0.01122539\n",
      "Iteration 48, loss = 0.01119250\n",
      "Iteration 49, loss = 0.01120633\n",
      "Iteration 50, loss = 0.01120499\n",
      "Iteration 51, loss = 0.01121132\n",
      "Iteration 52, loss = 0.01121128\n",
      "Iteration 53, loss = 0.01123849\n",
      "Iteration 54, loss = 0.01120145\n",
      "Iteration 55, loss = 0.01130458\n",
      "Iteration 56, loss = 0.01122405\n",
      "Iteration 57, loss = 0.01123790\n",
      "Iteration 58, loss = 0.01123574\n",
      "Iteration 59, loss = 0.01124157\n",
      "Iteration 60, loss = 0.01123827\n",
      "Iteration 61, loss = 0.01119944\n",
      "Iteration 62, loss = 0.01125989\n",
      "Training loss did not improve more than tol=0.000100 for 50 consecutive epochs. Stopping.\n",
      "[CaTabRa] Out-of-distribution detector fitted.\n",
      "[CaTabRa] ### Analysis finished at 2023-02-07 16:35:50.957281\n",
      "[CaTabRa] ### Elapsed time: 0 days 00:01:01.433573\n",
      "[CaTabRa] ### Output saved in /mnt/c/Users/amaletzk/Documents/CaTabRa/catabra/examples/plotting_example\n",
      "[CaTabRa] ### Evaluation started at 2023-02-07 16:35:50.959915\n",
      "[CaTabRa] Predicting out-of-distribution samples.\n",
      "[CaTabRa] Saving descriptive statistics completed\n",
      "[CaTabRa] Saving descriptive statistics completed\n",
      "[CaTabRa] Evaluation results for train:\n",
      "    roc_auc: 0.9973715651135006\n",
      "    accuracy @ 0.5: 0.9736842105263158\n",
      "    balanced_accuracy @ 0.5: 0.96857825567503\n",
      "[CaTabRa] Evaluation results for not_train:\n",
      "    roc_auc: 0.9986737400530503\n",
      "    accuracy @ 0.5: 0.9734513274336283\n",
      "    balanced_accuracy @ 0.5: 0.95579133510168\n",
      "[CaTabRa] ### Evaluation finished at 2023-02-07 16:35:56.075696\n",
      "[CaTabRa] ### Elapsed time: 0 days 00:00:05.115781\n",
      "[CaTabRa] ### Output saved in /mnt/c/Users/amaletzk/Documents/CaTabRa/catabra/examples/plotting_example/eval\n"
     ]
    }
   ],
   "source": [
    "analyze(\n",
    "    X,\n",
    "    classify='diagnosis',     # name of column containing classification target\n",
    "    split='train',            # name of column containing information about the train-test split (optional)\n",
    "    time=1,                   # time budget for hyperparameter tuning, in minutes (optional)\n",
    "    out='plotting_example',\n",
    "    config={\n",
    "        'static_plots': True,         # whether to create static plots; True by default\n",
    "        'interactive_plots': True     # whether to create interactive plots; False by default\n",
    "    }\n",
    ")"
   ]
  },
  {
   "cell_type": "markdown",
   "id": "61563ba7",
   "metadata": {},
   "source": [
    "Looking at `eval/train/` and `eval/not_train/` you will now find folders `static_plots` (as before), but also `interactive_plots`. The latter contain HTML files with plotly-generated interactive plots that can be viewed in any modern browser."
   ]
  },
  {
   "cell_type": "markdown",
   "id": "5b93bc1c",
   "metadata": {},
   "source": [
    "In addition, it is also possible to create interactive plots directly in Python. Continuing the example from above, all we have to do is pass `interactive=True` to function `plot_results()`:"
   ]
  },
  {
   "cell_type": "code",
   "execution_count": 33,
   "id": "d88d4f6f",
   "metadata": {},
   "outputs": [],
   "source": [
    "figures = plot_results(\n",
    "    loader.path / 'eval/not_train/predictions.xlsx',    # table with predictions for all samples\n",
    "    loader.path / 'eval/not_train/metrics.xlsx',        # table with performance metrics\n",
    "    loader.get_encoder(),                               # data encoder\n",
    "    interactive=True\n",
    ")"
   ]
  },
  {
   "cell_type": "markdown",
   "id": "c9da86ab",
   "metadata": {},
   "source": [
    "The output is again a dict mapping keys to figures, but this time the figures are plotly figure instances:"
   ]
  },
  {
   "cell_type": "code",
   "execution_count": 36,
   "id": "69b2ff5c",
   "metadata": {},
   "outputs": [
    {
     "data": {
      "application/vnd.plotly.v1+json": {
       "config": {
        "plotlyServerURL": "https://plot.ly"
       },
       "data": [
        {
         "mode": "lines",
         "name": "accuracy",
         "type": "scatter",
         "x": [
          0.1152891938016723,
          0.1825273187532008,
          0.2029527530006023,
          0.207947339191418,
          0.2279113961612721,
          0.2327077484241897,
          0.2330895290073286,
          0.2439763489302005,
          0.2639147649785468,
          0.2661451604601734,
          0.2798837331258509,
          0.2863206076365292,
          0.3120771994974401,
          0.3129560707111369,
          0.333430480308182,
          0.3381630168339357,
          0.3462717347207301,
          0.355230258994518,
          0.3684886946226528,
          0.4129195310937998,
          0.4687041024167086,
          0.48166650812259,
          0.5,
          0.5059081615630128,
          0.5276127749898563,
          0.5322302158723882,
          0.5343428909154652,
          0.5461594198630665,
          0.5607868517244157,
          0.5631530827293773,
          0.5651105902496346,
          0.5706703426517512,
          0.5738157960223651,
          0.5765955188814179,
          0.5769194054597603,
          0.5770102899996197,
          0.5918906043334035,
          0.592565843068784,
          0.5937930907602689,
          0.5938806909378277,
          0.5978664557391414,
          0.6064476617100878,
          0.6066997859947109,
          0.6147938777965302,
          0.6196003907183631,
          0.6200620157231248,
          0.6283498280258885,
          0.6284697747225503,
          0.6307371943439084,
          0.631647910552203,
          0.6317236672220649,
          0.6369022989764154,
          0.6374981865796525,
          0.6407014055497083,
          0.6464734399579306,
          0.6476907923521473,
          0.6477289453300966,
          0.648642159944279,
          0.6489215510418462,
          0.6572761338581896,
          0.659612820914035,
          0.6605891118710295,
          0.6608971039101104,
          0.6676195520233097,
          0.6685348429299085,
          0.6723425583219644,
          0.6756129147547327,
          0.6764499145830786,
          0.6777650649060538,
          0.6850828342925811,
          0.6881431347537696,
          0.6896323903400887,
          0.6968033678504582,
          0.6992361348015192,
          0.7003439202996299,
          0.7126769136692737,
          0.7148402875803819,
          0.7159469943319843,
          0.7248876934147299,
          0.7262483612775378,
          0.7329790846708019,
          0.7384411070201018,
          0.7398578884389047,
          0.742095997795156,
          0.7440857775416375,
          0.7446620044268758,
          0.7476524410611718,
          0.7522758626400623,
          0.7543183175439575,
          0.7563957429732595,
          0.7564089438806071,
          0.7566283374124755,
          0.7609251070905828,
          0.7721834579814553,
          0.772627150833098,
          0.7778751396691707,
          0.7794836636089394,
          0.7863968429556254,
          0.7920066508881259,
          0.7927994611280766,
          0.7953705973962644,
          1
         ],
         "y": [
          0.7699115044247787,
          0.7787610619469026,
          0.7876106194690266,
          0.7964601769911505,
          0.8141592920353983,
          0.8230088495575221,
          0.831858407079646,
          0.8407079646017699,
          0.8495575221238938,
          0.8584070796460177,
          0.8672566371681416,
          0.8761061946902655,
          0.8938053097345132,
          0.9026548672566371,
          0.911504424778761,
          0.9203539823008849,
          0.9292035398230089,
          0.9380530973451328,
          0.9469026548672567,
          0.9557522123893806,
          0.9734513274336283,
          0.9646017699115044,
          0.9734513274336283,
          0.9734513274336283,
          0.9823008849557522,
          0.9911504424778761,
          0.9823008849557522,
          0.9734513274336283,
          0.9557522123893806,
          0.9469026548672567,
          0.9380530973451328,
          0.9292035398230089,
          0.9203539823008849,
          0.911504424778761,
          0.9026548672566371,
          0.8938053097345132,
          0.8761061946902655,
          0.8672566371681416,
          0.8584070796460177,
          0.8495575221238938,
          0.8407079646017699,
          0.831858407079646,
          0.8230088495575221,
          0.8053097345132744,
          0.7964601769911505,
          0.7876106194690266,
          0.7787610619469026,
          0.7699115044247787,
          0.7610619469026548,
          0.7522123893805309,
          0.7433628318584071,
          0.7256637168141593,
          0.7168141592920354,
          0.7079646017699115,
          0.6991150442477876,
          0.6902654867256637,
          0.6814159292035398,
          0.672566371681416,
          0.6637168141592921,
          0.6460176991150443,
          0.6371681415929203,
          0.6283185840707964,
          0.6194690265486725,
          0.6106194690265486,
          0.6017699115044248,
          0.5929203539823009,
          0.5752212389380531,
          0.5663716814159292,
          0.5575221238938053,
          0.5486725663716814,
          0.5398230088495575,
          0.5309734513274337,
          0.5221238938053098,
          0.5132743362831859,
          0.495575221238938,
          0.4867256637168141,
          0.4778761061946903,
          0.4690265486725664,
          0.4601769911504425,
          0.4513274336283186,
          0.4424778761061947,
          0.4247787610619469,
          0.415929203539823,
          0.4070796460176991,
          0.3982300884955752,
          0.3893805309734513,
          0.3805309734513274,
          0.3716814159292036,
          0.3628318584070797,
          0.3451327433628318,
          0.336283185840708,
          0.3274336283185841,
          0.3185840707964602,
          0.3097345132743363,
          0.3008849557522124,
          0.2920353982300885,
          0.2831858407079646,
          0.2654867256637168,
          0.2566371681415929,
          0.247787610619469,
          0.2389380530973451,
          0.2300884955752212
         ]
        },
        {
         "mode": "lines",
         "name": "balanced_accuracy",
         "type": "scatter",
         "x": [
          0.1152891938016723,
          0.1825273187532008,
          0.2029527530006023,
          0.207947339191418,
          0.2279113961612721,
          0.2327077484241897,
          0.2330895290073286,
          0.2439763489302005,
          0.2639147649785468,
          0.2661451604601734,
          0.2798837331258509,
          0.2863206076365292,
          0.3120771994974401,
          0.3129560707111369,
          0.333430480308182,
          0.3381630168339357,
          0.3462717347207301,
          0.355230258994518,
          0.3684886946226528,
          0.4129195310937998,
          0.4687041024167086,
          0.48166650812259,
          0.5,
          0.5059081615630128,
          0.5276127749898563,
          0.5322302158723882,
          0.5343428909154652,
          0.5461594198630665,
          0.5607868517244157,
          0.5631530827293773,
          0.5651105902496346,
          0.5706703426517512,
          0.5738157960223651,
          0.5765955188814179,
          0.5769194054597603,
          0.5770102899996197,
          0.5918906043334035,
          0.592565843068784,
          0.5937930907602689,
          0.5938806909378277,
          0.5978664557391414,
          0.6064476617100878,
          0.6066997859947109,
          0.6147938777965302,
          0.6196003907183631,
          0.6200620157231248,
          0.6283498280258885,
          0.6284697747225503,
          0.6307371943439084,
          0.631647910552203,
          0.6317236672220649,
          0.6369022989764154,
          0.6374981865796525,
          0.6407014055497083,
          0.6464734399579306,
          0.6476907923521473,
          0.6477289453300966,
          0.648642159944279,
          0.6489215510418462,
          0.6572761338581896,
          0.659612820914035,
          0.6605891118710295,
          0.6608971039101104,
          0.6676195520233097,
          0.6685348429299085,
          0.6723425583219644,
          0.6756129147547327,
          0.6764499145830786,
          0.6777650649060538,
          0.6850828342925811,
          0.6881431347537696,
          0.6896323903400887,
          0.6968033678504582,
          0.6992361348015192,
          0.7003439202996299,
          0.7126769136692737,
          0.7148402875803819,
          0.7159469943319843,
          0.7248876934147299,
          0.7262483612775378,
          0.7329790846708019,
          0.7384411070201018,
          0.7398578884389047,
          0.742095997795156,
          0.7440857775416375,
          0.7446620044268758,
          0.7476524410611718,
          0.7522758626400623,
          0.7543183175439575,
          0.7563957429732595,
          0.7564089438806071,
          0.7566283374124755,
          0.7609251070905828,
          0.7721834579814553,
          0.772627150833098,
          0.7778751396691707,
          0.7794836636089394,
          0.7863968429556254,
          0.7920066508881259,
          0.7927994611280766,
          0.7953705973962644,
          1
         ],
         "y": [
          0.5,
          0.5192307692307693,
          0.5384615384615384,
          0.5576923076923077,
          0.5961538461538461,
          0.6153846153846154,
          0.6346153846153846,
          0.6538461538461539,
          0.6730769230769231,
          0.6923076923076923,
          0.7115384615384616,
          0.7307692307692308,
          0.7692307692307692,
          0.7884615384615384,
          0.8076923076923077,
          0.8269230769230769,
          0.8461538461538461,
          0.8653846153846154,
          0.8846153846153846,
          0.9038461538461539,
          0.9423076923076923,
          0.9365605658709106,
          0.95579133510168,
          0.95579133510168,
          0.9750221043324492,
          0.9942528735632183,
          0.9885057471264368,
          0.9827586206896552,
          0.9712643678160919,
          0.9655172413793103,
          0.9597701149425287,
          0.9540229885057472,
          0.9482758620689655,
          0.9425287356321839,
          0.9367816091954023,
          0.9310344827586207,
          0.9195402298850575,
          0.9137931034482758,
          0.9080459770114943,
          0.9022988505747127,
          0.896551724137931,
          0.8908045977011494,
          0.8850574712643677,
          0.8735632183908046,
          0.867816091954023,
          0.8620689655172413,
          0.8563218390804598,
          0.8505747126436782,
          0.8448275862068966,
          0.8390804597701149,
          0.8333333333333333,
          0.8218390804597702,
          0.8160919540229885,
          0.8103448275862069,
          0.8045977011494253,
          0.7988505747126438,
          0.7931034482758621,
          0.7873563218390804,
          0.7816091954022988,
          0.7701149425287357,
          0.764367816091954,
          0.7586206896551724,
          0.7528735632183908,
          0.7471264367816092,
          0.7413793103448276,
          0.735632183908046,
          0.7241379310344828,
          0.7183908045977012,
          0.7126436781609196,
          0.7068965517241379,
          0.7011494252873564,
          0.6954022988505747,
          0.6896551724137931,
          0.6839080459770115,
          0.6724137931034483,
          0.6666666666666666,
          0.6609195402298851,
          0.6551724137931034,
          0.6494252873563219,
          0.6436781609195402,
          0.6379310344827587,
          0.6264367816091954,
          0.6206896551724138,
          0.6149425287356322,
          0.6091954022988506,
          0.603448275862069,
          0.5977011494252874,
          0.5919540229885057,
          0.5862068965517242,
          0.5747126436781609,
          0.5689655172413793,
          0.5632183908045977,
          0.5574712643678161,
          0.5517241379310345,
          0.5459770114942528,
          0.5402298850574713,
          0.5344827586206896,
          0.5229885057471264,
          0.5172413793103449,
          0.5114942528735632,
          0.5057471264367817,
          0.5
         ]
        },
        {
         "mode": "lines",
         "name": "f1",
         "type": "scatter",
         "x": [
          0.1152891938016723,
          0.1825273187532008,
          0.2029527530006023,
          0.207947339191418,
          0.2279113961612721,
          0.2327077484241897,
          0.2330895290073286,
          0.2439763489302005,
          0.2639147649785468,
          0.2661451604601734,
          0.2798837331258509,
          0.2863206076365292,
          0.3120771994974401,
          0.3129560707111369,
          0.333430480308182,
          0.3381630168339357,
          0.3462717347207301,
          0.355230258994518,
          0.3684886946226528,
          0.4129195310937998,
          0.4687041024167086,
          0.48166650812259,
          0.5,
          0.5059081615630128,
          0.5276127749898563,
          0.5322302158723882,
          0.5343428909154652,
          0.5461594198630665,
          0.5607868517244157,
          0.5631530827293773,
          0.5651105902496346,
          0.5706703426517512,
          0.5738157960223651,
          0.5765955188814179,
          0.5769194054597603,
          0.5770102899996197,
          0.5918906043334035,
          0.592565843068784,
          0.5937930907602689,
          0.5938806909378277,
          0.5978664557391414,
          0.6064476617100878,
          0.6066997859947109,
          0.6147938777965302,
          0.6196003907183631,
          0.6200620157231248,
          0.6283498280258885,
          0.6284697747225503,
          0.6307371943439084,
          0.631647910552203,
          0.6317236672220649,
          0.6369022989764154,
          0.6374981865796525,
          0.6407014055497083,
          0.6464734399579306,
          0.6476907923521473,
          0.6477289453300966,
          0.648642159944279,
          0.6489215510418462,
          0.6572761338581896,
          0.659612820914035,
          0.6605891118710295,
          0.6608971039101104,
          0.6676195520233097,
          0.6685348429299085,
          0.6723425583219644,
          0.6756129147547327,
          0.6764499145830786,
          0.6777650649060538,
          0.6850828342925811,
          0.6881431347537696,
          0.6896323903400887,
          0.6968033678504582,
          0.6992361348015192,
          0.7003439202996299,
          0.7126769136692737,
          0.7148402875803819,
          0.7159469943319843,
          0.7248876934147299,
          0.7262483612775378,
          0.7329790846708019,
          0.7384411070201018,
          0.7398578884389047,
          0.742095997795156,
          0.7440857775416375,
          0.7446620044268758,
          0.7476524410611718,
          0.7522758626400623,
          0.7543183175439575,
          0.7563957429732595,
          0.7564089438806071,
          0.7566283374124755,
          0.7609251070905828,
          0.7721834579814553,
          0.772627150833098,
          0.7778751396691707,
          0.7794836636089394,
          0.7863968429556254,
          0.7920066508881259,
          0.7927994611280766,
          0.7953705973962644,
          1
         ],
         "y": [
          0.87,
          0.8743718592964824,
          0.8787878787878788,
          0.883248730964467,
          0.8923076923076924,
          0.8969072164948454,
          0.9015544041450777,
          0.90625,
          0.9109947643979057,
          0.9157894736842105,
          0.9206349206349206,
          0.925531914893617,
          0.9354838709677419,
          0.9405405405405406,
          0.9456521739130435,
          0.9508196721311475,
          0.9560439560439561,
          0.9613259668508287,
          0.9666666666666667,
          0.9720670391061452,
          0.9830508474576272,
          0.9772727272727273,
          0.9828571428571429,
          0.9828571428571429,
          0.9885057471264368,
          0.9942196531791907,
          0.9883720930232558,
          0.9824561403508771,
          0.9704142011834319,
          0.9642857142857143,
          0.9580838323353293,
          0.9518072289156626,
          0.9454545454545454,
          0.9390243902439024,
          0.9325153374233128,
          0.9259259259259259,
          0.9125,
          0.9056603773584906,
          0.8987341772151899,
          0.89171974522293,
          0.8846153846153846,
          0.8774193548387097,
          0.8701298701298701,
          0.8552631578947368,
          0.847682119205298,
          0.84,
          0.8322147651006712,
          0.8243243243243243,
          0.8163265306122449,
          0.8082191780821918,
          0.8,
          0.7832167832167832,
          0.7746478873239436,
          0.7659574468085106,
          0.7571428571428571,
          0.7482014388489209,
          0.7391304347826086,
          0.7299270072992701,
          0.7205882352941176,
          0.7014925373134329,
          0.6917293233082706,
          0.6818181818181818,
          0.6717557251908397,
          0.6615384615384615,
          0.6511627906976745,
          0.640625,
          0.6190476190476191,
          0.608,
          0.5967741935483871,
          0.5853658536585366,
          0.5737704918032787,
          0.5619834710743802,
          0.55,
          0.5378151260504201,
          0.5128205128205128,
          0.5,
          0.4869565217391305,
          0.4736842105263158,
          0.4601769911504425,
          0.4464285714285715,
          0.4324324324324325,
          0.4036697247706422,
          0.3888888888888889,
          0.3738317757009346,
          0.3584905660377358,
          0.3428571428571429,
          0.3269230769230769,
          0.3106796116504854,
          0.2941176470588235,
          0.26,
          0.2424242424242424,
          0.2244897959183673,
          0.2061855670103093,
          0.1875,
          0.1684210526315789,
          0.148936170212766,
          0.1290322580645161,
          0.08791208791208792,
          0.06666666666666667,
          0.0449438202247191,
          0.02272727272727273,
          0
         ]
        },
        {
         "mode": "lines",
         "name": "sensitivity",
         "type": "scatter",
         "x": [
          0.1152891938016723,
          0.1825273187532008,
          0.2029527530006023,
          0.207947339191418,
          0.2279113961612721,
          0.2327077484241897,
          0.2330895290073286,
          0.2439763489302005,
          0.2639147649785468,
          0.2661451604601734,
          0.2798837331258509,
          0.2863206076365292,
          0.3120771994974401,
          0.3129560707111369,
          0.333430480308182,
          0.3381630168339357,
          0.3462717347207301,
          0.355230258994518,
          0.3684886946226528,
          0.4129195310937998,
          0.4687041024167086,
          0.48166650812259,
          0.5,
          0.5059081615630128,
          0.5276127749898563,
          0.5322302158723882,
          0.5343428909154652,
          0.5461594198630665,
          0.5607868517244157,
          0.5631530827293773,
          0.5651105902496346,
          0.5706703426517512,
          0.5738157960223651,
          0.5765955188814179,
          0.5769194054597603,
          0.5770102899996197,
          0.5918906043334035,
          0.592565843068784,
          0.5937930907602689,
          0.5938806909378277,
          0.5978664557391414,
          0.6064476617100878,
          0.6066997859947109,
          0.6147938777965302,
          0.6196003907183631,
          0.6200620157231248,
          0.6283498280258885,
          0.6284697747225503,
          0.6307371943439084,
          0.631647910552203,
          0.6317236672220649,
          0.6369022989764154,
          0.6374981865796525,
          0.6407014055497083,
          0.6464734399579306,
          0.6476907923521473,
          0.6477289453300966,
          0.648642159944279,
          0.6489215510418462,
          0.6572761338581896,
          0.659612820914035,
          0.6605891118710295,
          0.6608971039101104,
          0.6676195520233097,
          0.6685348429299085,
          0.6723425583219644,
          0.6756129147547327,
          0.6764499145830786,
          0.6777650649060538,
          0.6850828342925811,
          0.6881431347537696,
          0.6896323903400887,
          0.6968033678504582,
          0.6992361348015192,
          0.7003439202996299,
          0.7126769136692737,
          0.7148402875803819,
          0.7159469943319843,
          0.7248876934147299,
          0.7262483612775378,
          0.7329790846708019,
          0.7384411070201018,
          0.7398578884389047,
          0.742095997795156,
          0.7440857775416375,
          0.7446620044268758,
          0.7476524410611718,
          0.7522758626400623,
          0.7543183175439575,
          0.7563957429732595,
          0.7564089438806071,
          0.7566283374124755,
          0.7609251070905828,
          0.7721834579814553,
          0.772627150833098,
          0.7778751396691707,
          0.7794836636089394,
          0.7863968429556254,
          0.7920066508881259,
          0.7927994611280766,
          0.7953705973962644,
          1
         ],
         "y": [
          1,
          1,
          1,
          1,
          1,
          1,
          1,
          1,
          1,
          1,
          1,
          1,
          1,
          1,
          1,
          1,
          1,
          1,
          1,
          1,
          1,
          0.9885057471264368,
          0.9885057471264368,
          0.9885057471264368,
          0.9885057471264368,
          0.9885057471264368,
          0.9770114942528736,
          0.9655172413793104,
          0.9425287356321839,
          0.9310344827586207,
          0.9195402298850575,
          0.9080459770114943,
          0.896551724137931,
          0.8850574712643678,
          0.8735632183908046,
          0.8620689655172413,
          0.8390804597701149,
          0.8275862068965517,
          0.8160919540229885,
          0.8045977011494253,
          0.7931034482758621,
          0.7816091954022989,
          0.7701149425287356,
          0.7471264367816092,
          0.735632183908046,
          0.7241379310344828,
          0.7126436781609196,
          0.7011494252873564,
          0.6896551724137931,
          0.6781609195402298,
          0.6666666666666666,
          0.6436781609195402,
          0.632183908045977,
          0.6206896551724138,
          0.6091954022988506,
          0.5977011494252874,
          0.5862068965517241,
          0.5747126436781609,
          0.5632183908045977,
          0.5402298850574713,
          0.5287356321839081,
          0.5172413793103449,
          0.5057471264367817,
          0.4942528735632184,
          0.4827586206896552,
          0.4712643678160919,
          0.4482758620689655,
          0.4367816091954023,
          0.4252873563218391,
          0.4137931034482759,
          0.4022988505747127,
          0.3908045977011494,
          0.3793103448275862,
          0.367816091954023,
          0.3448275862068966,
          0.3333333333333333,
          0.3218390804597701,
          0.3103448275862069,
          0.2988505747126437,
          0.2873563218390804,
          0.2758620689655172,
          0.2528735632183908,
          0.2413793103448276,
          0.2298850574712644,
          0.2183908045977012,
          0.2068965517241379,
          0.1954022988505747,
          0.1839080459770115,
          0.1724137931034483,
          0.1494252873563219,
          0.1379310344827586,
          0.1264367816091954,
          0.1149425287356322,
          0.103448275862069,
          0.09195402298850575,
          0.08045977011494253,
          0.06896551724137931,
          0.04597701149425287,
          0.03448275862068965,
          0.02298850574712644,
          0.01149425287356322,
          0
         ]
        },
        {
         "mode": "lines",
         "name": "specificity",
         "type": "scatter",
         "x": [
          0.1152891938016723,
          0.1825273187532008,
          0.2029527530006023,
          0.207947339191418,
          0.2279113961612721,
          0.2327077484241897,
          0.2330895290073286,
          0.2439763489302005,
          0.2639147649785468,
          0.2661451604601734,
          0.2798837331258509,
          0.2863206076365292,
          0.3120771994974401,
          0.3129560707111369,
          0.333430480308182,
          0.3381630168339357,
          0.3462717347207301,
          0.355230258994518,
          0.3684886946226528,
          0.4129195310937998,
          0.4687041024167086,
          0.48166650812259,
          0.5,
          0.5059081615630128,
          0.5276127749898563,
          0.5322302158723882,
          0.5343428909154652,
          0.5461594198630665,
          0.5607868517244157,
          0.5631530827293773,
          0.5651105902496346,
          0.5706703426517512,
          0.5738157960223651,
          0.5765955188814179,
          0.5769194054597603,
          0.5770102899996197,
          0.5918906043334035,
          0.592565843068784,
          0.5937930907602689,
          0.5938806909378277,
          0.5978664557391414,
          0.6064476617100878,
          0.6066997859947109,
          0.6147938777965302,
          0.6196003907183631,
          0.6200620157231248,
          0.6283498280258885,
          0.6284697747225503,
          0.6307371943439084,
          0.631647910552203,
          0.6317236672220649,
          0.6369022989764154,
          0.6374981865796525,
          0.6407014055497083,
          0.6464734399579306,
          0.6476907923521473,
          0.6477289453300966,
          0.648642159944279,
          0.6489215510418462,
          0.6572761338581896,
          0.659612820914035,
          0.6605891118710295,
          0.6608971039101104,
          0.6676195520233097,
          0.6685348429299085,
          0.6723425583219644,
          0.6756129147547327,
          0.6764499145830786,
          0.6777650649060538,
          0.6850828342925811,
          0.6881431347537696,
          0.6896323903400887,
          0.6968033678504582,
          0.6992361348015192,
          0.7003439202996299,
          0.7126769136692737,
          0.7148402875803819,
          0.7159469943319843,
          0.7248876934147299,
          0.7262483612775378,
          0.7329790846708019,
          0.7384411070201018,
          0.7398578884389047,
          0.742095997795156,
          0.7440857775416375,
          0.7446620044268758,
          0.7476524410611718,
          0.7522758626400623,
          0.7543183175439575,
          0.7563957429732595,
          0.7564089438806071,
          0.7566283374124755,
          0.7609251070905828,
          0.7721834579814553,
          0.772627150833098,
          0.7778751396691707,
          0.7794836636089394,
          0.7863968429556254,
          0.7920066508881259,
          0.7927994611280766,
          0.7953705973962644,
          1
         ],
         "y": [
          0,
          0.03846153846153846,
          0.07692307692307693,
          0.1153846153846154,
          0.1923076923076923,
          0.2307692307692308,
          0.2692307692307692,
          0.3076923076923077,
          0.3461538461538461,
          0.3846153846153846,
          0.4230769230769231,
          0.4615384615384616,
          0.5384615384615384,
          0.5769230769230769,
          0.6153846153846154,
          0.6538461538461539,
          0.6923076923076923,
          0.7307692307692307,
          0.7692307692307693,
          0.8076923076923077,
          0.8846153846153846,
          0.8846153846153846,
          0.9230769230769231,
          0.9230769230769231,
          0.9615384615384616,
          1,
          1,
          1,
          1,
          1,
          1,
          1,
          1,
          1,
          1,
          1,
          1,
          1,
          1,
          1,
          1,
          1,
          1,
          1,
          1,
          1,
          1,
          1,
          1,
          1,
          1,
          1,
          1,
          1,
          1,
          1,
          1,
          1,
          1,
          1,
          1,
          1,
          1,
          1,
          1,
          1,
          1,
          1,
          1,
          1,
          1,
          1,
          1,
          1,
          1,
          1,
          1,
          1,
          1,
          1,
          1,
          1,
          1,
          1,
          1,
          1,
          1,
          1,
          1,
          1,
          1,
          1,
          1,
          1,
          1,
          1,
          1,
          1,
          1,
          1,
          1,
          1
         ]
        },
        {
         "mode": "lines",
         "name": "positive_predictive_value",
         "type": "scatter",
         "x": [
          0.1152891938016723,
          0.1825273187532008,
          0.2029527530006023,
          0.207947339191418,
          0.2279113961612721,
          0.2327077484241897,
          0.2330895290073286,
          0.2439763489302005,
          0.2639147649785468,
          0.2661451604601734,
          0.2798837331258509,
          0.2863206076365292,
          0.3120771994974401,
          0.3129560707111369,
          0.333430480308182,
          0.3381630168339357,
          0.3462717347207301,
          0.355230258994518,
          0.3684886946226528,
          0.4129195310937998,
          0.4687041024167086,
          0.48166650812259,
          0.5,
          0.5059081615630128,
          0.5276127749898563,
          0.5322302158723882,
          0.5343428909154652,
          0.5461594198630665,
          0.5607868517244157,
          0.5631530827293773,
          0.5651105902496346,
          0.5706703426517512,
          0.5738157960223651,
          0.5765955188814179,
          0.5769194054597603,
          0.5770102899996197,
          0.5918906043334035,
          0.592565843068784,
          0.5937930907602689,
          0.5938806909378277,
          0.5978664557391414,
          0.6064476617100878,
          0.6066997859947109,
          0.6147938777965302,
          0.6196003907183631,
          0.6200620157231248,
          0.6283498280258885,
          0.6284697747225503,
          0.6307371943439084,
          0.631647910552203,
          0.6317236672220649,
          0.6369022989764154,
          0.6374981865796525,
          0.6407014055497083,
          0.6464734399579306,
          0.6476907923521473,
          0.6477289453300966,
          0.648642159944279,
          0.6489215510418462,
          0.6572761338581896,
          0.659612820914035,
          0.6605891118710295,
          0.6608971039101104,
          0.6676195520233097,
          0.6685348429299085,
          0.6723425583219644,
          0.6756129147547327,
          0.6764499145830786,
          0.6777650649060538,
          0.6850828342925811,
          0.6881431347537696,
          0.6896323903400887,
          0.6968033678504582,
          0.6992361348015192,
          0.7003439202996299,
          0.7126769136692737,
          0.7148402875803819,
          0.7159469943319843,
          0.7248876934147299,
          0.7262483612775378,
          0.7329790846708019,
          0.7384411070201018,
          0.7398578884389047,
          0.742095997795156,
          0.7440857775416375,
          0.7446620044268758,
          0.7476524410611718,
          0.7522758626400623,
          0.7543183175439575,
          0.7563957429732595,
          0.7564089438806071,
          0.7566283374124755,
          0.7609251070905828,
          0.7721834579814553,
          0.772627150833098,
          0.7778751396691707,
          0.7794836636089394,
          0.7863968429556254,
          0.7920066508881259,
          0.7927994611280766,
          0.7953705973962644,
          1
         ],
         "y": [
          0.7699115044247787,
          0.7767857142857143,
          0.7837837837837838,
          0.7909090909090909,
          0.8055555555555556,
          0.8130841121495327,
          0.8207547169811321,
          0.8285714285714286,
          0.8365384615384616,
          0.8446601941747572,
          0.8529411764705882,
          0.8613861386138614,
          0.8787878787878788,
          0.8877551020408163,
          0.8969072164948454,
          0.90625,
          0.9157894736842105,
          0.925531914893617,
          0.9354838709677419,
          0.9456521739130435,
          0.9666666666666667,
          0.9662921348314607,
          0.9772727272727273,
          0.9772727272727273,
          0.9885057471264368,
          1,
          1,
          1,
          1,
          1,
          1,
          1,
          1,
          1,
          1,
          1,
          1,
          1,
          1,
          1,
          1,
          1,
          1,
          1,
          1,
          1,
          1,
          1,
          1,
          1,
          1,
          1,
          1,
          1,
          1,
          1,
          1,
          1,
          1,
          1,
          1,
          1,
          1,
          1,
          1,
          1,
          1,
          1,
          1,
          1,
          1,
          1,
          1,
          1,
          1,
          1,
          1,
          1,
          1,
          1,
          1,
          1,
          1,
          1,
          1,
          1,
          1,
          1,
          1,
          1,
          1,
          1,
          1,
          1,
          1,
          1,
          1,
          1,
          1,
          1,
          1,
          1
         ]
        },
        {
         "mode": "lines",
         "name": "negative_predictive_value",
         "type": "scatter",
         "x": [
          0.1152891938016723,
          0.1825273187532008,
          0.2029527530006023,
          0.207947339191418,
          0.2279113961612721,
          0.2327077484241897,
          0.2330895290073286,
          0.2439763489302005,
          0.2639147649785468,
          0.2661451604601734,
          0.2798837331258509,
          0.2863206076365292,
          0.3120771994974401,
          0.3129560707111369,
          0.333430480308182,
          0.3381630168339357,
          0.3462717347207301,
          0.355230258994518,
          0.3684886946226528,
          0.4129195310937998,
          0.4687041024167086,
          0.48166650812259,
          0.5,
          0.5059081615630128,
          0.5276127749898563,
          0.5322302158723882,
          0.5343428909154652,
          0.5461594198630665,
          0.5607868517244157,
          0.5631530827293773,
          0.5651105902496346,
          0.5706703426517512,
          0.5738157960223651,
          0.5765955188814179,
          0.5769194054597603,
          0.5770102899996197,
          0.5918906043334035,
          0.592565843068784,
          0.5937930907602689,
          0.5938806909378277,
          0.5978664557391414,
          0.6064476617100878,
          0.6066997859947109,
          0.6147938777965302,
          0.6196003907183631,
          0.6200620157231248,
          0.6283498280258885,
          0.6284697747225503,
          0.6307371943439084,
          0.631647910552203,
          0.6317236672220649,
          0.6369022989764154,
          0.6374981865796525,
          0.6407014055497083,
          0.6464734399579306,
          0.6476907923521473,
          0.6477289453300966,
          0.648642159944279,
          0.6489215510418462,
          0.6572761338581896,
          0.659612820914035,
          0.6605891118710295,
          0.6608971039101104,
          0.6676195520233097,
          0.6685348429299085,
          0.6723425583219644,
          0.6756129147547327,
          0.6764499145830786,
          0.6777650649060538,
          0.6850828342925811,
          0.6881431347537696,
          0.6896323903400887,
          0.6968033678504582,
          0.6992361348015192,
          0.7003439202996299,
          0.7126769136692737,
          0.7148402875803819,
          0.7159469943319843,
          0.7248876934147299,
          0.7262483612775378,
          0.7329790846708019,
          0.7384411070201018,
          0.7398578884389047,
          0.742095997795156,
          0.7440857775416375,
          0.7446620044268758,
          0.7476524410611718,
          0.7522758626400623,
          0.7543183175439575,
          0.7563957429732595,
          0.7564089438806071,
          0.7566283374124755,
          0.7609251070905828,
          0.7721834579814553,
          0.772627150833098,
          0.7778751396691707,
          0.7794836636089394,
          0.7863968429556254,
          0.7920066508881259,
          0.7927994611280766,
          0.7953705973962644,
          1
         ],
         "y": [
          1,
          1,
          1,
          1,
          1,
          1,
          1,
          1,
          1,
          1,
          1,
          1,
          1,
          1,
          1,
          1,
          1,
          1,
          1,
          1,
          1,
          0.9583333333333334,
          0.96,
          0.96,
          0.9615384615384616,
          0.9629629629629629,
          0.9285714285714286,
          0.896551724137931,
          0.8387096774193549,
          0.8125,
          0.7878787878787878,
          0.7647058823529411,
          0.7428571428571429,
          0.7222222222222222,
          0.7027027027027027,
          0.6842105263157895,
          0.65,
          0.6341463414634146,
          0.6190476190476191,
          0.6046511627906976,
          0.5909090909090909,
          0.5777777777777777,
          0.5652173913043478,
          0.5416666666666666,
          0.5306122448979592,
          0.52,
          0.5098039215686274,
          0.5,
          0.4905660377358491,
          0.4814814814814815,
          0.4727272727272727,
          0.456140350877193,
          0.4482758620689655,
          0.4406779661016949,
          0.4333333333333333,
          0.4262295081967213,
          0.4193548387096774,
          0.4126984126984127,
          0.40625,
          0.3939393939393939,
          0.3880597014925373,
          0.3823529411764706,
          0.3768115942028986,
          0.3714285714285714,
          0.3661971830985916,
          0.3611111111111111,
          0.3513513513513514,
          0.3466666666666667,
          0.3421052631578947,
          0.3376623376623377,
          0.3333333333333333,
          0.3291139240506329,
          0.325,
          0.3209876543209876,
          0.3132530120481928,
          0.3095238095238095,
          0.3058823529411765,
          0.3023255813953488,
          0.2988505747126437,
          0.2954545454545455,
          0.2921348314606741,
          0.2857142857142857,
          0.2826086956521739,
          0.2795698924731183,
          0.2765957446808511,
          0.2736842105263158,
          0.2708333333333333,
          0.2680412371134021,
          0.2653061224489796,
          0.26,
          0.2574257425742574,
          0.2549019607843137,
          0.2524271844660194,
          0.25,
          0.2476190476190476,
          0.2452830188679245,
          0.2429906542056075,
          0.2385321100917431,
          0.2363636363636364,
          0.2342342342342342,
          0.2321428571428572,
          0.2300884955752212
         ]
        }
       ],
       "layout": {
        "shapes": [
         {
          "line": {
           "dash": "dash",
           "width": 0.5
          },
          "type": "line",
          "x0": 0.5,
          "x1": 0.5,
          "y0": 0,
          "y1": 1
         }
        ],
        "showlegend": true,
        "template": {
         "data": {
          "bar": [
           {
            "error_x": {
             "color": "#2a3f5f"
            },
            "error_y": {
             "color": "#2a3f5f"
            },
            "marker": {
             "line": {
              "color": "#E5ECF6",
              "width": 0.5
             },
             "pattern": {
              "fillmode": "overlay",
              "size": 10,
              "solidity": 0.2
             }
            },
            "type": "bar"
           }
          ],
          "barpolar": [
           {
            "marker": {
             "line": {
              "color": "#E5ECF6",
              "width": 0.5
             },
             "pattern": {
              "fillmode": "overlay",
              "size": 10,
              "solidity": 0.2
             }
            },
            "type": "barpolar"
           }
          ],
          "carpet": [
           {
            "aaxis": {
             "endlinecolor": "#2a3f5f",
             "gridcolor": "white",
             "linecolor": "white",
             "minorgridcolor": "white",
             "startlinecolor": "#2a3f5f"
            },
            "baxis": {
             "endlinecolor": "#2a3f5f",
             "gridcolor": "white",
             "linecolor": "white",
             "minorgridcolor": "white",
             "startlinecolor": "#2a3f5f"
            },
            "type": "carpet"
           }
          ],
          "choropleth": [
           {
            "colorbar": {
             "outlinewidth": 0,
             "ticks": ""
            },
            "type": "choropleth"
           }
          ],
          "contour": [
           {
            "colorbar": {
             "outlinewidth": 0,
             "ticks": ""
            },
            "colorscale": [
             [
              0,
              "#0d0887"
             ],
             [
              0.1111111111111111,
              "#46039f"
             ],
             [
              0.2222222222222222,
              "#7201a8"
             ],
             [
              0.3333333333333333,
              "#9c179e"
             ],
             [
              0.4444444444444444,
              "#bd3786"
             ],
             [
              0.5555555555555556,
              "#d8576b"
             ],
             [
              0.6666666666666666,
              "#ed7953"
             ],
             [
              0.7777777777777778,
              "#fb9f3a"
             ],
             [
              0.8888888888888888,
              "#fdca26"
             ],
             [
              1,
              "#f0f921"
             ]
            ],
            "type": "contour"
           }
          ],
          "contourcarpet": [
           {
            "colorbar": {
             "outlinewidth": 0,
             "ticks": ""
            },
            "type": "contourcarpet"
           }
          ],
          "heatmap": [
           {
            "colorbar": {
             "outlinewidth": 0,
             "ticks": ""
            },
            "colorscale": [
             [
              0,
              "#0d0887"
             ],
             [
              0.1111111111111111,
              "#46039f"
             ],
             [
              0.2222222222222222,
              "#7201a8"
             ],
             [
              0.3333333333333333,
              "#9c179e"
             ],
             [
              0.4444444444444444,
              "#bd3786"
             ],
             [
              0.5555555555555556,
              "#d8576b"
             ],
             [
              0.6666666666666666,
              "#ed7953"
             ],
             [
              0.7777777777777778,
              "#fb9f3a"
             ],
             [
              0.8888888888888888,
              "#fdca26"
             ],
             [
              1,
              "#f0f921"
             ]
            ],
            "type": "heatmap"
           }
          ],
          "heatmapgl": [
           {
            "colorbar": {
             "outlinewidth": 0,
             "ticks": ""
            },
            "colorscale": [
             [
              0,
              "#0d0887"
             ],
             [
              0.1111111111111111,
              "#46039f"
             ],
             [
              0.2222222222222222,
              "#7201a8"
             ],
             [
              0.3333333333333333,
              "#9c179e"
             ],
             [
              0.4444444444444444,
              "#bd3786"
             ],
             [
              0.5555555555555556,
              "#d8576b"
             ],
             [
              0.6666666666666666,
              "#ed7953"
             ],
             [
              0.7777777777777778,
              "#fb9f3a"
             ],
             [
              0.8888888888888888,
              "#fdca26"
             ],
             [
              1,
              "#f0f921"
             ]
            ],
            "type": "heatmapgl"
           }
          ],
          "histogram": [
           {
            "marker": {
             "pattern": {
              "fillmode": "overlay",
              "size": 10,
              "solidity": 0.2
             }
            },
            "type": "histogram"
           }
          ],
          "histogram2d": [
           {
            "colorbar": {
             "outlinewidth": 0,
             "ticks": ""
            },
            "colorscale": [
             [
              0,
              "#0d0887"
             ],
             [
              0.1111111111111111,
              "#46039f"
             ],
             [
              0.2222222222222222,
              "#7201a8"
             ],
             [
              0.3333333333333333,
              "#9c179e"
             ],
             [
              0.4444444444444444,
              "#bd3786"
             ],
             [
              0.5555555555555556,
              "#d8576b"
             ],
             [
              0.6666666666666666,
              "#ed7953"
             ],
             [
              0.7777777777777778,
              "#fb9f3a"
             ],
             [
              0.8888888888888888,
              "#fdca26"
             ],
             [
              1,
              "#f0f921"
             ]
            ],
            "type": "histogram2d"
           }
          ],
          "histogram2dcontour": [
           {
            "colorbar": {
             "outlinewidth": 0,
             "ticks": ""
            },
            "colorscale": [
             [
              0,
              "#0d0887"
             ],
             [
              0.1111111111111111,
              "#46039f"
             ],
             [
              0.2222222222222222,
              "#7201a8"
             ],
             [
              0.3333333333333333,
              "#9c179e"
             ],
             [
              0.4444444444444444,
              "#bd3786"
             ],
             [
              0.5555555555555556,
              "#d8576b"
             ],
             [
              0.6666666666666666,
              "#ed7953"
             ],
             [
              0.7777777777777778,
              "#fb9f3a"
             ],
             [
              0.8888888888888888,
              "#fdca26"
             ],
             [
              1,
              "#f0f921"
             ]
            ],
            "type": "histogram2dcontour"
           }
          ],
          "mesh3d": [
           {
            "colorbar": {
             "outlinewidth": 0,
             "ticks": ""
            },
            "type": "mesh3d"
           }
          ],
          "parcoords": [
           {
            "line": {
             "colorbar": {
              "outlinewidth": 0,
              "ticks": ""
             }
            },
            "type": "parcoords"
           }
          ],
          "pie": [
           {
            "automargin": true,
            "type": "pie"
           }
          ],
          "scatter": [
           {
            "fillpattern": {
             "fillmode": "overlay",
             "size": 10,
             "solidity": 0.2
            },
            "type": "scatter"
           }
          ],
          "scatter3d": [
           {
            "line": {
             "colorbar": {
              "outlinewidth": 0,
              "ticks": ""
             }
            },
            "marker": {
             "colorbar": {
              "outlinewidth": 0,
              "ticks": ""
             }
            },
            "type": "scatter3d"
           }
          ],
          "scattercarpet": [
           {
            "marker": {
             "colorbar": {
              "outlinewidth": 0,
              "ticks": ""
             }
            },
            "type": "scattercarpet"
           }
          ],
          "scattergeo": [
           {
            "marker": {
             "colorbar": {
              "outlinewidth": 0,
              "ticks": ""
             }
            },
            "type": "scattergeo"
           }
          ],
          "scattergl": [
           {
            "marker": {
             "colorbar": {
              "outlinewidth": 0,
              "ticks": ""
             }
            },
            "type": "scattergl"
           }
          ],
          "scattermapbox": [
           {
            "marker": {
             "colorbar": {
              "outlinewidth": 0,
              "ticks": ""
             }
            },
            "type": "scattermapbox"
           }
          ],
          "scatterpolar": [
           {
            "marker": {
             "colorbar": {
              "outlinewidth": 0,
              "ticks": ""
             }
            },
            "type": "scatterpolar"
           }
          ],
          "scatterpolargl": [
           {
            "marker": {
             "colorbar": {
              "outlinewidth": 0,
              "ticks": ""
             }
            },
            "type": "scatterpolargl"
           }
          ],
          "scatterternary": [
           {
            "marker": {
             "colorbar": {
              "outlinewidth": 0,
              "ticks": ""
             }
            },
            "type": "scatterternary"
           }
          ],
          "surface": [
           {
            "colorbar": {
             "outlinewidth": 0,
             "ticks": ""
            },
            "colorscale": [
             [
              0,
              "#0d0887"
             ],
             [
              0.1111111111111111,
              "#46039f"
             ],
             [
              0.2222222222222222,
              "#7201a8"
             ],
             [
              0.3333333333333333,
              "#9c179e"
             ],
             [
              0.4444444444444444,
              "#bd3786"
             ],
             [
              0.5555555555555556,
              "#d8576b"
             ],
             [
              0.6666666666666666,
              "#ed7953"
             ],
             [
              0.7777777777777778,
              "#fb9f3a"
             ],
             [
              0.8888888888888888,
              "#fdca26"
             ],
             [
              1,
              "#f0f921"
             ]
            ],
            "type": "surface"
           }
          ],
          "table": [
           {
            "cells": {
             "fill": {
              "color": "#EBF0F8"
             },
             "line": {
              "color": "white"
             }
            },
            "header": {
             "fill": {
              "color": "#C8D4E3"
             },
             "line": {
              "color": "white"
             }
            },
            "type": "table"
           }
          ]
         },
         "layout": {
          "annotationdefaults": {
           "arrowcolor": "#2a3f5f",
           "arrowhead": 0,
           "arrowwidth": 1
          },
          "autotypenumbers": "strict",
          "coloraxis": {
           "colorbar": {
            "outlinewidth": 0,
            "ticks": ""
           }
          },
          "colorscale": {
           "diverging": [
            [
             0,
             "#8e0152"
            ],
            [
             0.1,
             "#c51b7d"
            ],
            [
             0.2,
             "#de77ae"
            ],
            [
             0.3,
             "#f1b6da"
            ],
            [
             0.4,
             "#fde0ef"
            ],
            [
             0.5,
             "#f7f7f7"
            ],
            [
             0.6,
             "#e6f5d0"
            ],
            [
             0.7,
             "#b8e186"
            ],
            [
             0.8,
             "#7fbc41"
            ],
            [
             0.9,
             "#4d9221"
            ],
            [
             1,
             "#276419"
            ]
           ],
           "sequential": [
            [
             0,
             "#0d0887"
            ],
            [
             0.1111111111111111,
             "#46039f"
            ],
            [
             0.2222222222222222,
             "#7201a8"
            ],
            [
             0.3333333333333333,
             "#9c179e"
            ],
            [
             0.4444444444444444,
             "#bd3786"
            ],
            [
             0.5555555555555556,
             "#d8576b"
            ],
            [
             0.6666666666666666,
             "#ed7953"
            ],
            [
             0.7777777777777778,
             "#fb9f3a"
            ],
            [
             0.8888888888888888,
             "#fdca26"
            ],
            [
             1,
             "#f0f921"
            ]
           ],
           "sequentialminus": [
            [
             0,
             "#0d0887"
            ],
            [
             0.1111111111111111,
             "#46039f"
            ],
            [
             0.2222222222222222,
             "#7201a8"
            ],
            [
             0.3333333333333333,
             "#9c179e"
            ],
            [
             0.4444444444444444,
             "#bd3786"
            ],
            [
             0.5555555555555556,
             "#d8576b"
            ],
            [
             0.6666666666666666,
             "#ed7953"
            ],
            [
             0.7777777777777778,
             "#fb9f3a"
            ],
            [
             0.8888888888888888,
             "#fdca26"
            ],
            [
             1,
             "#f0f921"
            ]
           ]
          },
          "colorway": [
           "#636efa",
           "#EF553B",
           "#00cc96",
           "#ab63fa",
           "#FFA15A",
           "#19d3f3",
           "#FF6692",
           "#B6E880",
           "#FF97FF",
           "#FECB52"
          ],
          "font": {
           "color": "#2a3f5f"
          },
          "geo": {
           "bgcolor": "white",
           "lakecolor": "white",
           "landcolor": "#E5ECF6",
           "showlakes": true,
           "showland": true,
           "subunitcolor": "white"
          },
          "hoverlabel": {
           "align": "left"
          },
          "hovermode": "closest",
          "mapbox": {
           "style": "light"
          },
          "paper_bgcolor": "white",
          "plot_bgcolor": "#E5ECF6",
          "polar": {
           "angularaxis": {
            "gridcolor": "white",
            "linecolor": "white",
            "ticks": ""
           },
           "bgcolor": "#E5ECF6",
           "radialaxis": {
            "gridcolor": "white",
            "linecolor": "white",
            "ticks": ""
           }
          },
          "scene": {
           "xaxis": {
            "backgroundcolor": "#E5ECF6",
            "gridcolor": "white",
            "gridwidth": 2,
            "linecolor": "white",
            "showbackground": true,
            "ticks": "",
            "zerolinecolor": "white"
           },
           "yaxis": {
            "backgroundcolor": "#E5ECF6",
            "gridcolor": "white",
            "gridwidth": 2,
            "linecolor": "white",
            "showbackground": true,
            "ticks": "",
            "zerolinecolor": "white"
           },
           "zaxis": {
            "backgroundcolor": "#E5ECF6",
            "gridcolor": "white",
            "gridwidth": 2,
            "linecolor": "white",
            "showbackground": true,
            "ticks": "",
            "zerolinecolor": "white"
           }
          },
          "shapedefaults": {
           "line": {
            "color": "#2a3f5f"
           }
          },
          "ternary": {
           "aaxis": {
            "gridcolor": "white",
            "linecolor": "white",
            "ticks": ""
           },
           "baxis": {
            "gridcolor": "white",
            "linecolor": "white",
            "ticks": ""
           },
           "bgcolor": "#E5ECF6",
           "caxis": {
            "gridcolor": "white",
            "linecolor": "white",
            "ticks": ""
           }
          },
          "title": {
           "x": 0.05
          },
          "xaxis": {
           "automargin": true,
           "gridcolor": "white",
           "linecolor": "white",
           "ticks": "",
           "title": {
            "standoff": 15
           },
           "zerolinecolor": "white",
           "zerolinewidth": 2
          },
          "yaxis": {
           "automargin": true,
           "gridcolor": "white",
           "linecolor": "white",
           "ticks": "",
           "title": {
            "standoff": 15
           },
           "zerolinecolor": "white",
           "zerolinewidth": 2
          }
         }
        },
        "title": {
         "text": "Threshold-Metric Plot<br>diagnosis",
         "x": 0.5,
         "xref": "paper"
        },
        "xaxis": {
         "constrain": "domain",
         "range": [
          -0.05,
          1.05
         ],
         "title": {
          "text": "Threshold"
         }
        },
        "yaxis": {
         "constrain": "domain",
         "range": [
          -0.05,
          1.05
         ],
         "title": {
          "text": "Metric"
         }
        }
       }
      },
      "text/html": [
       "<div>                            <div id=\"3ef95526-ff8b-4a07-b551-1ba9c787170c\" class=\"plotly-graph-div\" style=\"height:525px; width:100%;\"></div>            <script type=\"text/javascript\">                require([\"plotly\"], function(Plotly) {                    window.PLOTLYENV=window.PLOTLYENV || {};                                    if (document.getElementById(\"3ef95526-ff8b-4a07-b551-1ba9c787170c\")) {                    Plotly.newPlot(                        \"3ef95526-ff8b-4a07-b551-1ba9c787170c\",                        [{\"mode\":\"lines\",\"name\":\"accuracy\",\"x\":[0.1152891938016723,0.1825273187532008,0.2029527530006023,0.207947339191418,0.2279113961612721,0.2327077484241897,0.2330895290073286,0.2439763489302005,0.2639147649785468,0.2661451604601734,0.2798837331258509,0.2863206076365292,0.3120771994974401,0.3129560707111369,0.333430480308182,0.3381630168339357,0.3462717347207301,0.355230258994518,0.3684886946226528,0.4129195310937998,0.4687041024167086,0.48166650812259,0.5,0.5059081615630128,0.5276127749898563,0.5322302158723882,0.5343428909154652,0.5461594198630665,0.5607868517244157,0.5631530827293773,0.5651105902496346,0.5706703426517512,0.5738157960223651,0.5765955188814179,0.5769194054597603,0.5770102899996197,0.5918906043334035,0.592565843068784,0.5937930907602689,0.5938806909378277,0.5978664557391414,0.6064476617100878,0.6066997859947109,0.6147938777965302,0.6196003907183631,0.6200620157231248,0.6283498280258885,0.6284697747225503,0.6307371943439084,0.631647910552203,0.6317236672220649,0.6369022989764154,0.6374981865796525,0.6407014055497083,0.6464734399579306,0.6476907923521473,0.6477289453300966,0.648642159944279,0.6489215510418462,0.6572761338581896,0.659612820914035,0.6605891118710295,0.6608971039101104,0.6676195520233097,0.6685348429299085,0.6723425583219644,0.6756129147547327,0.6764499145830786,0.6777650649060538,0.6850828342925811,0.6881431347537696,0.6896323903400887,0.6968033678504582,0.6992361348015192,0.7003439202996299,0.7126769136692737,0.7148402875803819,0.7159469943319843,0.7248876934147299,0.7262483612775378,0.7329790846708019,0.7384411070201018,0.7398578884389047,0.742095997795156,0.7440857775416375,0.7446620044268758,0.7476524410611718,0.7522758626400623,0.7543183175439575,0.7563957429732595,0.7564089438806071,0.7566283374124755,0.7609251070905828,0.7721834579814553,0.772627150833098,0.7778751396691707,0.7794836636089394,0.7863968429556254,0.7920066508881259,0.7927994611280766,0.7953705973962644,1.0],\"y\":[0.7699115044247787,0.7787610619469026,0.7876106194690266,0.7964601769911505,0.8141592920353983,0.8230088495575221,0.831858407079646,0.8407079646017699,0.8495575221238938,0.8584070796460177,0.8672566371681416,0.8761061946902655,0.8938053097345132,0.9026548672566371,0.911504424778761,0.9203539823008849,0.9292035398230089,0.9380530973451328,0.9469026548672567,0.9557522123893806,0.9734513274336283,0.9646017699115044,0.9734513274336283,0.9734513274336283,0.9823008849557522,0.9911504424778761,0.9823008849557522,0.9734513274336283,0.9557522123893806,0.9469026548672567,0.9380530973451328,0.9292035398230089,0.9203539823008849,0.911504424778761,0.9026548672566371,0.8938053097345132,0.8761061946902655,0.8672566371681416,0.8584070796460177,0.8495575221238938,0.8407079646017699,0.831858407079646,0.8230088495575221,0.8053097345132744,0.7964601769911505,0.7876106194690266,0.7787610619469026,0.7699115044247787,0.7610619469026548,0.7522123893805309,0.7433628318584071,0.7256637168141593,0.7168141592920354,0.7079646017699115,0.6991150442477876,0.6902654867256637,0.6814159292035398,0.672566371681416,0.6637168141592921,0.6460176991150443,0.6371681415929203,0.6283185840707964,0.6194690265486725,0.6106194690265486,0.6017699115044248,0.5929203539823009,0.5752212389380531,0.5663716814159292,0.5575221238938053,0.5486725663716814,0.5398230088495575,0.5309734513274337,0.5221238938053098,0.5132743362831859,0.495575221238938,0.4867256637168141,0.4778761061946903,0.4690265486725664,0.4601769911504425,0.4513274336283186,0.4424778761061947,0.4247787610619469,0.415929203539823,0.4070796460176991,0.3982300884955752,0.3893805309734513,0.3805309734513274,0.3716814159292036,0.3628318584070797,0.3451327433628318,0.336283185840708,0.3274336283185841,0.3185840707964602,0.3097345132743363,0.3008849557522124,0.2920353982300885,0.2831858407079646,0.2654867256637168,0.2566371681415929,0.247787610619469,0.2389380530973451,0.2300884955752212],\"type\":\"scatter\"},{\"mode\":\"lines\",\"name\":\"balanced_accuracy\",\"x\":[0.1152891938016723,0.1825273187532008,0.2029527530006023,0.207947339191418,0.2279113961612721,0.2327077484241897,0.2330895290073286,0.2439763489302005,0.2639147649785468,0.2661451604601734,0.2798837331258509,0.2863206076365292,0.3120771994974401,0.3129560707111369,0.333430480308182,0.3381630168339357,0.3462717347207301,0.355230258994518,0.3684886946226528,0.4129195310937998,0.4687041024167086,0.48166650812259,0.5,0.5059081615630128,0.5276127749898563,0.5322302158723882,0.5343428909154652,0.5461594198630665,0.5607868517244157,0.5631530827293773,0.5651105902496346,0.5706703426517512,0.5738157960223651,0.5765955188814179,0.5769194054597603,0.5770102899996197,0.5918906043334035,0.592565843068784,0.5937930907602689,0.5938806909378277,0.5978664557391414,0.6064476617100878,0.6066997859947109,0.6147938777965302,0.6196003907183631,0.6200620157231248,0.6283498280258885,0.6284697747225503,0.6307371943439084,0.631647910552203,0.6317236672220649,0.6369022989764154,0.6374981865796525,0.6407014055497083,0.6464734399579306,0.6476907923521473,0.6477289453300966,0.648642159944279,0.6489215510418462,0.6572761338581896,0.659612820914035,0.6605891118710295,0.6608971039101104,0.6676195520233097,0.6685348429299085,0.6723425583219644,0.6756129147547327,0.6764499145830786,0.6777650649060538,0.6850828342925811,0.6881431347537696,0.6896323903400887,0.6968033678504582,0.6992361348015192,0.7003439202996299,0.7126769136692737,0.7148402875803819,0.7159469943319843,0.7248876934147299,0.7262483612775378,0.7329790846708019,0.7384411070201018,0.7398578884389047,0.742095997795156,0.7440857775416375,0.7446620044268758,0.7476524410611718,0.7522758626400623,0.7543183175439575,0.7563957429732595,0.7564089438806071,0.7566283374124755,0.7609251070905828,0.7721834579814553,0.772627150833098,0.7778751396691707,0.7794836636089394,0.7863968429556254,0.7920066508881259,0.7927994611280766,0.7953705973962644,1.0],\"y\":[0.5,0.5192307692307693,0.5384615384615384,0.5576923076923077,0.5961538461538461,0.6153846153846154,0.6346153846153846,0.6538461538461539,0.6730769230769231,0.6923076923076923,0.7115384615384616,0.7307692307692308,0.7692307692307692,0.7884615384615384,0.8076923076923077,0.8269230769230769,0.8461538461538461,0.8653846153846154,0.8846153846153846,0.9038461538461539,0.9423076923076923,0.9365605658709106,0.95579133510168,0.95579133510168,0.9750221043324492,0.9942528735632183,0.9885057471264368,0.9827586206896552,0.9712643678160919,0.9655172413793103,0.9597701149425287,0.9540229885057472,0.9482758620689655,0.9425287356321839,0.9367816091954023,0.9310344827586207,0.9195402298850575,0.9137931034482758,0.9080459770114943,0.9022988505747127,0.896551724137931,0.8908045977011494,0.8850574712643677,0.8735632183908046,0.867816091954023,0.8620689655172413,0.8563218390804598,0.8505747126436782,0.8448275862068966,0.8390804597701149,0.8333333333333333,0.8218390804597702,0.8160919540229885,0.8103448275862069,0.8045977011494253,0.7988505747126438,0.7931034482758621,0.7873563218390804,0.7816091954022988,0.7701149425287357,0.764367816091954,0.7586206896551724,0.7528735632183908,0.7471264367816092,0.7413793103448276,0.735632183908046,0.7241379310344828,0.7183908045977012,0.7126436781609196,0.7068965517241379,0.7011494252873564,0.6954022988505747,0.6896551724137931,0.6839080459770115,0.6724137931034483,0.6666666666666666,0.6609195402298851,0.6551724137931034,0.6494252873563219,0.6436781609195402,0.6379310344827587,0.6264367816091954,0.6206896551724138,0.6149425287356322,0.6091954022988506,0.603448275862069,0.5977011494252874,0.5919540229885057,0.5862068965517242,0.5747126436781609,0.5689655172413793,0.5632183908045977,0.5574712643678161,0.5517241379310345,0.5459770114942528,0.5402298850574713,0.5344827586206896,0.5229885057471264,0.5172413793103449,0.5114942528735632,0.5057471264367817,0.5],\"type\":\"scatter\"},{\"mode\":\"lines\",\"name\":\"f1\",\"x\":[0.1152891938016723,0.1825273187532008,0.2029527530006023,0.207947339191418,0.2279113961612721,0.2327077484241897,0.2330895290073286,0.2439763489302005,0.2639147649785468,0.2661451604601734,0.2798837331258509,0.2863206076365292,0.3120771994974401,0.3129560707111369,0.333430480308182,0.3381630168339357,0.3462717347207301,0.355230258994518,0.3684886946226528,0.4129195310937998,0.4687041024167086,0.48166650812259,0.5,0.5059081615630128,0.5276127749898563,0.5322302158723882,0.5343428909154652,0.5461594198630665,0.5607868517244157,0.5631530827293773,0.5651105902496346,0.5706703426517512,0.5738157960223651,0.5765955188814179,0.5769194054597603,0.5770102899996197,0.5918906043334035,0.592565843068784,0.5937930907602689,0.5938806909378277,0.5978664557391414,0.6064476617100878,0.6066997859947109,0.6147938777965302,0.6196003907183631,0.6200620157231248,0.6283498280258885,0.6284697747225503,0.6307371943439084,0.631647910552203,0.6317236672220649,0.6369022989764154,0.6374981865796525,0.6407014055497083,0.6464734399579306,0.6476907923521473,0.6477289453300966,0.648642159944279,0.6489215510418462,0.6572761338581896,0.659612820914035,0.6605891118710295,0.6608971039101104,0.6676195520233097,0.6685348429299085,0.6723425583219644,0.6756129147547327,0.6764499145830786,0.6777650649060538,0.6850828342925811,0.6881431347537696,0.6896323903400887,0.6968033678504582,0.6992361348015192,0.7003439202996299,0.7126769136692737,0.7148402875803819,0.7159469943319843,0.7248876934147299,0.7262483612775378,0.7329790846708019,0.7384411070201018,0.7398578884389047,0.742095997795156,0.7440857775416375,0.7446620044268758,0.7476524410611718,0.7522758626400623,0.7543183175439575,0.7563957429732595,0.7564089438806071,0.7566283374124755,0.7609251070905828,0.7721834579814553,0.772627150833098,0.7778751396691707,0.7794836636089394,0.7863968429556254,0.7920066508881259,0.7927994611280766,0.7953705973962644,1.0],\"y\":[0.87,0.8743718592964824,0.8787878787878788,0.883248730964467,0.8923076923076924,0.8969072164948454,0.9015544041450777,0.90625,0.9109947643979057,0.9157894736842105,0.9206349206349206,0.925531914893617,0.9354838709677419,0.9405405405405406,0.9456521739130435,0.9508196721311475,0.9560439560439561,0.9613259668508287,0.9666666666666667,0.9720670391061452,0.9830508474576272,0.9772727272727273,0.9828571428571429,0.9828571428571429,0.9885057471264368,0.9942196531791907,0.9883720930232558,0.9824561403508771,0.9704142011834319,0.9642857142857143,0.9580838323353293,0.9518072289156626,0.9454545454545454,0.9390243902439024,0.9325153374233128,0.9259259259259259,0.9125,0.9056603773584906,0.8987341772151899,0.89171974522293,0.8846153846153846,0.8774193548387097,0.8701298701298701,0.8552631578947368,0.847682119205298,0.84,0.8322147651006712,0.8243243243243243,0.8163265306122449,0.8082191780821918,0.8,0.7832167832167832,0.7746478873239436,0.7659574468085106,0.7571428571428571,0.7482014388489209,0.7391304347826086,0.7299270072992701,0.7205882352941176,0.7014925373134329,0.6917293233082706,0.6818181818181818,0.6717557251908397,0.6615384615384615,0.6511627906976745,0.640625,0.6190476190476191,0.608,0.5967741935483871,0.5853658536585366,0.5737704918032787,0.5619834710743802,0.55,0.5378151260504201,0.5128205128205128,0.5,0.4869565217391305,0.4736842105263158,0.4601769911504425,0.4464285714285715,0.4324324324324325,0.4036697247706422,0.3888888888888889,0.3738317757009346,0.3584905660377358,0.3428571428571429,0.3269230769230769,0.3106796116504854,0.2941176470588235,0.26,0.2424242424242424,0.2244897959183673,0.2061855670103093,0.1875,0.1684210526315789,0.148936170212766,0.1290322580645161,0.08791208791208792,0.06666666666666667,0.0449438202247191,0.02272727272727273,0.0],\"type\":\"scatter\"},{\"mode\":\"lines\",\"name\":\"sensitivity\",\"x\":[0.1152891938016723,0.1825273187532008,0.2029527530006023,0.207947339191418,0.2279113961612721,0.2327077484241897,0.2330895290073286,0.2439763489302005,0.2639147649785468,0.2661451604601734,0.2798837331258509,0.2863206076365292,0.3120771994974401,0.3129560707111369,0.333430480308182,0.3381630168339357,0.3462717347207301,0.355230258994518,0.3684886946226528,0.4129195310937998,0.4687041024167086,0.48166650812259,0.5,0.5059081615630128,0.5276127749898563,0.5322302158723882,0.5343428909154652,0.5461594198630665,0.5607868517244157,0.5631530827293773,0.5651105902496346,0.5706703426517512,0.5738157960223651,0.5765955188814179,0.5769194054597603,0.5770102899996197,0.5918906043334035,0.592565843068784,0.5937930907602689,0.5938806909378277,0.5978664557391414,0.6064476617100878,0.6066997859947109,0.6147938777965302,0.6196003907183631,0.6200620157231248,0.6283498280258885,0.6284697747225503,0.6307371943439084,0.631647910552203,0.6317236672220649,0.6369022989764154,0.6374981865796525,0.6407014055497083,0.6464734399579306,0.6476907923521473,0.6477289453300966,0.648642159944279,0.6489215510418462,0.6572761338581896,0.659612820914035,0.6605891118710295,0.6608971039101104,0.6676195520233097,0.6685348429299085,0.6723425583219644,0.6756129147547327,0.6764499145830786,0.6777650649060538,0.6850828342925811,0.6881431347537696,0.6896323903400887,0.6968033678504582,0.6992361348015192,0.7003439202996299,0.7126769136692737,0.7148402875803819,0.7159469943319843,0.7248876934147299,0.7262483612775378,0.7329790846708019,0.7384411070201018,0.7398578884389047,0.742095997795156,0.7440857775416375,0.7446620044268758,0.7476524410611718,0.7522758626400623,0.7543183175439575,0.7563957429732595,0.7564089438806071,0.7566283374124755,0.7609251070905828,0.7721834579814553,0.772627150833098,0.7778751396691707,0.7794836636089394,0.7863968429556254,0.7920066508881259,0.7927994611280766,0.7953705973962644,1.0],\"y\":[1.0,1.0,1.0,1.0,1.0,1.0,1.0,1.0,1.0,1.0,1.0,1.0,1.0,1.0,1.0,1.0,1.0,1.0,1.0,1.0,1.0,0.9885057471264368,0.9885057471264368,0.9885057471264368,0.9885057471264368,0.9885057471264368,0.9770114942528736,0.9655172413793104,0.9425287356321839,0.9310344827586207,0.9195402298850575,0.9080459770114943,0.896551724137931,0.8850574712643678,0.8735632183908046,0.8620689655172413,0.8390804597701149,0.8275862068965517,0.8160919540229885,0.8045977011494253,0.7931034482758621,0.7816091954022989,0.7701149425287356,0.7471264367816092,0.735632183908046,0.7241379310344828,0.7126436781609196,0.7011494252873564,0.6896551724137931,0.6781609195402298,0.6666666666666666,0.6436781609195402,0.632183908045977,0.6206896551724138,0.6091954022988506,0.5977011494252874,0.5862068965517241,0.5747126436781609,0.5632183908045977,0.5402298850574713,0.5287356321839081,0.5172413793103449,0.5057471264367817,0.4942528735632184,0.4827586206896552,0.4712643678160919,0.4482758620689655,0.4367816091954023,0.4252873563218391,0.4137931034482759,0.4022988505747127,0.3908045977011494,0.3793103448275862,0.367816091954023,0.3448275862068966,0.3333333333333333,0.3218390804597701,0.3103448275862069,0.2988505747126437,0.2873563218390804,0.2758620689655172,0.2528735632183908,0.2413793103448276,0.2298850574712644,0.2183908045977012,0.2068965517241379,0.1954022988505747,0.1839080459770115,0.1724137931034483,0.1494252873563219,0.1379310344827586,0.1264367816091954,0.1149425287356322,0.103448275862069,0.09195402298850575,0.08045977011494253,0.06896551724137931,0.04597701149425287,0.03448275862068965,0.02298850574712644,0.01149425287356322,0.0],\"type\":\"scatter\"},{\"mode\":\"lines\",\"name\":\"specificity\",\"x\":[0.1152891938016723,0.1825273187532008,0.2029527530006023,0.207947339191418,0.2279113961612721,0.2327077484241897,0.2330895290073286,0.2439763489302005,0.2639147649785468,0.2661451604601734,0.2798837331258509,0.2863206076365292,0.3120771994974401,0.3129560707111369,0.333430480308182,0.3381630168339357,0.3462717347207301,0.355230258994518,0.3684886946226528,0.4129195310937998,0.4687041024167086,0.48166650812259,0.5,0.5059081615630128,0.5276127749898563,0.5322302158723882,0.5343428909154652,0.5461594198630665,0.5607868517244157,0.5631530827293773,0.5651105902496346,0.5706703426517512,0.5738157960223651,0.5765955188814179,0.5769194054597603,0.5770102899996197,0.5918906043334035,0.592565843068784,0.5937930907602689,0.5938806909378277,0.5978664557391414,0.6064476617100878,0.6066997859947109,0.6147938777965302,0.6196003907183631,0.6200620157231248,0.6283498280258885,0.6284697747225503,0.6307371943439084,0.631647910552203,0.6317236672220649,0.6369022989764154,0.6374981865796525,0.6407014055497083,0.6464734399579306,0.6476907923521473,0.6477289453300966,0.648642159944279,0.6489215510418462,0.6572761338581896,0.659612820914035,0.6605891118710295,0.6608971039101104,0.6676195520233097,0.6685348429299085,0.6723425583219644,0.6756129147547327,0.6764499145830786,0.6777650649060538,0.6850828342925811,0.6881431347537696,0.6896323903400887,0.6968033678504582,0.6992361348015192,0.7003439202996299,0.7126769136692737,0.7148402875803819,0.7159469943319843,0.7248876934147299,0.7262483612775378,0.7329790846708019,0.7384411070201018,0.7398578884389047,0.742095997795156,0.7440857775416375,0.7446620044268758,0.7476524410611718,0.7522758626400623,0.7543183175439575,0.7563957429732595,0.7564089438806071,0.7566283374124755,0.7609251070905828,0.7721834579814553,0.772627150833098,0.7778751396691707,0.7794836636089394,0.7863968429556254,0.7920066508881259,0.7927994611280766,0.7953705973962644,1.0],\"y\":[0.0,0.03846153846153846,0.07692307692307693,0.1153846153846154,0.1923076923076923,0.2307692307692308,0.2692307692307692,0.3076923076923077,0.3461538461538461,0.3846153846153846,0.4230769230769231,0.4615384615384616,0.5384615384615384,0.5769230769230769,0.6153846153846154,0.6538461538461539,0.6923076923076923,0.7307692307692307,0.7692307692307693,0.8076923076923077,0.8846153846153846,0.8846153846153846,0.9230769230769231,0.9230769230769231,0.9615384615384616,1.0,1.0,1.0,1.0,1.0,1.0,1.0,1.0,1.0,1.0,1.0,1.0,1.0,1.0,1.0,1.0,1.0,1.0,1.0,1.0,1.0,1.0,1.0,1.0,1.0,1.0,1.0,1.0,1.0,1.0,1.0,1.0,1.0,1.0,1.0,1.0,1.0,1.0,1.0,1.0,1.0,1.0,1.0,1.0,1.0,1.0,1.0,1.0,1.0,1.0,1.0,1.0,1.0,1.0,1.0,1.0,1.0,1.0,1.0,1.0,1.0,1.0,1.0,1.0,1.0,1.0,1.0,1.0,1.0,1.0,1.0,1.0,1.0,1.0,1.0,1.0,1.0],\"type\":\"scatter\"},{\"mode\":\"lines\",\"name\":\"positive_predictive_value\",\"x\":[0.1152891938016723,0.1825273187532008,0.2029527530006023,0.207947339191418,0.2279113961612721,0.2327077484241897,0.2330895290073286,0.2439763489302005,0.2639147649785468,0.2661451604601734,0.2798837331258509,0.2863206076365292,0.3120771994974401,0.3129560707111369,0.333430480308182,0.3381630168339357,0.3462717347207301,0.355230258994518,0.3684886946226528,0.4129195310937998,0.4687041024167086,0.48166650812259,0.5,0.5059081615630128,0.5276127749898563,0.5322302158723882,0.5343428909154652,0.5461594198630665,0.5607868517244157,0.5631530827293773,0.5651105902496346,0.5706703426517512,0.5738157960223651,0.5765955188814179,0.5769194054597603,0.5770102899996197,0.5918906043334035,0.592565843068784,0.5937930907602689,0.5938806909378277,0.5978664557391414,0.6064476617100878,0.6066997859947109,0.6147938777965302,0.6196003907183631,0.6200620157231248,0.6283498280258885,0.6284697747225503,0.6307371943439084,0.631647910552203,0.6317236672220649,0.6369022989764154,0.6374981865796525,0.6407014055497083,0.6464734399579306,0.6476907923521473,0.6477289453300966,0.648642159944279,0.6489215510418462,0.6572761338581896,0.659612820914035,0.6605891118710295,0.6608971039101104,0.6676195520233097,0.6685348429299085,0.6723425583219644,0.6756129147547327,0.6764499145830786,0.6777650649060538,0.6850828342925811,0.6881431347537696,0.6896323903400887,0.6968033678504582,0.6992361348015192,0.7003439202996299,0.7126769136692737,0.7148402875803819,0.7159469943319843,0.7248876934147299,0.7262483612775378,0.7329790846708019,0.7384411070201018,0.7398578884389047,0.742095997795156,0.7440857775416375,0.7446620044268758,0.7476524410611718,0.7522758626400623,0.7543183175439575,0.7563957429732595,0.7564089438806071,0.7566283374124755,0.7609251070905828,0.7721834579814553,0.772627150833098,0.7778751396691707,0.7794836636089394,0.7863968429556254,0.7920066508881259,0.7927994611280766,0.7953705973962644,1.0],\"y\":[0.7699115044247787,0.7767857142857143,0.7837837837837838,0.7909090909090909,0.8055555555555556,0.8130841121495327,0.8207547169811321,0.8285714285714286,0.8365384615384616,0.8446601941747572,0.8529411764705882,0.8613861386138614,0.8787878787878788,0.8877551020408163,0.8969072164948454,0.90625,0.9157894736842105,0.925531914893617,0.9354838709677419,0.9456521739130435,0.9666666666666667,0.9662921348314607,0.9772727272727273,0.9772727272727273,0.9885057471264368,1.0,1.0,1.0,1.0,1.0,1.0,1.0,1.0,1.0,1.0,1.0,1.0,1.0,1.0,1.0,1.0,1.0,1.0,1.0,1.0,1.0,1.0,1.0,1.0,1.0,1.0,1.0,1.0,1.0,1.0,1.0,1.0,1.0,1.0,1.0,1.0,1.0,1.0,1.0,1.0,1.0,1.0,1.0,1.0,1.0,1.0,1.0,1.0,1.0,1.0,1.0,1.0,1.0,1.0,1.0,1.0,1.0,1.0,1.0,1.0,1.0,1.0,1.0,1.0,1.0,1.0,1.0,1.0,1.0,1.0,1.0,1.0,1.0,1.0,1.0,1.0,1.0],\"type\":\"scatter\"},{\"mode\":\"lines\",\"name\":\"negative_predictive_value\",\"x\":[0.1152891938016723,0.1825273187532008,0.2029527530006023,0.207947339191418,0.2279113961612721,0.2327077484241897,0.2330895290073286,0.2439763489302005,0.2639147649785468,0.2661451604601734,0.2798837331258509,0.2863206076365292,0.3120771994974401,0.3129560707111369,0.333430480308182,0.3381630168339357,0.3462717347207301,0.355230258994518,0.3684886946226528,0.4129195310937998,0.4687041024167086,0.48166650812259,0.5,0.5059081615630128,0.5276127749898563,0.5322302158723882,0.5343428909154652,0.5461594198630665,0.5607868517244157,0.5631530827293773,0.5651105902496346,0.5706703426517512,0.5738157960223651,0.5765955188814179,0.5769194054597603,0.5770102899996197,0.5918906043334035,0.592565843068784,0.5937930907602689,0.5938806909378277,0.5978664557391414,0.6064476617100878,0.6066997859947109,0.6147938777965302,0.6196003907183631,0.6200620157231248,0.6283498280258885,0.6284697747225503,0.6307371943439084,0.631647910552203,0.6317236672220649,0.6369022989764154,0.6374981865796525,0.6407014055497083,0.6464734399579306,0.6476907923521473,0.6477289453300966,0.648642159944279,0.6489215510418462,0.6572761338581896,0.659612820914035,0.6605891118710295,0.6608971039101104,0.6676195520233097,0.6685348429299085,0.6723425583219644,0.6756129147547327,0.6764499145830786,0.6777650649060538,0.6850828342925811,0.6881431347537696,0.6896323903400887,0.6968033678504582,0.6992361348015192,0.7003439202996299,0.7126769136692737,0.7148402875803819,0.7159469943319843,0.7248876934147299,0.7262483612775378,0.7329790846708019,0.7384411070201018,0.7398578884389047,0.742095997795156,0.7440857775416375,0.7446620044268758,0.7476524410611718,0.7522758626400623,0.7543183175439575,0.7563957429732595,0.7564089438806071,0.7566283374124755,0.7609251070905828,0.7721834579814553,0.772627150833098,0.7778751396691707,0.7794836636089394,0.7863968429556254,0.7920066508881259,0.7927994611280766,0.7953705973962644,1.0],\"y\":[1.0,1.0,1.0,1.0,1.0,1.0,1.0,1.0,1.0,1.0,1.0,1.0,1.0,1.0,1.0,1.0,1.0,1.0,1.0,1.0,1.0,0.9583333333333334,0.96,0.96,0.9615384615384616,0.9629629629629629,0.9285714285714286,0.896551724137931,0.8387096774193549,0.8125,0.7878787878787878,0.7647058823529411,0.7428571428571429,0.7222222222222222,0.7027027027027027,0.6842105263157895,0.65,0.6341463414634146,0.6190476190476191,0.6046511627906976,0.5909090909090909,0.5777777777777777,0.5652173913043478,0.5416666666666666,0.5306122448979592,0.52,0.5098039215686274,0.5,0.4905660377358491,0.4814814814814815,0.4727272727272727,0.456140350877193,0.4482758620689655,0.4406779661016949,0.4333333333333333,0.4262295081967213,0.4193548387096774,0.4126984126984127,0.40625,0.3939393939393939,0.3880597014925373,0.3823529411764706,0.3768115942028986,0.3714285714285714,0.3661971830985916,0.3611111111111111,0.3513513513513514,0.3466666666666667,0.3421052631578947,0.3376623376623377,0.3333333333333333,0.3291139240506329,0.325,0.3209876543209876,0.3132530120481928,0.3095238095238095,0.3058823529411765,0.3023255813953488,0.2988505747126437,0.2954545454545455,0.2921348314606741,0.2857142857142857,0.2826086956521739,0.2795698924731183,0.2765957446808511,0.2736842105263158,0.2708333333333333,0.2680412371134021,0.2653061224489796,0.26,0.2574257425742574,0.2549019607843137,0.2524271844660194,0.25,0.2476190476190476,0.2452830188679245,0.2429906542056075,0.2385321100917431,0.2363636363636364,0.2342342342342342,0.2321428571428572,0.2300884955752212],\"type\":\"scatter\"}],                        {\"template\":{\"data\":{\"histogram2dcontour\":[{\"type\":\"histogram2dcontour\",\"colorbar\":{\"outlinewidth\":0,\"ticks\":\"\"},\"colorscale\":[[0.0,\"#0d0887\"],[0.1111111111111111,\"#46039f\"],[0.2222222222222222,\"#7201a8\"],[0.3333333333333333,\"#9c179e\"],[0.4444444444444444,\"#bd3786\"],[0.5555555555555556,\"#d8576b\"],[0.6666666666666666,\"#ed7953\"],[0.7777777777777778,\"#fb9f3a\"],[0.8888888888888888,\"#fdca26\"],[1.0,\"#f0f921\"]]}],\"choropleth\":[{\"type\":\"choropleth\",\"colorbar\":{\"outlinewidth\":0,\"ticks\":\"\"}}],\"histogram2d\":[{\"type\":\"histogram2d\",\"colorbar\":{\"outlinewidth\":0,\"ticks\":\"\"},\"colorscale\":[[0.0,\"#0d0887\"],[0.1111111111111111,\"#46039f\"],[0.2222222222222222,\"#7201a8\"],[0.3333333333333333,\"#9c179e\"],[0.4444444444444444,\"#bd3786\"],[0.5555555555555556,\"#d8576b\"],[0.6666666666666666,\"#ed7953\"],[0.7777777777777778,\"#fb9f3a\"],[0.8888888888888888,\"#fdca26\"],[1.0,\"#f0f921\"]]}],\"heatmap\":[{\"type\":\"heatmap\",\"colorbar\":{\"outlinewidth\":0,\"ticks\":\"\"},\"colorscale\":[[0.0,\"#0d0887\"],[0.1111111111111111,\"#46039f\"],[0.2222222222222222,\"#7201a8\"],[0.3333333333333333,\"#9c179e\"],[0.4444444444444444,\"#bd3786\"],[0.5555555555555556,\"#d8576b\"],[0.6666666666666666,\"#ed7953\"],[0.7777777777777778,\"#fb9f3a\"],[0.8888888888888888,\"#fdca26\"],[1.0,\"#f0f921\"]]}],\"heatmapgl\":[{\"type\":\"heatmapgl\",\"colorbar\":{\"outlinewidth\":0,\"ticks\":\"\"},\"colorscale\":[[0.0,\"#0d0887\"],[0.1111111111111111,\"#46039f\"],[0.2222222222222222,\"#7201a8\"],[0.3333333333333333,\"#9c179e\"],[0.4444444444444444,\"#bd3786\"],[0.5555555555555556,\"#d8576b\"],[0.6666666666666666,\"#ed7953\"],[0.7777777777777778,\"#fb9f3a\"],[0.8888888888888888,\"#fdca26\"],[1.0,\"#f0f921\"]]}],\"contourcarpet\":[{\"type\":\"contourcarpet\",\"colorbar\":{\"outlinewidth\":0,\"ticks\":\"\"}}],\"contour\":[{\"type\":\"contour\",\"colorbar\":{\"outlinewidth\":0,\"ticks\":\"\"},\"colorscale\":[[0.0,\"#0d0887\"],[0.1111111111111111,\"#46039f\"],[0.2222222222222222,\"#7201a8\"],[0.3333333333333333,\"#9c179e\"],[0.4444444444444444,\"#bd3786\"],[0.5555555555555556,\"#d8576b\"],[0.6666666666666666,\"#ed7953\"],[0.7777777777777778,\"#fb9f3a\"],[0.8888888888888888,\"#fdca26\"],[1.0,\"#f0f921\"]]}],\"surface\":[{\"type\":\"surface\",\"colorbar\":{\"outlinewidth\":0,\"ticks\":\"\"},\"colorscale\":[[0.0,\"#0d0887\"],[0.1111111111111111,\"#46039f\"],[0.2222222222222222,\"#7201a8\"],[0.3333333333333333,\"#9c179e\"],[0.4444444444444444,\"#bd3786\"],[0.5555555555555556,\"#d8576b\"],[0.6666666666666666,\"#ed7953\"],[0.7777777777777778,\"#fb9f3a\"],[0.8888888888888888,\"#fdca26\"],[1.0,\"#f0f921\"]]}],\"mesh3d\":[{\"type\":\"mesh3d\",\"colorbar\":{\"outlinewidth\":0,\"ticks\":\"\"}}],\"scatter\":[{\"fillpattern\":{\"fillmode\":\"overlay\",\"size\":10,\"solidity\":0.2},\"type\":\"scatter\"}],\"parcoords\":[{\"type\":\"parcoords\",\"line\":{\"colorbar\":{\"outlinewidth\":0,\"ticks\":\"\"}}}],\"scatterpolargl\":[{\"type\":\"scatterpolargl\",\"marker\":{\"colorbar\":{\"outlinewidth\":0,\"ticks\":\"\"}}}],\"bar\":[{\"error_x\":{\"color\":\"#2a3f5f\"},\"error_y\":{\"color\":\"#2a3f5f\"},\"marker\":{\"line\":{\"color\":\"#E5ECF6\",\"width\":0.5},\"pattern\":{\"fillmode\":\"overlay\",\"size\":10,\"solidity\":0.2}},\"type\":\"bar\"}],\"scattergeo\":[{\"type\":\"scattergeo\",\"marker\":{\"colorbar\":{\"outlinewidth\":0,\"ticks\":\"\"}}}],\"scatterpolar\":[{\"type\":\"scatterpolar\",\"marker\":{\"colorbar\":{\"outlinewidth\":0,\"ticks\":\"\"}}}],\"histogram\":[{\"marker\":{\"pattern\":{\"fillmode\":\"overlay\",\"size\":10,\"solidity\":0.2}},\"type\":\"histogram\"}],\"scattergl\":[{\"type\":\"scattergl\",\"marker\":{\"colorbar\":{\"outlinewidth\":0,\"ticks\":\"\"}}}],\"scatter3d\":[{\"type\":\"scatter3d\",\"line\":{\"colorbar\":{\"outlinewidth\":0,\"ticks\":\"\"}},\"marker\":{\"colorbar\":{\"outlinewidth\":0,\"ticks\":\"\"}}}],\"scattermapbox\":[{\"type\":\"scattermapbox\",\"marker\":{\"colorbar\":{\"outlinewidth\":0,\"ticks\":\"\"}}}],\"scatterternary\":[{\"type\":\"scatterternary\",\"marker\":{\"colorbar\":{\"outlinewidth\":0,\"ticks\":\"\"}}}],\"scattercarpet\":[{\"type\":\"scattercarpet\",\"marker\":{\"colorbar\":{\"outlinewidth\":0,\"ticks\":\"\"}}}],\"carpet\":[{\"aaxis\":{\"endlinecolor\":\"#2a3f5f\",\"gridcolor\":\"white\",\"linecolor\":\"white\",\"minorgridcolor\":\"white\",\"startlinecolor\":\"#2a3f5f\"},\"baxis\":{\"endlinecolor\":\"#2a3f5f\",\"gridcolor\":\"white\",\"linecolor\":\"white\",\"minorgridcolor\":\"white\",\"startlinecolor\":\"#2a3f5f\"},\"type\":\"carpet\"}],\"table\":[{\"cells\":{\"fill\":{\"color\":\"#EBF0F8\"},\"line\":{\"color\":\"white\"}},\"header\":{\"fill\":{\"color\":\"#C8D4E3\"},\"line\":{\"color\":\"white\"}},\"type\":\"table\"}],\"barpolar\":[{\"marker\":{\"line\":{\"color\":\"#E5ECF6\",\"width\":0.5},\"pattern\":{\"fillmode\":\"overlay\",\"size\":10,\"solidity\":0.2}},\"type\":\"barpolar\"}],\"pie\":[{\"automargin\":true,\"type\":\"pie\"}]},\"layout\":{\"autotypenumbers\":\"strict\",\"colorway\":[\"#636efa\",\"#EF553B\",\"#00cc96\",\"#ab63fa\",\"#FFA15A\",\"#19d3f3\",\"#FF6692\",\"#B6E880\",\"#FF97FF\",\"#FECB52\"],\"font\":{\"color\":\"#2a3f5f\"},\"hovermode\":\"closest\",\"hoverlabel\":{\"align\":\"left\"},\"paper_bgcolor\":\"white\",\"plot_bgcolor\":\"#E5ECF6\",\"polar\":{\"bgcolor\":\"#E5ECF6\",\"angularaxis\":{\"gridcolor\":\"white\",\"linecolor\":\"white\",\"ticks\":\"\"},\"radialaxis\":{\"gridcolor\":\"white\",\"linecolor\":\"white\",\"ticks\":\"\"}},\"ternary\":{\"bgcolor\":\"#E5ECF6\",\"aaxis\":{\"gridcolor\":\"white\",\"linecolor\":\"white\",\"ticks\":\"\"},\"baxis\":{\"gridcolor\":\"white\",\"linecolor\":\"white\",\"ticks\":\"\"},\"caxis\":{\"gridcolor\":\"white\",\"linecolor\":\"white\",\"ticks\":\"\"}},\"coloraxis\":{\"colorbar\":{\"outlinewidth\":0,\"ticks\":\"\"}},\"colorscale\":{\"sequential\":[[0.0,\"#0d0887\"],[0.1111111111111111,\"#46039f\"],[0.2222222222222222,\"#7201a8\"],[0.3333333333333333,\"#9c179e\"],[0.4444444444444444,\"#bd3786\"],[0.5555555555555556,\"#d8576b\"],[0.6666666666666666,\"#ed7953\"],[0.7777777777777778,\"#fb9f3a\"],[0.8888888888888888,\"#fdca26\"],[1.0,\"#f0f921\"]],\"sequentialminus\":[[0.0,\"#0d0887\"],[0.1111111111111111,\"#46039f\"],[0.2222222222222222,\"#7201a8\"],[0.3333333333333333,\"#9c179e\"],[0.4444444444444444,\"#bd3786\"],[0.5555555555555556,\"#d8576b\"],[0.6666666666666666,\"#ed7953\"],[0.7777777777777778,\"#fb9f3a\"],[0.8888888888888888,\"#fdca26\"],[1.0,\"#f0f921\"]],\"diverging\":[[0,\"#8e0152\"],[0.1,\"#c51b7d\"],[0.2,\"#de77ae\"],[0.3,\"#f1b6da\"],[0.4,\"#fde0ef\"],[0.5,\"#f7f7f7\"],[0.6,\"#e6f5d0\"],[0.7,\"#b8e186\"],[0.8,\"#7fbc41\"],[0.9,\"#4d9221\"],[1,\"#276419\"]]},\"xaxis\":{\"gridcolor\":\"white\",\"linecolor\":\"white\",\"ticks\":\"\",\"title\":{\"standoff\":15},\"zerolinecolor\":\"white\",\"automargin\":true,\"zerolinewidth\":2},\"yaxis\":{\"gridcolor\":\"white\",\"linecolor\":\"white\",\"ticks\":\"\",\"title\":{\"standoff\":15},\"zerolinecolor\":\"white\",\"automargin\":true,\"zerolinewidth\":2},\"scene\":{\"xaxis\":{\"backgroundcolor\":\"#E5ECF6\",\"gridcolor\":\"white\",\"linecolor\":\"white\",\"showbackground\":true,\"ticks\":\"\",\"zerolinecolor\":\"white\",\"gridwidth\":2},\"yaxis\":{\"backgroundcolor\":\"#E5ECF6\",\"gridcolor\":\"white\",\"linecolor\":\"white\",\"showbackground\":true,\"ticks\":\"\",\"zerolinecolor\":\"white\",\"gridwidth\":2},\"zaxis\":{\"backgroundcolor\":\"#E5ECF6\",\"gridcolor\":\"white\",\"linecolor\":\"white\",\"showbackground\":true,\"ticks\":\"\",\"zerolinecolor\":\"white\",\"gridwidth\":2}},\"shapedefaults\":{\"line\":{\"color\":\"#2a3f5f\"}},\"annotationdefaults\":{\"arrowcolor\":\"#2a3f5f\",\"arrowhead\":0,\"arrowwidth\":1},\"geo\":{\"bgcolor\":\"white\",\"landcolor\":\"#E5ECF6\",\"subunitcolor\":\"white\",\"showland\":true,\"showlakes\":true,\"lakecolor\":\"white\"},\"title\":{\"x\":0.05},\"mapbox\":{\"style\":\"light\"}}},\"shapes\":[{\"line\":{\"dash\":\"dash\",\"width\":0.5},\"type\":\"line\",\"x0\":0.5,\"x1\":0.5,\"y0\":0,\"y1\":1}],\"xaxis\":{\"title\":{\"text\":\"Threshold\"},\"range\":[-0.05,1.05],\"constrain\":\"domain\"},\"yaxis\":{\"title\":{\"text\":\"Metric\"},\"range\":[-0.05,1.05],\"constrain\":\"domain\"},\"title\":{\"text\":\"Threshold-Metric Plot<br>diagnosis\",\"x\":0.5,\"xref\":\"paper\"},\"showlegend\":true},                        {\"responsive\": true}                    ).then(function(){\n",
       "                            \n",
       "var gd = document.getElementById('3ef95526-ff8b-4a07-b551-1ba9c787170c');\n",
       "var x = new MutationObserver(function (mutations, observer) {{\n",
       "        var display = window.getComputedStyle(gd).display;\n",
       "        if (!display || display === 'none') {{\n",
       "            console.log([gd, 'removed!']);\n",
       "            Plotly.purge(gd);\n",
       "            observer.disconnect();\n",
       "        }}\n",
       "}});\n",
       "\n",
       "// Listen for the removal of the full notebook cells\n",
       "var notebookContainer = gd.closest('#notebook-container');\n",
       "if (notebookContainer) {{\n",
       "    x.observe(notebookContainer, {childList: true});\n",
       "}}\n",
       "\n",
       "// Listen for the clearing of the current output cell\n",
       "var outputEl = gd.closest('.output');\n",
       "if (outputEl) {{\n",
       "    x.observe(outputEl, {childList: true});\n",
       "}}\n",
       "\n",
       "                        })                };                });            </script>        </div>"
      ]
     },
     "metadata": {},
     "output_type": "display_data"
    }
   ],
   "source": [
    "figures['threshold']"
   ]
  },
  {
   "cell_type": "code",
   "execution_count": 37,
   "id": "63364f4e",
   "metadata": {},
   "outputs": [
    {
     "data": {
      "application/vnd.plotly.v1+json": {
       "config": {
        "plotlyServerURL": "https://plot.ly"
       },
       "data": [
        {
         "line": {
          "color": "rgb(99,110,250)"
         },
         "mode": "lines",
         "name": "AUC=0.9987",
         "type": "scatter",
         "x": [
          0,
          0,
          0,
          0.11538461538461539,
          0.11538461538461539,
          1
         ],
         "y": [
          0,
          0.011494252873563218,
          0.9885057471264368,
          0.9885057471264368,
          1,
          1
         ]
        }
       ],
       "layout": {
        "shapes": [
         {
          "line": {
           "dash": "dash",
           "width": 0.5
          },
          "type": "line",
          "x0": 0,
          "x1": 1,
          "y0": 0,
          "y1": 1
         }
        ],
        "showlegend": true,
        "template": {
         "data": {
          "bar": [
           {
            "error_x": {
             "color": "#2a3f5f"
            },
            "error_y": {
             "color": "#2a3f5f"
            },
            "marker": {
             "line": {
              "color": "#E5ECF6",
              "width": 0.5
             },
             "pattern": {
              "fillmode": "overlay",
              "size": 10,
              "solidity": 0.2
             }
            },
            "type": "bar"
           }
          ],
          "barpolar": [
           {
            "marker": {
             "line": {
              "color": "#E5ECF6",
              "width": 0.5
             },
             "pattern": {
              "fillmode": "overlay",
              "size": 10,
              "solidity": 0.2
             }
            },
            "type": "barpolar"
           }
          ],
          "carpet": [
           {
            "aaxis": {
             "endlinecolor": "#2a3f5f",
             "gridcolor": "white",
             "linecolor": "white",
             "minorgridcolor": "white",
             "startlinecolor": "#2a3f5f"
            },
            "baxis": {
             "endlinecolor": "#2a3f5f",
             "gridcolor": "white",
             "linecolor": "white",
             "minorgridcolor": "white",
             "startlinecolor": "#2a3f5f"
            },
            "type": "carpet"
           }
          ],
          "choropleth": [
           {
            "colorbar": {
             "outlinewidth": 0,
             "ticks": ""
            },
            "type": "choropleth"
           }
          ],
          "contour": [
           {
            "colorbar": {
             "outlinewidth": 0,
             "ticks": ""
            },
            "colorscale": [
             [
              0,
              "#0d0887"
             ],
             [
              0.1111111111111111,
              "#46039f"
             ],
             [
              0.2222222222222222,
              "#7201a8"
             ],
             [
              0.3333333333333333,
              "#9c179e"
             ],
             [
              0.4444444444444444,
              "#bd3786"
             ],
             [
              0.5555555555555556,
              "#d8576b"
             ],
             [
              0.6666666666666666,
              "#ed7953"
             ],
             [
              0.7777777777777778,
              "#fb9f3a"
             ],
             [
              0.8888888888888888,
              "#fdca26"
             ],
             [
              1,
              "#f0f921"
             ]
            ],
            "type": "contour"
           }
          ],
          "contourcarpet": [
           {
            "colorbar": {
             "outlinewidth": 0,
             "ticks": ""
            },
            "type": "contourcarpet"
           }
          ],
          "heatmap": [
           {
            "colorbar": {
             "outlinewidth": 0,
             "ticks": ""
            },
            "colorscale": [
             [
              0,
              "#0d0887"
             ],
             [
              0.1111111111111111,
              "#46039f"
             ],
             [
              0.2222222222222222,
              "#7201a8"
             ],
             [
              0.3333333333333333,
              "#9c179e"
             ],
             [
              0.4444444444444444,
              "#bd3786"
             ],
             [
              0.5555555555555556,
              "#d8576b"
             ],
             [
              0.6666666666666666,
              "#ed7953"
             ],
             [
              0.7777777777777778,
              "#fb9f3a"
             ],
             [
              0.8888888888888888,
              "#fdca26"
             ],
             [
              1,
              "#f0f921"
             ]
            ],
            "type": "heatmap"
           }
          ],
          "heatmapgl": [
           {
            "colorbar": {
             "outlinewidth": 0,
             "ticks": ""
            },
            "colorscale": [
             [
              0,
              "#0d0887"
             ],
             [
              0.1111111111111111,
              "#46039f"
             ],
             [
              0.2222222222222222,
              "#7201a8"
             ],
             [
              0.3333333333333333,
              "#9c179e"
             ],
             [
              0.4444444444444444,
              "#bd3786"
             ],
             [
              0.5555555555555556,
              "#d8576b"
             ],
             [
              0.6666666666666666,
              "#ed7953"
             ],
             [
              0.7777777777777778,
              "#fb9f3a"
             ],
             [
              0.8888888888888888,
              "#fdca26"
             ],
             [
              1,
              "#f0f921"
             ]
            ],
            "type": "heatmapgl"
           }
          ],
          "histogram": [
           {
            "marker": {
             "pattern": {
              "fillmode": "overlay",
              "size": 10,
              "solidity": 0.2
             }
            },
            "type": "histogram"
           }
          ],
          "histogram2d": [
           {
            "colorbar": {
             "outlinewidth": 0,
             "ticks": ""
            },
            "colorscale": [
             [
              0,
              "#0d0887"
             ],
             [
              0.1111111111111111,
              "#46039f"
             ],
             [
              0.2222222222222222,
              "#7201a8"
             ],
             [
              0.3333333333333333,
              "#9c179e"
             ],
             [
              0.4444444444444444,
              "#bd3786"
             ],
             [
              0.5555555555555556,
              "#d8576b"
             ],
             [
              0.6666666666666666,
              "#ed7953"
             ],
             [
              0.7777777777777778,
              "#fb9f3a"
             ],
             [
              0.8888888888888888,
              "#fdca26"
             ],
             [
              1,
              "#f0f921"
             ]
            ],
            "type": "histogram2d"
           }
          ],
          "histogram2dcontour": [
           {
            "colorbar": {
             "outlinewidth": 0,
             "ticks": ""
            },
            "colorscale": [
             [
              0,
              "#0d0887"
             ],
             [
              0.1111111111111111,
              "#46039f"
             ],
             [
              0.2222222222222222,
              "#7201a8"
             ],
             [
              0.3333333333333333,
              "#9c179e"
             ],
             [
              0.4444444444444444,
              "#bd3786"
             ],
             [
              0.5555555555555556,
              "#d8576b"
             ],
             [
              0.6666666666666666,
              "#ed7953"
             ],
             [
              0.7777777777777778,
              "#fb9f3a"
             ],
             [
              0.8888888888888888,
              "#fdca26"
             ],
             [
              1,
              "#f0f921"
             ]
            ],
            "type": "histogram2dcontour"
           }
          ],
          "mesh3d": [
           {
            "colorbar": {
             "outlinewidth": 0,
             "ticks": ""
            },
            "type": "mesh3d"
           }
          ],
          "parcoords": [
           {
            "line": {
             "colorbar": {
              "outlinewidth": 0,
              "ticks": ""
             }
            },
            "type": "parcoords"
           }
          ],
          "pie": [
           {
            "automargin": true,
            "type": "pie"
           }
          ],
          "scatter": [
           {
            "fillpattern": {
             "fillmode": "overlay",
             "size": 10,
             "solidity": 0.2
            },
            "type": "scatter"
           }
          ],
          "scatter3d": [
           {
            "line": {
             "colorbar": {
              "outlinewidth": 0,
              "ticks": ""
             }
            },
            "marker": {
             "colorbar": {
              "outlinewidth": 0,
              "ticks": ""
             }
            },
            "type": "scatter3d"
           }
          ],
          "scattercarpet": [
           {
            "marker": {
             "colorbar": {
              "outlinewidth": 0,
              "ticks": ""
             }
            },
            "type": "scattercarpet"
           }
          ],
          "scattergeo": [
           {
            "marker": {
             "colorbar": {
              "outlinewidth": 0,
              "ticks": ""
             }
            },
            "type": "scattergeo"
           }
          ],
          "scattergl": [
           {
            "marker": {
             "colorbar": {
              "outlinewidth": 0,
              "ticks": ""
             }
            },
            "type": "scattergl"
           }
          ],
          "scattermapbox": [
           {
            "marker": {
             "colorbar": {
              "outlinewidth": 0,
              "ticks": ""
             }
            },
            "type": "scattermapbox"
           }
          ],
          "scatterpolar": [
           {
            "marker": {
             "colorbar": {
              "outlinewidth": 0,
              "ticks": ""
             }
            },
            "type": "scatterpolar"
           }
          ],
          "scatterpolargl": [
           {
            "marker": {
             "colorbar": {
              "outlinewidth": 0,
              "ticks": ""
             }
            },
            "type": "scatterpolargl"
           }
          ],
          "scatterternary": [
           {
            "marker": {
             "colorbar": {
              "outlinewidth": 0,
              "ticks": ""
             }
            },
            "type": "scatterternary"
           }
          ],
          "surface": [
           {
            "colorbar": {
             "outlinewidth": 0,
             "ticks": ""
            },
            "colorscale": [
             [
              0,
              "#0d0887"
             ],
             [
              0.1111111111111111,
              "#46039f"
             ],
             [
              0.2222222222222222,
              "#7201a8"
             ],
             [
              0.3333333333333333,
              "#9c179e"
             ],
             [
              0.4444444444444444,
              "#bd3786"
             ],
             [
              0.5555555555555556,
              "#d8576b"
             ],
             [
              0.6666666666666666,
              "#ed7953"
             ],
             [
              0.7777777777777778,
              "#fb9f3a"
             ],
             [
              0.8888888888888888,
              "#fdca26"
             ],
             [
              1,
              "#f0f921"
             ]
            ],
            "type": "surface"
           }
          ],
          "table": [
           {
            "cells": {
             "fill": {
              "color": "#EBF0F8"
             },
             "line": {
              "color": "white"
             }
            },
            "header": {
             "fill": {
              "color": "#C8D4E3"
             },
             "line": {
              "color": "white"
             }
            },
            "type": "table"
           }
          ]
         },
         "layout": {
          "annotationdefaults": {
           "arrowcolor": "#2a3f5f",
           "arrowhead": 0,
           "arrowwidth": 1
          },
          "autotypenumbers": "strict",
          "coloraxis": {
           "colorbar": {
            "outlinewidth": 0,
            "ticks": ""
           }
          },
          "colorscale": {
           "diverging": [
            [
             0,
             "#8e0152"
            ],
            [
             0.1,
             "#c51b7d"
            ],
            [
             0.2,
             "#de77ae"
            ],
            [
             0.3,
             "#f1b6da"
            ],
            [
             0.4,
             "#fde0ef"
            ],
            [
             0.5,
             "#f7f7f7"
            ],
            [
             0.6,
             "#e6f5d0"
            ],
            [
             0.7,
             "#b8e186"
            ],
            [
             0.8,
             "#7fbc41"
            ],
            [
             0.9,
             "#4d9221"
            ],
            [
             1,
             "#276419"
            ]
           ],
           "sequential": [
            [
             0,
             "#0d0887"
            ],
            [
             0.1111111111111111,
             "#46039f"
            ],
            [
             0.2222222222222222,
             "#7201a8"
            ],
            [
             0.3333333333333333,
             "#9c179e"
            ],
            [
             0.4444444444444444,
             "#bd3786"
            ],
            [
             0.5555555555555556,
             "#d8576b"
            ],
            [
             0.6666666666666666,
             "#ed7953"
            ],
            [
             0.7777777777777778,
             "#fb9f3a"
            ],
            [
             0.8888888888888888,
             "#fdca26"
            ],
            [
             1,
             "#f0f921"
            ]
           ],
           "sequentialminus": [
            [
             0,
             "#0d0887"
            ],
            [
             0.1111111111111111,
             "#46039f"
            ],
            [
             0.2222222222222222,
             "#7201a8"
            ],
            [
             0.3333333333333333,
             "#9c179e"
            ],
            [
             0.4444444444444444,
             "#bd3786"
            ],
            [
             0.5555555555555556,
             "#d8576b"
            ],
            [
             0.6666666666666666,
             "#ed7953"
            ],
            [
             0.7777777777777778,
             "#fb9f3a"
            ],
            [
             0.8888888888888888,
             "#fdca26"
            ],
            [
             1,
             "#f0f921"
            ]
           ]
          },
          "colorway": [
           "#636efa",
           "#EF553B",
           "#00cc96",
           "#ab63fa",
           "#FFA15A",
           "#19d3f3",
           "#FF6692",
           "#B6E880",
           "#FF97FF",
           "#FECB52"
          ],
          "font": {
           "color": "#2a3f5f"
          },
          "geo": {
           "bgcolor": "white",
           "lakecolor": "white",
           "landcolor": "#E5ECF6",
           "showlakes": true,
           "showland": true,
           "subunitcolor": "white"
          },
          "hoverlabel": {
           "align": "left"
          },
          "hovermode": "closest",
          "mapbox": {
           "style": "light"
          },
          "paper_bgcolor": "white",
          "plot_bgcolor": "#E5ECF6",
          "polar": {
           "angularaxis": {
            "gridcolor": "white",
            "linecolor": "white",
            "ticks": ""
           },
           "bgcolor": "#E5ECF6",
           "radialaxis": {
            "gridcolor": "white",
            "linecolor": "white",
            "ticks": ""
           }
          },
          "scene": {
           "xaxis": {
            "backgroundcolor": "#E5ECF6",
            "gridcolor": "white",
            "gridwidth": 2,
            "linecolor": "white",
            "showbackground": true,
            "ticks": "",
            "zerolinecolor": "white"
           },
           "yaxis": {
            "backgroundcolor": "#E5ECF6",
            "gridcolor": "white",
            "gridwidth": 2,
            "linecolor": "white",
            "showbackground": true,
            "ticks": "",
            "zerolinecolor": "white"
           },
           "zaxis": {
            "backgroundcolor": "#E5ECF6",
            "gridcolor": "white",
            "gridwidth": 2,
            "linecolor": "white",
            "showbackground": true,
            "ticks": "",
            "zerolinecolor": "white"
           }
          },
          "shapedefaults": {
           "line": {
            "color": "#2a3f5f"
           }
          },
          "ternary": {
           "aaxis": {
            "gridcolor": "white",
            "linecolor": "white",
            "ticks": ""
           },
           "baxis": {
            "gridcolor": "white",
            "linecolor": "white",
            "ticks": ""
           },
           "bgcolor": "#E5ECF6",
           "caxis": {
            "gridcolor": "white",
            "linecolor": "white",
            "ticks": ""
           }
          },
          "title": {
           "x": 0.05
          },
          "xaxis": {
           "automargin": true,
           "gridcolor": "white",
           "linecolor": "white",
           "ticks": "",
           "title": {
            "standoff": 15
           },
           "zerolinecolor": "white",
           "zerolinewidth": 2
          },
          "yaxis": {
           "automargin": true,
           "gridcolor": "white",
           "linecolor": "white",
           "ticks": "",
           "title": {
            "standoff": 15
           },
           "zerolinecolor": "white",
           "zerolinewidth": 2
          }
         }
        },
        "title": {
         "text": "Receiver Operating Characteristic<br>diagnosis",
         "x": 0.5,
         "xref": "paper"
        },
        "xaxis": {
         "constrain": "domain",
         "range": [
          -0.05,
          1.05
         ],
         "title": {
          "text": "False positive rate"
         }
        },
        "yaxis": {
         "constrain": "domain",
         "range": [
          -0.05,
          1.05
         ],
         "scaleanchor": "x",
         "title": {
          "text": "True positive rate"
         }
        }
       }
      },
      "text/html": [
       "<div>                            <div id=\"dc6d2224-a5eb-45c8-84c8-3c9145c49b4f\" class=\"plotly-graph-div\" style=\"height:525px; width:100%;\"></div>            <script type=\"text/javascript\">                require([\"plotly\"], function(Plotly) {                    window.PLOTLYENV=window.PLOTLYENV || {};                                    if (document.getElementById(\"dc6d2224-a5eb-45c8-84c8-3c9145c49b4f\")) {                    Plotly.newPlot(                        \"dc6d2224-a5eb-45c8-84c8-3c9145c49b4f\",                        [{\"line\":{\"color\":\"rgb(99,110,250)\"},\"mode\":\"lines\",\"name\":\"AUC=0.9987\",\"x\":[0.0,0.0,0.0,0.11538461538461539,0.11538461538461539,1.0],\"y\":[0.0,0.011494252873563218,0.9885057471264368,0.9885057471264368,1.0,1.0],\"type\":\"scatter\"}],                        {\"template\":{\"data\":{\"histogram2dcontour\":[{\"type\":\"histogram2dcontour\",\"colorbar\":{\"outlinewidth\":0,\"ticks\":\"\"},\"colorscale\":[[0.0,\"#0d0887\"],[0.1111111111111111,\"#46039f\"],[0.2222222222222222,\"#7201a8\"],[0.3333333333333333,\"#9c179e\"],[0.4444444444444444,\"#bd3786\"],[0.5555555555555556,\"#d8576b\"],[0.6666666666666666,\"#ed7953\"],[0.7777777777777778,\"#fb9f3a\"],[0.8888888888888888,\"#fdca26\"],[1.0,\"#f0f921\"]]}],\"choropleth\":[{\"type\":\"choropleth\",\"colorbar\":{\"outlinewidth\":0,\"ticks\":\"\"}}],\"histogram2d\":[{\"type\":\"histogram2d\",\"colorbar\":{\"outlinewidth\":0,\"ticks\":\"\"},\"colorscale\":[[0.0,\"#0d0887\"],[0.1111111111111111,\"#46039f\"],[0.2222222222222222,\"#7201a8\"],[0.3333333333333333,\"#9c179e\"],[0.4444444444444444,\"#bd3786\"],[0.5555555555555556,\"#d8576b\"],[0.6666666666666666,\"#ed7953\"],[0.7777777777777778,\"#fb9f3a\"],[0.8888888888888888,\"#fdca26\"],[1.0,\"#f0f921\"]]}],\"heatmap\":[{\"type\":\"heatmap\",\"colorbar\":{\"outlinewidth\":0,\"ticks\":\"\"},\"colorscale\":[[0.0,\"#0d0887\"],[0.1111111111111111,\"#46039f\"],[0.2222222222222222,\"#7201a8\"],[0.3333333333333333,\"#9c179e\"],[0.4444444444444444,\"#bd3786\"],[0.5555555555555556,\"#d8576b\"],[0.6666666666666666,\"#ed7953\"],[0.7777777777777778,\"#fb9f3a\"],[0.8888888888888888,\"#fdca26\"],[1.0,\"#f0f921\"]]}],\"heatmapgl\":[{\"type\":\"heatmapgl\",\"colorbar\":{\"outlinewidth\":0,\"ticks\":\"\"},\"colorscale\":[[0.0,\"#0d0887\"],[0.1111111111111111,\"#46039f\"],[0.2222222222222222,\"#7201a8\"],[0.3333333333333333,\"#9c179e\"],[0.4444444444444444,\"#bd3786\"],[0.5555555555555556,\"#d8576b\"],[0.6666666666666666,\"#ed7953\"],[0.7777777777777778,\"#fb9f3a\"],[0.8888888888888888,\"#fdca26\"],[1.0,\"#f0f921\"]]}],\"contourcarpet\":[{\"type\":\"contourcarpet\",\"colorbar\":{\"outlinewidth\":0,\"ticks\":\"\"}}],\"contour\":[{\"type\":\"contour\",\"colorbar\":{\"outlinewidth\":0,\"ticks\":\"\"},\"colorscale\":[[0.0,\"#0d0887\"],[0.1111111111111111,\"#46039f\"],[0.2222222222222222,\"#7201a8\"],[0.3333333333333333,\"#9c179e\"],[0.4444444444444444,\"#bd3786\"],[0.5555555555555556,\"#d8576b\"],[0.6666666666666666,\"#ed7953\"],[0.7777777777777778,\"#fb9f3a\"],[0.8888888888888888,\"#fdca26\"],[1.0,\"#f0f921\"]]}],\"surface\":[{\"type\":\"surface\",\"colorbar\":{\"outlinewidth\":0,\"ticks\":\"\"},\"colorscale\":[[0.0,\"#0d0887\"],[0.1111111111111111,\"#46039f\"],[0.2222222222222222,\"#7201a8\"],[0.3333333333333333,\"#9c179e\"],[0.4444444444444444,\"#bd3786\"],[0.5555555555555556,\"#d8576b\"],[0.6666666666666666,\"#ed7953\"],[0.7777777777777778,\"#fb9f3a\"],[0.8888888888888888,\"#fdca26\"],[1.0,\"#f0f921\"]]}],\"mesh3d\":[{\"type\":\"mesh3d\",\"colorbar\":{\"outlinewidth\":0,\"ticks\":\"\"}}],\"scatter\":[{\"fillpattern\":{\"fillmode\":\"overlay\",\"size\":10,\"solidity\":0.2},\"type\":\"scatter\"}],\"parcoords\":[{\"type\":\"parcoords\",\"line\":{\"colorbar\":{\"outlinewidth\":0,\"ticks\":\"\"}}}],\"scatterpolargl\":[{\"type\":\"scatterpolargl\",\"marker\":{\"colorbar\":{\"outlinewidth\":0,\"ticks\":\"\"}}}],\"bar\":[{\"error_x\":{\"color\":\"#2a3f5f\"},\"error_y\":{\"color\":\"#2a3f5f\"},\"marker\":{\"line\":{\"color\":\"#E5ECF6\",\"width\":0.5},\"pattern\":{\"fillmode\":\"overlay\",\"size\":10,\"solidity\":0.2}},\"type\":\"bar\"}],\"scattergeo\":[{\"type\":\"scattergeo\",\"marker\":{\"colorbar\":{\"outlinewidth\":0,\"ticks\":\"\"}}}],\"scatterpolar\":[{\"type\":\"scatterpolar\",\"marker\":{\"colorbar\":{\"outlinewidth\":0,\"ticks\":\"\"}}}],\"histogram\":[{\"marker\":{\"pattern\":{\"fillmode\":\"overlay\",\"size\":10,\"solidity\":0.2}},\"type\":\"histogram\"}],\"scattergl\":[{\"type\":\"scattergl\",\"marker\":{\"colorbar\":{\"outlinewidth\":0,\"ticks\":\"\"}}}],\"scatter3d\":[{\"type\":\"scatter3d\",\"line\":{\"colorbar\":{\"outlinewidth\":0,\"ticks\":\"\"}},\"marker\":{\"colorbar\":{\"outlinewidth\":0,\"ticks\":\"\"}}}],\"scattermapbox\":[{\"type\":\"scattermapbox\",\"marker\":{\"colorbar\":{\"outlinewidth\":0,\"ticks\":\"\"}}}],\"scatterternary\":[{\"type\":\"scatterternary\",\"marker\":{\"colorbar\":{\"outlinewidth\":0,\"ticks\":\"\"}}}],\"scattercarpet\":[{\"type\":\"scattercarpet\",\"marker\":{\"colorbar\":{\"outlinewidth\":0,\"ticks\":\"\"}}}],\"carpet\":[{\"aaxis\":{\"endlinecolor\":\"#2a3f5f\",\"gridcolor\":\"white\",\"linecolor\":\"white\",\"minorgridcolor\":\"white\",\"startlinecolor\":\"#2a3f5f\"},\"baxis\":{\"endlinecolor\":\"#2a3f5f\",\"gridcolor\":\"white\",\"linecolor\":\"white\",\"minorgridcolor\":\"white\",\"startlinecolor\":\"#2a3f5f\"},\"type\":\"carpet\"}],\"table\":[{\"cells\":{\"fill\":{\"color\":\"#EBF0F8\"},\"line\":{\"color\":\"white\"}},\"header\":{\"fill\":{\"color\":\"#C8D4E3\"},\"line\":{\"color\":\"white\"}},\"type\":\"table\"}],\"barpolar\":[{\"marker\":{\"line\":{\"color\":\"#E5ECF6\",\"width\":0.5},\"pattern\":{\"fillmode\":\"overlay\",\"size\":10,\"solidity\":0.2}},\"type\":\"barpolar\"}],\"pie\":[{\"automargin\":true,\"type\":\"pie\"}]},\"layout\":{\"autotypenumbers\":\"strict\",\"colorway\":[\"#636efa\",\"#EF553B\",\"#00cc96\",\"#ab63fa\",\"#FFA15A\",\"#19d3f3\",\"#FF6692\",\"#B6E880\",\"#FF97FF\",\"#FECB52\"],\"font\":{\"color\":\"#2a3f5f\"},\"hovermode\":\"closest\",\"hoverlabel\":{\"align\":\"left\"},\"paper_bgcolor\":\"white\",\"plot_bgcolor\":\"#E5ECF6\",\"polar\":{\"bgcolor\":\"#E5ECF6\",\"angularaxis\":{\"gridcolor\":\"white\",\"linecolor\":\"white\",\"ticks\":\"\"},\"radialaxis\":{\"gridcolor\":\"white\",\"linecolor\":\"white\",\"ticks\":\"\"}},\"ternary\":{\"bgcolor\":\"#E5ECF6\",\"aaxis\":{\"gridcolor\":\"white\",\"linecolor\":\"white\",\"ticks\":\"\"},\"baxis\":{\"gridcolor\":\"white\",\"linecolor\":\"white\",\"ticks\":\"\"},\"caxis\":{\"gridcolor\":\"white\",\"linecolor\":\"white\",\"ticks\":\"\"}},\"coloraxis\":{\"colorbar\":{\"outlinewidth\":0,\"ticks\":\"\"}},\"colorscale\":{\"sequential\":[[0.0,\"#0d0887\"],[0.1111111111111111,\"#46039f\"],[0.2222222222222222,\"#7201a8\"],[0.3333333333333333,\"#9c179e\"],[0.4444444444444444,\"#bd3786\"],[0.5555555555555556,\"#d8576b\"],[0.6666666666666666,\"#ed7953\"],[0.7777777777777778,\"#fb9f3a\"],[0.8888888888888888,\"#fdca26\"],[1.0,\"#f0f921\"]],\"sequentialminus\":[[0.0,\"#0d0887\"],[0.1111111111111111,\"#46039f\"],[0.2222222222222222,\"#7201a8\"],[0.3333333333333333,\"#9c179e\"],[0.4444444444444444,\"#bd3786\"],[0.5555555555555556,\"#d8576b\"],[0.6666666666666666,\"#ed7953\"],[0.7777777777777778,\"#fb9f3a\"],[0.8888888888888888,\"#fdca26\"],[1.0,\"#f0f921\"]],\"diverging\":[[0,\"#8e0152\"],[0.1,\"#c51b7d\"],[0.2,\"#de77ae\"],[0.3,\"#f1b6da\"],[0.4,\"#fde0ef\"],[0.5,\"#f7f7f7\"],[0.6,\"#e6f5d0\"],[0.7,\"#b8e186\"],[0.8,\"#7fbc41\"],[0.9,\"#4d9221\"],[1,\"#276419\"]]},\"xaxis\":{\"gridcolor\":\"white\",\"linecolor\":\"white\",\"ticks\":\"\",\"title\":{\"standoff\":15},\"zerolinecolor\":\"white\",\"automargin\":true,\"zerolinewidth\":2},\"yaxis\":{\"gridcolor\":\"white\",\"linecolor\":\"white\",\"ticks\":\"\",\"title\":{\"standoff\":15},\"zerolinecolor\":\"white\",\"automargin\":true,\"zerolinewidth\":2},\"scene\":{\"xaxis\":{\"backgroundcolor\":\"#E5ECF6\",\"gridcolor\":\"white\",\"linecolor\":\"white\",\"showbackground\":true,\"ticks\":\"\",\"zerolinecolor\":\"white\",\"gridwidth\":2},\"yaxis\":{\"backgroundcolor\":\"#E5ECF6\",\"gridcolor\":\"white\",\"linecolor\":\"white\",\"showbackground\":true,\"ticks\":\"\",\"zerolinecolor\":\"white\",\"gridwidth\":2},\"zaxis\":{\"backgroundcolor\":\"#E5ECF6\",\"gridcolor\":\"white\",\"linecolor\":\"white\",\"showbackground\":true,\"ticks\":\"\",\"zerolinecolor\":\"white\",\"gridwidth\":2}},\"shapedefaults\":{\"line\":{\"color\":\"#2a3f5f\"}},\"annotationdefaults\":{\"arrowcolor\":\"#2a3f5f\",\"arrowhead\":0,\"arrowwidth\":1},\"geo\":{\"bgcolor\":\"white\",\"landcolor\":\"#E5ECF6\",\"subunitcolor\":\"white\",\"showland\":true,\"showlakes\":true,\"lakecolor\":\"white\"},\"title\":{\"x\":0.05},\"mapbox\":{\"style\":\"light\"}}},\"shapes\":[{\"line\":{\"dash\":\"dash\",\"width\":0.5},\"type\":\"line\",\"x0\":0,\"x1\":1,\"y0\":0,\"y1\":1}],\"xaxis\":{\"title\":{\"text\":\"False positive rate\"},\"range\":[-0.05,1.05],\"constrain\":\"domain\"},\"yaxis\":{\"title\":{\"text\":\"True positive rate\"},\"scaleanchor\":\"x\",\"range\":[-0.05,1.05],\"constrain\":\"domain\"},\"title\":{\"text\":\"Receiver Operating Characteristic<br>diagnosis\",\"x\":0.5,\"xref\":\"paper\"},\"showlegend\":true},                        {\"responsive\": true}                    ).then(function(){\n",
       "                            \n",
       "var gd = document.getElementById('dc6d2224-a5eb-45c8-84c8-3c9145c49b4f');\n",
       "var x = new MutationObserver(function (mutations, observer) {{\n",
       "        var display = window.getComputedStyle(gd).display;\n",
       "        if (!display || display === 'none') {{\n",
       "            console.log([gd, 'removed!']);\n",
       "            Plotly.purge(gd);\n",
       "            observer.disconnect();\n",
       "        }}\n",
       "}});\n",
       "\n",
       "// Listen for the removal of the full notebook cells\n",
       "var notebookContainer = gd.closest('#notebook-container');\n",
       "if (notebookContainer) {{\n",
       "    x.observe(notebookContainer, {childList: true});\n",
       "}}\n",
       "\n",
       "// Listen for the clearing of the current output cell\n",
       "var outputEl = gd.closest('.output');\n",
       "if (outputEl) {{\n",
       "    x.observe(outputEl, {childList: true});\n",
       "}}\n",
       "\n",
       "                        })                };                });            </script>        </div>"
      ]
     },
     "metadata": {},
     "output_type": "display_data"
    }
   ],
   "source": [
    "figures['roc_curve']"
   ]
  },
  {
   "cell_type": "code",
   "execution_count": 38,
   "id": "14f37ef5",
   "metadata": {},
   "outputs": [
    {
     "data": {
      "application/vnd.plotly.v1+json": {
       "config": {
        "plotlyServerURL": "https://plot.ly"
       },
       "data": [
        {
         "hoverinfo": "text",
         "hovertext": [
          "True label: 1<br>Predicted label: 0<br>Count: 1",
          "True label: 1<br>Predicted label: 1<br>Count: 86",
          "True label: 0<br>Predicted label: 0<br>Count: 24",
          "True label: 0<br>Predicted label: 1<br>Count: 2",
          "<b>Predicted label: 0</b><br>Count: 25<br>NPV: 96.00%",
          "<b>Predicted label: 1</b><br>Count: 88<br>PPV: 97.73%",
          "<b>True label: 0</b><br>Count: 26<br>Specificity: 92.31%",
          "<b>True label: 1</b><br>Count: 87<br>Sensitivity: 98.85%",
          "<b>Total</b><br>Count: 113<br>Accuracy: 97.35%"
         ],
         "mode": "text",
         "text": [
          "<b>1</b>",
          "<b>86</b>",
          "<b>24</b>",
          "<b>2</b>",
          "<b>25</b><br>96.00%",
          "<b>88</b><br>97.73%",
          "<b>26</b><br>92.31%",
          "<b>87</b><br>98.85%",
          "<b>113</b><br>97.35%"
         ],
         "textfont": {
          "color": [
           "rgb(8,48,107)",
           "rgb(248,252,256)",
           "rgb(248,252,256)",
           "rgb(8,48,107)",
           "White",
           "White",
           "White",
           "White",
           "White"
          ]
         },
         "type": "scatter",
         "x": [
          0.5,
          1.5,
          0.5,
          1.5,
          0.5,
          1.5,
          2.5,
          2.5,
          2.5
         ],
         "y": [
          1.5,
          1.5,
          2.5,
          2.5,
          0.5,
          0.5,
          2.5,
          1.5,
          0.5
         ]
        }
       ],
       "layout": {
        "hovermode": "closest",
        "shapes": [
         {
          "fillcolor": "rgb(8,68,137)",
          "layer": "below",
          "line": {
           "color": "White",
           "width": 1
          },
          "type": "rect",
          "x0": 0,
          "x1": 1,
          "y0": 3,
          "y1": 2
         },
         {
          "fillcolor": "rgb(233,242,251)",
          "layer": "below",
          "line": {
           "color": "White",
           "width": 1
          },
          "type": "rect",
          "x0": 1,
          "x1": 2,
          "y0": 3,
          "y1": 2
         },
         {
          "fillcolor": "rgb(246,251,255)",
          "layer": "below",
          "line": {
           "color": "White",
           "width": 1
          },
          "type": "rect",
          "x0": 0,
          "x1": 1,
          "y0": 2,
          "y1": 1
         },
         {
          "fillcolor": "rgb(8,50,111)",
          "layer": "below",
          "line": {
           "color": "White",
           "width": 1
          },
          "type": "rect",
          "x0": 1,
          "x1": 2,
          "y0": 2,
          "y1": 1
         },
         {
          "fillcolor": "DarkGray",
          "layer": "below",
          "line": {
           "color": "White",
           "width": 1
          },
          "type": "rect",
          "x0": 0,
          "x1": 1,
          "y0": 0,
          "y1": 1
         },
         {
          "fillcolor": "DarkGray",
          "layer": "below",
          "line": {
           "color": "White",
           "width": 1
          },
          "type": "rect",
          "x0": 2,
          "x1": 3,
          "y0": 1,
          "y1": 2
         },
         {
          "fillcolor": "DarkGray",
          "layer": "below",
          "line": {
           "color": "White",
           "width": 1
          },
          "type": "rect",
          "x0": 1,
          "x1": 2,
          "y0": 0,
          "y1": 1
         },
         {
          "fillcolor": "DarkGray",
          "layer": "below",
          "line": {
           "color": "White",
           "width": 1
          },
          "type": "rect",
          "x0": 2,
          "x1": 3,
          "y0": 2,
          "y1": 3
         },
         {
          "fillcolor": "Gray",
          "layer": "below",
          "line": {
           "color": "White",
           "width": 1
          },
          "type": "rect",
          "x0": 2,
          "x1": 3,
          "y0": 0,
          "y1": 1
         }
        ],
        "template": {
         "data": {
          "bar": [
           {
            "error_x": {
             "color": "#2a3f5f"
            },
            "error_y": {
             "color": "#2a3f5f"
            },
            "marker": {
             "line": {
              "color": "#E5ECF6",
              "width": 0.5
             },
             "pattern": {
              "fillmode": "overlay",
              "size": 10,
              "solidity": 0.2
             }
            },
            "type": "bar"
           }
          ],
          "barpolar": [
           {
            "marker": {
             "line": {
              "color": "#E5ECF6",
              "width": 0.5
             },
             "pattern": {
              "fillmode": "overlay",
              "size": 10,
              "solidity": 0.2
             }
            },
            "type": "barpolar"
           }
          ],
          "carpet": [
           {
            "aaxis": {
             "endlinecolor": "#2a3f5f",
             "gridcolor": "white",
             "linecolor": "white",
             "minorgridcolor": "white",
             "startlinecolor": "#2a3f5f"
            },
            "baxis": {
             "endlinecolor": "#2a3f5f",
             "gridcolor": "white",
             "linecolor": "white",
             "minorgridcolor": "white",
             "startlinecolor": "#2a3f5f"
            },
            "type": "carpet"
           }
          ],
          "choropleth": [
           {
            "colorbar": {
             "outlinewidth": 0,
             "ticks": ""
            },
            "type": "choropleth"
           }
          ],
          "contour": [
           {
            "colorbar": {
             "outlinewidth": 0,
             "ticks": ""
            },
            "colorscale": [
             [
              0,
              "#0d0887"
             ],
             [
              0.1111111111111111,
              "#46039f"
             ],
             [
              0.2222222222222222,
              "#7201a8"
             ],
             [
              0.3333333333333333,
              "#9c179e"
             ],
             [
              0.4444444444444444,
              "#bd3786"
             ],
             [
              0.5555555555555556,
              "#d8576b"
             ],
             [
              0.6666666666666666,
              "#ed7953"
             ],
             [
              0.7777777777777778,
              "#fb9f3a"
             ],
             [
              0.8888888888888888,
              "#fdca26"
             ],
             [
              1,
              "#f0f921"
             ]
            ],
            "type": "contour"
           }
          ],
          "contourcarpet": [
           {
            "colorbar": {
             "outlinewidth": 0,
             "ticks": ""
            },
            "type": "contourcarpet"
           }
          ],
          "heatmap": [
           {
            "colorbar": {
             "outlinewidth": 0,
             "ticks": ""
            },
            "colorscale": [
             [
              0,
              "#0d0887"
             ],
             [
              0.1111111111111111,
              "#46039f"
             ],
             [
              0.2222222222222222,
              "#7201a8"
             ],
             [
              0.3333333333333333,
              "#9c179e"
             ],
             [
              0.4444444444444444,
              "#bd3786"
             ],
             [
              0.5555555555555556,
              "#d8576b"
             ],
             [
              0.6666666666666666,
              "#ed7953"
             ],
             [
              0.7777777777777778,
              "#fb9f3a"
             ],
             [
              0.8888888888888888,
              "#fdca26"
             ],
             [
              1,
              "#f0f921"
             ]
            ],
            "type": "heatmap"
           }
          ],
          "heatmapgl": [
           {
            "colorbar": {
             "outlinewidth": 0,
             "ticks": ""
            },
            "colorscale": [
             [
              0,
              "#0d0887"
             ],
             [
              0.1111111111111111,
              "#46039f"
             ],
             [
              0.2222222222222222,
              "#7201a8"
             ],
             [
              0.3333333333333333,
              "#9c179e"
             ],
             [
              0.4444444444444444,
              "#bd3786"
             ],
             [
              0.5555555555555556,
              "#d8576b"
             ],
             [
              0.6666666666666666,
              "#ed7953"
             ],
             [
              0.7777777777777778,
              "#fb9f3a"
             ],
             [
              0.8888888888888888,
              "#fdca26"
             ],
             [
              1,
              "#f0f921"
             ]
            ],
            "type": "heatmapgl"
           }
          ],
          "histogram": [
           {
            "marker": {
             "pattern": {
              "fillmode": "overlay",
              "size": 10,
              "solidity": 0.2
             }
            },
            "type": "histogram"
           }
          ],
          "histogram2d": [
           {
            "colorbar": {
             "outlinewidth": 0,
             "ticks": ""
            },
            "colorscale": [
             [
              0,
              "#0d0887"
             ],
             [
              0.1111111111111111,
              "#46039f"
             ],
             [
              0.2222222222222222,
              "#7201a8"
             ],
             [
              0.3333333333333333,
              "#9c179e"
             ],
             [
              0.4444444444444444,
              "#bd3786"
             ],
             [
              0.5555555555555556,
              "#d8576b"
             ],
             [
              0.6666666666666666,
              "#ed7953"
             ],
             [
              0.7777777777777778,
              "#fb9f3a"
             ],
             [
              0.8888888888888888,
              "#fdca26"
             ],
             [
              1,
              "#f0f921"
             ]
            ],
            "type": "histogram2d"
           }
          ],
          "histogram2dcontour": [
           {
            "colorbar": {
             "outlinewidth": 0,
             "ticks": ""
            },
            "colorscale": [
             [
              0,
              "#0d0887"
             ],
             [
              0.1111111111111111,
              "#46039f"
             ],
             [
              0.2222222222222222,
              "#7201a8"
             ],
             [
              0.3333333333333333,
              "#9c179e"
             ],
             [
              0.4444444444444444,
              "#bd3786"
             ],
             [
              0.5555555555555556,
              "#d8576b"
             ],
             [
              0.6666666666666666,
              "#ed7953"
             ],
             [
              0.7777777777777778,
              "#fb9f3a"
             ],
             [
              0.8888888888888888,
              "#fdca26"
             ],
             [
              1,
              "#f0f921"
             ]
            ],
            "type": "histogram2dcontour"
           }
          ],
          "mesh3d": [
           {
            "colorbar": {
             "outlinewidth": 0,
             "ticks": ""
            },
            "type": "mesh3d"
           }
          ],
          "parcoords": [
           {
            "line": {
             "colorbar": {
              "outlinewidth": 0,
              "ticks": ""
             }
            },
            "type": "parcoords"
           }
          ],
          "pie": [
           {
            "automargin": true,
            "type": "pie"
           }
          ],
          "scatter": [
           {
            "fillpattern": {
             "fillmode": "overlay",
             "size": 10,
             "solidity": 0.2
            },
            "type": "scatter"
           }
          ],
          "scatter3d": [
           {
            "line": {
             "colorbar": {
              "outlinewidth": 0,
              "ticks": ""
             }
            },
            "marker": {
             "colorbar": {
              "outlinewidth": 0,
              "ticks": ""
             }
            },
            "type": "scatter3d"
           }
          ],
          "scattercarpet": [
           {
            "marker": {
             "colorbar": {
              "outlinewidth": 0,
              "ticks": ""
             }
            },
            "type": "scattercarpet"
           }
          ],
          "scattergeo": [
           {
            "marker": {
             "colorbar": {
              "outlinewidth": 0,
              "ticks": ""
             }
            },
            "type": "scattergeo"
           }
          ],
          "scattergl": [
           {
            "marker": {
             "colorbar": {
              "outlinewidth": 0,
              "ticks": ""
             }
            },
            "type": "scattergl"
           }
          ],
          "scattermapbox": [
           {
            "marker": {
             "colorbar": {
              "outlinewidth": 0,
              "ticks": ""
             }
            },
            "type": "scattermapbox"
           }
          ],
          "scatterpolar": [
           {
            "marker": {
             "colorbar": {
              "outlinewidth": 0,
              "ticks": ""
             }
            },
            "type": "scatterpolar"
           }
          ],
          "scatterpolargl": [
           {
            "marker": {
             "colorbar": {
              "outlinewidth": 0,
              "ticks": ""
             }
            },
            "type": "scatterpolargl"
           }
          ],
          "scatterternary": [
           {
            "marker": {
             "colorbar": {
              "outlinewidth": 0,
              "ticks": ""
             }
            },
            "type": "scatterternary"
           }
          ],
          "surface": [
           {
            "colorbar": {
             "outlinewidth": 0,
             "ticks": ""
            },
            "colorscale": [
             [
              0,
              "#0d0887"
             ],
             [
              0.1111111111111111,
              "#46039f"
             ],
             [
              0.2222222222222222,
              "#7201a8"
             ],
             [
              0.3333333333333333,
              "#9c179e"
             ],
             [
              0.4444444444444444,
              "#bd3786"
             ],
             [
              0.5555555555555556,
              "#d8576b"
             ],
             [
              0.6666666666666666,
              "#ed7953"
             ],
             [
              0.7777777777777778,
              "#fb9f3a"
             ],
             [
              0.8888888888888888,
              "#fdca26"
             ],
             [
              1,
              "#f0f921"
             ]
            ],
            "type": "surface"
           }
          ],
          "table": [
           {
            "cells": {
             "fill": {
              "color": "#EBF0F8"
             },
             "line": {
              "color": "white"
             }
            },
            "header": {
             "fill": {
              "color": "#C8D4E3"
             },
             "line": {
              "color": "white"
             }
            },
            "type": "table"
           }
          ]
         },
         "layout": {
          "annotationdefaults": {
           "arrowcolor": "#2a3f5f",
           "arrowhead": 0,
           "arrowwidth": 1
          },
          "autotypenumbers": "strict",
          "coloraxis": {
           "colorbar": {
            "outlinewidth": 0,
            "ticks": ""
           }
          },
          "colorscale": {
           "diverging": [
            [
             0,
             "#8e0152"
            ],
            [
             0.1,
             "#c51b7d"
            ],
            [
             0.2,
             "#de77ae"
            ],
            [
             0.3,
             "#f1b6da"
            ],
            [
             0.4,
             "#fde0ef"
            ],
            [
             0.5,
             "#f7f7f7"
            ],
            [
             0.6,
             "#e6f5d0"
            ],
            [
             0.7,
             "#b8e186"
            ],
            [
             0.8,
             "#7fbc41"
            ],
            [
             0.9,
             "#4d9221"
            ],
            [
             1,
             "#276419"
            ]
           ],
           "sequential": [
            [
             0,
             "#0d0887"
            ],
            [
             0.1111111111111111,
             "#46039f"
            ],
            [
             0.2222222222222222,
             "#7201a8"
            ],
            [
             0.3333333333333333,
             "#9c179e"
            ],
            [
             0.4444444444444444,
             "#bd3786"
            ],
            [
             0.5555555555555556,
             "#d8576b"
            ],
            [
             0.6666666666666666,
             "#ed7953"
            ],
            [
             0.7777777777777778,
             "#fb9f3a"
            ],
            [
             0.8888888888888888,
             "#fdca26"
            ],
            [
             1,
             "#f0f921"
            ]
           ],
           "sequentialminus": [
            [
             0,
             "#0d0887"
            ],
            [
             0.1111111111111111,
             "#46039f"
            ],
            [
             0.2222222222222222,
             "#7201a8"
            ],
            [
             0.3333333333333333,
             "#9c179e"
            ],
            [
             0.4444444444444444,
             "#bd3786"
            ],
            [
             0.5555555555555556,
             "#d8576b"
            ],
            [
             0.6666666666666666,
             "#ed7953"
            ],
            [
             0.7777777777777778,
             "#fb9f3a"
            ],
            [
             0.8888888888888888,
             "#fdca26"
            ],
            [
             1,
             "#f0f921"
            ]
           ]
          },
          "colorway": [
           "#636efa",
           "#EF553B",
           "#00cc96",
           "#ab63fa",
           "#FFA15A",
           "#19d3f3",
           "#FF6692",
           "#B6E880",
           "#FF97FF",
           "#FECB52"
          ],
          "font": {
           "color": "#2a3f5f"
          },
          "geo": {
           "bgcolor": "white",
           "lakecolor": "white",
           "landcolor": "#E5ECF6",
           "showlakes": true,
           "showland": true,
           "subunitcolor": "white"
          },
          "hoverlabel": {
           "align": "left"
          },
          "hovermode": "closest",
          "mapbox": {
           "style": "light"
          },
          "paper_bgcolor": "white",
          "plot_bgcolor": "#E5ECF6",
          "polar": {
           "angularaxis": {
            "gridcolor": "white",
            "linecolor": "white",
            "ticks": ""
           },
           "bgcolor": "#E5ECF6",
           "radialaxis": {
            "gridcolor": "white",
            "linecolor": "white",
            "ticks": ""
           }
          },
          "scene": {
           "xaxis": {
            "backgroundcolor": "#E5ECF6",
            "gridcolor": "white",
            "gridwidth": 2,
            "linecolor": "white",
            "showbackground": true,
            "ticks": "",
            "zerolinecolor": "white"
           },
           "yaxis": {
            "backgroundcolor": "#E5ECF6",
            "gridcolor": "white",
            "gridwidth": 2,
            "linecolor": "white",
            "showbackground": true,
            "ticks": "",
            "zerolinecolor": "white"
           },
           "zaxis": {
            "backgroundcolor": "#E5ECF6",
            "gridcolor": "white",
            "gridwidth": 2,
            "linecolor": "white",
            "showbackground": true,
            "ticks": "",
            "zerolinecolor": "white"
           }
          },
          "shapedefaults": {
           "line": {
            "color": "#2a3f5f"
           }
          },
          "ternary": {
           "aaxis": {
            "gridcolor": "white",
            "linecolor": "white",
            "ticks": ""
           },
           "baxis": {
            "gridcolor": "white",
            "linecolor": "white",
            "ticks": ""
           },
           "bgcolor": "#E5ECF6",
           "caxis": {
            "gridcolor": "white",
            "linecolor": "white",
            "ticks": ""
           }
          },
          "title": {
           "x": 0.05
          },
          "xaxis": {
           "automargin": true,
           "gridcolor": "white",
           "linecolor": "white",
           "ticks": "",
           "title": {
            "standoff": 15
           },
           "zerolinecolor": "white",
           "zerolinewidth": 2
          },
          "yaxis": {
           "automargin": true,
           "gridcolor": "white",
           "linecolor": "white",
           "ticks": "",
           "title": {
            "standoff": 15
           },
           "zerolinecolor": "white",
           "zerolinewidth": 2
          }
         }
        },
        "title": {
         "text": "Confusion Matrix @ 0.5<br>diagnosis",
         "x": 0.5,
         "xref": "paper"
        },
        "xaxis": {
         "constrain": "domain",
         "range": [
          0,
          3
         ],
         "showgrid": false,
         "showline": false,
         "ticktext": [
          0,
          1
         ],
         "tickvals": [
          0.5,
          1.5
         ],
         "title": {
          "text": "Predicted label"
         },
         "zeroline": false
        },
        "yaxis": {
         "range": [
          0,
          3
         ],
         "scaleanchor": "x",
         "scaleratio": 1,
         "showgrid": false,
         "showline": false,
         "ticktext": [
          1,
          0
         ],
         "tickvals": [
          1.5,
          2.5
         ],
         "title": {
          "text": "True label"
         },
         "zeroline": false
        }
       }
      },
      "text/html": [
       "<div>                            <div id=\"5af7866f-8438-4837-87b2-49db7c044b14\" class=\"plotly-graph-div\" style=\"height:525px; width:100%;\"></div>            <script type=\"text/javascript\">                require([\"plotly\"], function(Plotly) {                    window.PLOTLYENV=window.PLOTLYENV || {};                                    if (document.getElementById(\"5af7866f-8438-4837-87b2-49db7c044b14\")) {                    Plotly.newPlot(                        \"5af7866f-8438-4837-87b2-49db7c044b14\",                        [{\"hoverinfo\":\"text\",\"hovertext\":[\"True label: 1<br>Predicted label: 0<br>Count: 1\",\"True label: 1<br>Predicted label: 1<br>Count: 86\",\"True label: 0<br>Predicted label: 0<br>Count: 24\",\"True label: 0<br>Predicted label: 1<br>Count: 2\",\"<b>Predicted label: 0</b><br>Count: 25<br>NPV: 96.00%\",\"<b>Predicted label: 1</b><br>Count: 88<br>PPV: 97.73%\",\"<b>True label: 0</b><br>Count: 26<br>Specificity: 92.31%\",\"<b>True label: 1</b><br>Count: 87<br>Sensitivity: 98.85%\",\"<b>Total</b><br>Count: 113<br>Accuracy: 97.35%\"],\"mode\":\"text\",\"text\":[\"<b>1</b>\",\"<b>86</b>\",\"<b>24</b>\",\"<b>2</b>\",\"<b>25</b><br>96.00%\",\"<b>88</b><br>97.73%\",\"<b>26</b><br>92.31%\",\"<b>87</b><br>98.85%\",\"<b>113</b><br>97.35%\"],\"textfont\":{\"color\":[\"rgb(8,48,107)\",\"rgb(248,252,256)\",\"rgb(248,252,256)\",\"rgb(8,48,107)\",\"White\",\"White\",\"White\",\"White\",\"White\"]},\"x\":[0.5,1.5,0.5,1.5,0.5,1.5,2.5,2.5,2.5],\"y\":[1.5,1.5,2.5,2.5,0.5,0.5,2.5,1.5,0.5],\"type\":\"scatter\"}],                        {\"template\":{\"data\":{\"histogram2dcontour\":[{\"type\":\"histogram2dcontour\",\"colorbar\":{\"outlinewidth\":0,\"ticks\":\"\"},\"colorscale\":[[0.0,\"#0d0887\"],[0.1111111111111111,\"#46039f\"],[0.2222222222222222,\"#7201a8\"],[0.3333333333333333,\"#9c179e\"],[0.4444444444444444,\"#bd3786\"],[0.5555555555555556,\"#d8576b\"],[0.6666666666666666,\"#ed7953\"],[0.7777777777777778,\"#fb9f3a\"],[0.8888888888888888,\"#fdca26\"],[1.0,\"#f0f921\"]]}],\"choropleth\":[{\"type\":\"choropleth\",\"colorbar\":{\"outlinewidth\":0,\"ticks\":\"\"}}],\"histogram2d\":[{\"type\":\"histogram2d\",\"colorbar\":{\"outlinewidth\":0,\"ticks\":\"\"},\"colorscale\":[[0.0,\"#0d0887\"],[0.1111111111111111,\"#46039f\"],[0.2222222222222222,\"#7201a8\"],[0.3333333333333333,\"#9c179e\"],[0.4444444444444444,\"#bd3786\"],[0.5555555555555556,\"#d8576b\"],[0.6666666666666666,\"#ed7953\"],[0.7777777777777778,\"#fb9f3a\"],[0.8888888888888888,\"#fdca26\"],[1.0,\"#f0f921\"]]}],\"heatmap\":[{\"type\":\"heatmap\",\"colorbar\":{\"outlinewidth\":0,\"ticks\":\"\"},\"colorscale\":[[0.0,\"#0d0887\"],[0.1111111111111111,\"#46039f\"],[0.2222222222222222,\"#7201a8\"],[0.3333333333333333,\"#9c179e\"],[0.4444444444444444,\"#bd3786\"],[0.5555555555555556,\"#d8576b\"],[0.6666666666666666,\"#ed7953\"],[0.7777777777777778,\"#fb9f3a\"],[0.8888888888888888,\"#fdca26\"],[1.0,\"#f0f921\"]]}],\"heatmapgl\":[{\"type\":\"heatmapgl\",\"colorbar\":{\"outlinewidth\":0,\"ticks\":\"\"},\"colorscale\":[[0.0,\"#0d0887\"],[0.1111111111111111,\"#46039f\"],[0.2222222222222222,\"#7201a8\"],[0.3333333333333333,\"#9c179e\"],[0.4444444444444444,\"#bd3786\"],[0.5555555555555556,\"#d8576b\"],[0.6666666666666666,\"#ed7953\"],[0.7777777777777778,\"#fb9f3a\"],[0.8888888888888888,\"#fdca26\"],[1.0,\"#f0f921\"]]}],\"contourcarpet\":[{\"type\":\"contourcarpet\",\"colorbar\":{\"outlinewidth\":0,\"ticks\":\"\"}}],\"contour\":[{\"type\":\"contour\",\"colorbar\":{\"outlinewidth\":0,\"ticks\":\"\"},\"colorscale\":[[0.0,\"#0d0887\"],[0.1111111111111111,\"#46039f\"],[0.2222222222222222,\"#7201a8\"],[0.3333333333333333,\"#9c179e\"],[0.4444444444444444,\"#bd3786\"],[0.5555555555555556,\"#d8576b\"],[0.6666666666666666,\"#ed7953\"],[0.7777777777777778,\"#fb9f3a\"],[0.8888888888888888,\"#fdca26\"],[1.0,\"#f0f921\"]]}],\"surface\":[{\"type\":\"surface\",\"colorbar\":{\"outlinewidth\":0,\"ticks\":\"\"},\"colorscale\":[[0.0,\"#0d0887\"],[0.1111111111111111,\"#46039f\"],[0.2222222222222222,\"#7201a8\"],[0.3333333333333333,\"#9c179e\"],[0.4444444444444444,\"#bd3786\"],[0.5555555555555556,\"#d8576b\"],[0.6666666666666666,\"#ed7953\"],[0.7777777777777778,\"#fb9f3a\"],[0.8888888888888888,\"#fdca26\"],[1.0,\"#f0f921\"]]}],\"mesh3d\":[{\"type\":\"mesh3d\",\"colorbar\":{\"outlinewidth\":0,\"ticks\":\"\"}}],\"scatter\":[{\"fillpattern\":{\"fillmode\":\"overlay\",\"size\":10,\"solidity\":0.2},\"type\":\"scatter\"}],\"parcoords\":[{\"type\":\"parcoords\",\"line\":{\"colorbar\":{\"outlinewidth\":0,\"ticks\":\"\"}}}],\"scatterpolargl\":[{\"type\":\"scatterpolargl\",\"marker\":{\"colorbar\":{\"outlinewidth\":0,\"ticks\":\"\"}}}],\"bar\":[{\"error_x\":{\"color\":\"#2a3f5f\"},\"error_y\":{\"color\":\"#2a3f5f\"},\"marker\":{\"line\":{\"color\":\"#E5ECF6\",\"width\":0.5},\"pattern\":{\"fillmode\":\"overlay\",\"size\":10,\"solidity\":0.2}},\"type\":\"bar\"}],\"scattergeo\":[{\"type\":\"scattergeo\",\"marker\":{\"colorbar\":{\"outlinewidth\":0,\"ticks\":\"\"}}}],\"scatterpolar\":[{\"type\":\"scatterpolar\",\"marker\":{\"colorbar\":{\"outlinewidth\":0,\"ticks\":\"\"}}}],\"histogram\":[{\"marker\":{\"pattern\":{\"fillmode\":\"overlay\",\"size\":10,\"solidity\":0.2}},\"type\":\"histogram\"}],\"scattergl\":[{\"type\":\"scattergl\",\"marker\":{\"colorbar\":{\"outlinewidth\":0,\"ticks\":\"\"}}}],\"scatter3d\":[{\"type\":\"scatter3d\",\"line\":{\"colorbar\":{\"outlinewidth\":0,\"ticks\":\"\"}},\"marker\":{\"colorbar\":{\"outlinewidth\":0,\"ticks\":\"\"}}}],\"scattermapbox\":[{\"type\":\"scattermapbox\",\"marker\":{\"colorbar\":{\"outlinewidth\":0,\"ticks\":\"\"}}}],\"scatterternary\":[{\"type\":\"scatterternary\",\"marker\":{\"colorbar\":{\"outlinewidth\":0,\"ticks\":\"\"}}}],\"scattercarpet\":[{\"type\":\"scattercarpet\",\"marker\":{\"colorbar\":{\"outlinewidth\":0,\"ticks\":\"\"}}}],\"carpet\":[{\"aaxis\":{\"endlinecolor\":\"#2a3f5f\",\"gridcolor\":\"white\",\"linecolor\":\"white\",\"minorgridcolor\":\"white\",\"startlinecolor\":\"#2a3f5f\"},\"baxis\":{\"endlinecolor\":\"#2a3f5f\",\"gridcolor\":\"white\",\"linecolor\":\"white\",\"minorgridcolor\":\"white\",\"startlinecolor\":\"#2a3f5f\"},\"type\":\"carpet\"}],\"table\":[{\"cells\":{\"fill\":{\"color\":\"#EBF0F8\"},\"line\":{\"color\":\"white\"}},\"header\":{\"fill\":{\"color\":\"#C8D4E3\"},\"line\":{\"color\":\"white\"}},\"type\":\"table\"}],\"barpolar\":[{\"marker\":{\"line\":{\"color\":\"#E5ECF6\",\"width\":0.5},\"pattern\":{\"fillmode\":\"overlay\",\"size\":10,\"solidity\":0.2}},\"type\":\"barpolar\"}],\"pie\":[{\"automargin\":true,\"type\":\"pie\"}]},\"layout\":{\"autotypenumbers\":\"strict\",\"colorway\":[\"#636efa\",\"#EF553B\",\"#00cc96\",\"#ab63fa\",\"#FFA15A\",\"#19d3f3\",\"#FF6692\",\"#B6E880\",\"#FF97FF\",\"#FECB52\"],\"font\":{\"color\":\"#2a3f5f\"},\"hovermode\":\"closest\",\"hoverlabel\":{\"align\":\"left\"},\"paper_bgcolor\":\"white\",\"plot_bgcolor\":\"#E5ECF6\",\"polar\":{\"bgcolor\":\"#E5ECF6\",\"angularaxis\":{\"gridcolor\":\"white\",\"linecolor\":\"white\",\"ticks\":\"\"},\"radialaxis\":{\"gridcolor\":\"white\",\"linecolor\":\"white\",\"ticks\":\"\"}},\"ternary\":{\"bgcolor\":\"#E5ECF6\",\"aaxis\":{\"gridcolor\":\"white\",\"linecolor\":\"white\",\"ticks\":\"\"},\"baxis\":{\"gridcolor\":\"white\",\"linecolor\":\"white\",\"ticks\":\"\"},\"caxis\":{\"gridcolor\":\"white\",\"linecolor\":\"white\",\"ticks\":\"\"}},\"coloraxis\":{\"colorbar\":{\"outlinewidth\":0,\"ticks\":\"\"}},\"colorscale\":{\"sequential\":[[0.0,\"#0d0887\"],[0.1111111111111111,\"#46039f\"],[0.2222222222222222,\"#7201a8\"],[0.3333333333333333,\"#9c179e\"],[0.4444444444444444,\"#bd3786\"],[0.5555555555555556,\"#d8576b\"],[0.6666666666666666,\"#ed7953\"],[0.7777777777777778,\"#fb9f3a\"],[0.8888888888888888,\"#fdca26\"],[1.0,\"#f0f921\"]],\"sequentialminus\":[[0.0,\"#0d0887\"],[0.1111111111111111,\"#46039f\"],[0.2222222222222222,\"#7201a8\"],[0.3333333333333333,\"#9c179e\"],[0.4444444444444444,\"#bd3786\"],[0.5555555555555556,\"#d8576b\"],[0.6666666666666666,\"#ed7953\"],[0.7777777777777778,\"#fb9f3a\"],[0.8888888888888888,\"#fdca26\"],[1.0,\"#f0f921\"]],\"diverging\":[[0,\"#8e0152\"],[0.1,\"#c51b7d\"],[0.2,\"#de77ae\"],[0.3,\"#f1b6da\"],[0.4,\"#fde0ef\"],[0.5,\"#f7f7f7\"],[0.6,\"#e6f5d0\"],[0.7,\"#b8e186\"],[0.8,\"#7fbc41\"],[0.9,\"#4d9221\"],[1,\"#276419\"]]},\"xaxis\":{\"gridcolor\":\"white\",\"linecolor\":\"white\",\"ticks\":\"\",\"title\":{\"standoff\":15},\"zerolinecolor\":\"white\",\"automargin\":true,\"zerolinewidth\":2},\"yaxis\":{\"gridcolor\":\"white\",\"linecolor\":\"white\",\"ticks\":\"\",\"title\":{\"standoff\":15},\"zerolinecolor\":\"white\",\"automargin\":true,\"zerolinewidth\":2},\"scene\":{\"xaxis\":{\"backgroundcolor\":\"#E5ECF6\",\"gridcolor\":\"white\",\"linecolor\":\"white\",\"showbackground\":true,\"ticks\":\"\",\"zerolinecolor\":\"white\",\"gridwidth\":2},\"yaxis\":{\"backgroundcolor\":\"#E5ECF6\",\"gridcolor\":\"white\",\"linecolor\":\"white\",\"showbackground\":true,\"ticks\":\"\",\"zerolinecolor\":\"white\",\"gridwidth\":2},\"zaxis\":{\"backgroundcolor\":\"#E5ECF6\",\"gridcolor\":\"white\",\"linecolor\":\"white\",\"showbackground\":true,\"ticks\":\"\",\"zerolinecolor\":\"white\",\"gridwidth\":2}},\"shapedefaults\":{\"line\":{\"color\":\"#2a3f5f\"}},\"annotationdefaults\":{\"arrowcolor\":\"#2a3f5f\",\"arrowhead\":0,\"arrowwidth\":1},\"geo\":{\"bgcolor\":\"white\",\"landcolor\":\"#E5ECF6\",\"subunitcolor\":\"white\",\"showland\":true,\"showlakes\":true,\"lakecolor\":\"white\"},\"title\":{\"x\":0.05},\"mapbox\":{\"style\":\"light\"}}},\"xaxis\":{\"range\":[0,3],\"showgrid\":false,\"title\":{\"text\":\"Predicted label\"},\"ticktext\":[0,1],\"tickvals\":[0.5,1.5],\"showline\":false,\"zeroline\":false,\"constrain\":\"domain\"},\"yaxis\":{\"range\":[0,3],\"showgrid\":false,\"title\":{\"text\":\"True label\"},\"ticktext\":[1,0],\"tickvals\":[1.5,2.5],\"scaleanchor\":\"x\",\"scaleratio\":1,\"showline\":false,\"zeroline\":false},\"title\":{\"text\":\"Confusion Matrix @ 0.5<br>diagnosis\",\"x\":0.5,\"xref\":\"paper\"},\"shapes\":[{\"fillcolor\":\"rgb(8,68,137)\",\"layer\":\"below\",\"line\":{\"color\":\"White\",\"width\":1},\"type\":\"rect\",\"x0\":0,\"x1\":1,\"y0\":3,\"y1\":2},{\"fillcolor\":\"rgb(233,242,251)\",\"layer\":\"below\",\"line\":{\"color\":\"White\",\"width\":1},\"type\":\"rect\",\"x0\":1,\"x1\":2,\"y0\":3,\"y1\":2},{\"fillcolor\":\"rgb(246,251,255)\",\"layer\":\"below\",\"line\":{\"color\":\"White\",\"width\":1},\"type\":\"rect\",\"x0\":0,\"x1\":1,\"y0\":2,\"y1\":1},{\"fillcolor\":\"rgb(8,50,111)\",\"layer\":\"below\",\"line\":{\"color\":\"White\",\"width\":1},\"type\":\"rect\",\"x0\":1,\"x1\":2,\"y0\":2,\"y1\":1},{\"fillcolor\":\"DarkGray\",\"layer\":\"below\",\"line\":{\"color\":\"White\",\"width\":1},\"type\":\"rect\",\"x0\":0,\"x1\":1,\"y0\":0,\"y1\":1},{\"fillcolor\":\"DarkGray\",\"layer\":\"below\",\"line\":{\"color\":\"White\",\"width\":1},\"type\":\"rect\",\"x0\":2,\"x1\":3,\"y0\":1,\"y1\":2},{\"fillcolor\":\"DarkGray\",\"layer\":\"below\",\"line\":{\"color\":\"White\",\"width\":1},\"type\":\"rect\",\"x0\":1,\"x1\":2,\"y0\":0,\"y1\":1},{\"fillcolor\":\"DarkGray\",\"layer\":\"below\",\"line\":{\"color\":\"White\",\"width\":1},\"type\":\"rect\",\"x0\":2,\"x1\":3,\"y0\":2,\"y1\":3},{\"fillcolor\":\"Gray\",\"layer\":\"below\",\"line\":{\"color\":\"White\",\"width\":1},\"type\":\"rect\",\"x0\":2,\"x1\":3,\"y0\":0,\"y1\":1}],\"hovermode\":\"closest\"},                        {\"responsive\": true}                    ).then(function(){\n",
       "                            \n",
       "var gd = document.getElementById('5af7866f-8438-4837-87b2-49db7c044b14');\n",
       "var x = new MutationObserver(function (mutations, observer) {{\n",
       "        var display = window.getComputedStyle(gd).display;\n",
       "        if (!display || display === 'none') {{\n",
       "            console.log([gd, 'removed!']);\n",
       "            Plotly.purge(gd);\n",
       "            observer.disconnect();\n",
       "        }}\n",
       "}});\n",
       "\n",
       "// Listen for the removal of the full notebook cells\n",
       "var notebookContainer = gd.closest('#notebook-container');\n",
       "if (notebookContainer) {{\n",
       "    x.observe(notebookContainer, {childList: true});\n",
       "}}\n",
       "\n",
       "// Listen for the clearing of the current output cell\n",
       "var outputEl = gd.closest('.output');\n",
       "if (outputEl) {{\n",
       "    x.observe(outputEl, {childList: true});\n",
       "}}\n",
       "\n",
       "                        })                };                });            </script>        </div>"
      ]
     },
     "metadata": {},
     "output_type": "display_data"
    }
   ],
   "source": [
    "figures['confusion_matrix']"
   ]
  },
  {
   "cell_type": "markdown",
   "id": "a2d18511",
   "metadata": {},
   "source": [
    "**NOTE**<br>\n",
    "Every static Matplotlib figure that can be created in CaTabRa's main data analysis workflow has an interactive plotly analogue, and vice versa. This includes training history plots, model performance plots and feature importance plots."
   ]
  }
 ],
 "metadata": {
  "kernelspec": {
   "display_name": "Python 3 (ipykernel)",
   "language": "python",
   "name": "python3"
  },
  "language_info": {
   "codemirror_mode": {
    "name": "ipython",
    "version": 3
   },
   "file_extension": ".py",
   "mimetype": "text/x-python",
   "name": "python",
   "nbconvert_exporter": "python",
   "pygments_lexer": "ipython3",
   "version": "3.9.7"
  }
 },
 "nbformat": 4,
 "nbformat_minor": 5
}
